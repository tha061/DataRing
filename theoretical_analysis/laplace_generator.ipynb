{
 "cells": [
  {
   "cell_type": "code",
   "execution_count": 1,
   "metadata": {},
   "outputs": [],
   "source": [
    "import pandas as pd\n",
    "import numpy as np\n",
    "from numpy import linalg as la\n",
    "import matplotlib.pyplot as plot\n",
    "import seaborn as sns\n",
    "import scipy\n",
    "import math\n",
    "#from statsmodels.distributions.empirical_distribution import ECDF\n",
    "from functools import reduce\n",
    "from random import sample\n",
    "# import dill\n",
    "import os\n",
    "%matplotlib inline\n",
    "sns.set(style=\"ticks\")"
   ]
  },
  {
   "cell_type": "code",
   "execution_count": 2,
   "metadata": {},
   "outputs": [
    {
     "name": "stdout",
     "output_type": "stream",
     "text": [
      "1.3880027675556748\n",
      "-8.120566639366931\n",
      "-15.957262626612975\n",
      "2.133501374456582\n",
      "-8.228614875180257\n",
      "-4.529168826509162\n",
      "13.494052790730233\n",
      "-0.10232178622155708\n",
      "13.373921986092817\n",
      "17.085807756911162\n",
      "-3.2568005187566778\n"
     ]
    }
   ],
   "source": [
    "from math import log\n",
    "from random import random\n",
    "\n",
    "def exp_sample(mean): \n",
    "    return -mean*log(random())\n",
    "\n",
    "def laplace(scale):\n",
    "    e1 = exp_sample(scale)\n",
    "    e2 = exp_sample(scale)\n",
    "    return e1 - e2\n",
    "\n",
    "for i in range(11):\n",
    "    temp = laplace(10)\n",
    "    print(temp)"
   ]
  },
  {
   "cell_type": "code",
   "execution_count": 28,
   "metadata": {},
   "outputs": [
    {
     "name": "stdout",
     "output_type": "stream",
     "text": [
      "noise =  -34.050245599842725\n",
      "noise =  -10.193720921786909\n",
      "noise =  66.11570394687817\n",
      "noise =  -23.532126852118104\n",
      "noise =  5.012482696597406\n",
      "noise =  7.438473303200224\n",
      "noise =  42.874657539536294\n",
      "noise =  -0.33011690553015427\n",
      "noise =  -22.853778229367506\n",
      "noise =  13.54531481191986\n",
      "noise =  25.09094813573531\n"
     ]
    }
   ],
   "source": [
    "from math import log\n",
    "from random import random\n",
    "\n",
    "def exp_sample(mean): \n",
    "    return -mean*log(1.0 - random())\n",
    "\n",
    "def laplace(scale):\n",
    "    e1 = exp_sample(scale)\n",
    "    e2 = exp_sample(scale)\n",
    "    return e1 - e2\n",
    "\n",
    "budget_party = 0.5\n",
    "overall_budget = 2*budget_party #for Server as well\n",
    "no_answer = 20\n",
    "epsilon = overall_budget/no_answer\n",
    "sensitivity = 1\n",
    "scale = sensitivity/epsilon\n",
    "for i in range(11):\n",
    "    temp = laplace(scale)\n",
    "    print(\"noise = \", temp)"
   ]
  },
  {
   "cell_type": "code",
   "execution_count": 27,
   "metadata": {},
   "outputs": [
    {
     "data": {
      "text/plain": [
       "-0.02862375260692624"
      ]
     },
     "execution_count": 27,
     "metadata": {},
     "output_type": "execute_result"
    }
   ],
   "source": [
    "scale = 1/20\n",
    "laplace(scale)"
   ]
  },
  {
   "cell_type": "code",
   "execution_count": 3,
   "metadata": {},
   "outputs": [
    {
     "name": "stdout",
     "output_type": "stream",
     "text": [
      "Query noise: -39.94309698071988 39.943096980719865\n",
      "Test noise: -39.94309698071988 39.943096980719865\n"
     ]
    }
   ],
   "source": [
    "# DP Laplace noise\n",
    "Q = 10\n",
    "T = 10\n",
    "budget = 1.5\n",
    "epsilon_Q = budget/(Q+T)\n",
    "epsilon_T = epsilon_Q\n",
    "sensitivity = 1.0 # count\n",
    "# sensitivity = 5000 # sum\n",
    "\n",
    "laplace_quantile = 0.05 # we set max_noise s.t. 99% of Laplace distribution is in [-max_noise, max_noise]\n",
    "Q_noise_rv = scipy.stats.laplace(loc=0, scale=sensitivity/epsilon_Q)\n",
    "Q_max_noise = Q_noise_rv.ppf(1-(laplace_quantile/2)) # 99% of Laplace noise is < max_noise\n",
    "Q_min_noise = Q_noise_rv.ppf(laplace_quantile/2)  # 99% of Laplace noise is > min_noise\n",
    "Q_min_noise, Q_max_noise\n",
    "\n",
    "T_noise_rv = scipy.stats.laplace(loc=0, scale=sensitivity/epsilon_T)\n",
    "T_max_noise = T_noise_rv.ppf(1-(laplace_quantile/2)) # 99% of Laplace noise is < max_noise\n",
    "T_min_noise = T_noise_rv.ppf(laplace_quantile/2)  # 99% of Laplace noise is > min_noise\n",
    "\n",
    "print(\"Query noise:\", Q_min_noise, Q_max_noise)\n",
    "print(\"Test noise:\", T_min_noise, T_max_noise)\n"
   ]
  },
  {
   "cell_type": "code",
   "execution_count": 3,
   "metadata": {},
   "outputs": [
    {
     "name": "stdout",
     "output_type": "stream",
     "text": [
      "Query noise: -14379.514913059156 14379.514913059153\n",
      "Test noise: -7189.757456529578 7189.757456529576\n"
     ]
    }
   ],
   "source": [
    "# DP Laplace noise\n",
    "Q = 20\n",
    "T = 10\n",
    "budget = 1\n",
    "epsilon_Q = budget/(Q+2*T)\n",
    "epsilon_T = 2*epsilon_Q\n",
    "# sensitivity = 1.0 # count\n",
    "# sensitivity = 1000000000 # maximum incomce\n",
    "sensitivity = 120 # maximum age\n",
    "\n",
    "laplace_quantile = 0.05 # we set max_noise s.t. 99% of Laplace distribution is in [-max_noise, max_noise]\n",
    "Q_noise_rv = scipy.stats.laplace(loc=0, scale=sensitivity/epsilon_Q)\n",
    "Q_max_noise = Q_noise_rv.ppf(1-(laplace_quantile/2)) # 99% of Laplace noise is < max_noise\n",
    "Q_min_noise = Q_noise_rv.ppf(laplace_quantile/2)  # 99% of Laplace noise is > min_noise\n",
    "Q_min_noise, Q_max_noise\n",
    "\n",
    "T_noise_rv = scipy.stats.laplace(loc=0, scale=sensitivity/epsilon_T)\n",
    "T_max_noise = T_noise_rv.ppf(1-(laplace_quantile/2)) # 99% of Laplace noise is < max_noise\n",
    "T_min_noise = T_noise_rv.ppf(laplace_quantile/2)  # 99% of Laplace noise is > min_noise\n",
    "\n",
    "print(\"Query noise:\", Q_min_noise, Q_max_noise)\n",
    "print(\"Test noise:\", T_min_noise, T_max_noise)\n"
   ]
  },
  {
   "cell_type": "code",
   "execution_count": null,
   "metadata": {},
   "outputs": [],
   "source": []
  }
 ],
 "metadata": {
  "kernelspec": {
   "display_name": "Python 3",
   "language": "python",
   "name": "python3"
  },
  "language_info": {
   "codemirror_mode": {
    "name": "ipython",
    "version": 3
   },
   "file_extension": ".py",
   "mimetype": "text/x-python",
   "name": "python",
   "nbconvert_exporter": "python",
   "pygments_lexer": "ipython3",
   "version": "3.7.4"
  }
 },
 "nbformat": 4,
 "nbformat_minor": 2
}
