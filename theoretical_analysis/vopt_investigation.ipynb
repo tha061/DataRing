{
 "cells": [
  {
   "cell_type": "code",
   "execution_count": 1,
   "metadata": {},
   "outputs": [],
   "source": [
    "import pandas as pd\n",
    "import numpy as np\n",
    "from numpy import linalg as la\n",
    "import matplotlib.pyplot as plot\n",
    "import seaborn as sns\n",
    "import scipy\n",
    "import math\n",
    "from statsmodels.distributions.empirical_distribution import ECDF\n",
    "from functools import reduce\n",
    "from random import sample\n",
    "# import dill\n",
    "%matplotlib inline\n",
    "sns.set(style=\"ticks\")"
   ]
  },
  {
   "cell_type": "code",
   "execution_count": null,
   "metadata": {},
   "outputs": [],
   "source": []
  },
  {
   "cell_type": "code",
   "execution_count": 3,
   "metadata": {},
   "outputs": [],
   "source": [
    "def isin_row(df, record, cols=None):\n",
    "    cols = cols or df.columns\n",
    "    return reduce(lambda x, y:x&y, [df[f].isin([record[f]]) for f in cols]).any()"
   ]
  },
  {
   "cell_type": "code",
   "execution_count": 4,
   "metadata": {},
   "outputs": [],
   "source": [
    "attributes_list = ['loan_amnt', 'home_ownership', 'term']\n",
    "\n",
    "def parse_home_ownership(v):\n",
    "    if v == 'RENT':\n",
    "        return 0\n",
    "    elif v == 'MORTGAGE':\n",
    "        return 10\n",
    "    elif v == 'OWN':\n",
    "        return 20\n",
    "    elif v == 'ANY':\n",
    "        return 30\n",
    "    elif v == 'OTHER':\n",
    "        return 40\n",
    "    elif v == 'NONE':\n",
    "        return 90\n",
    "    else:\n",
    "        raise ValueError('Unknown home ownership ' + v)\n",
    "\n",
    "def parse_term(v):\n",
    "    spl = v.strip().split(' ', 1)\n",
    "    if spl[1] != 'months':\n",
    "        raise ValueError('Unknown term ' + v)\n",
    "    return spl[0]\n",
    "\n",
    "attributes_shapings = dict([])\n",
    "#attributes_shapings['grade'] = lambda v: ord(v)\n",
    "attributes_shapings['home_ownership'] = parse_home_ownership\n",
    "attributes_shapings['term'] = parse_term\n",
    "#attributes_shapings['int_rate'] = lambda v: int(100.0*v)\n",
    "\n",
    "\n"
   ]
  },
  {
   "cell_type": "code",
   "execution_count": 5,
   "metadata": {},
   "outputs": [
    {
     "name": "stderr",
     "output_type": "stream",
     "text": [
      "C:\\THAMNGUYEN\\MQwork\\anaconda\\lib\\site-packages\\IPython\\core\\interactiveshell.py:3020: DtypeWarning: Columns (112,123,124,125,128,129,130,133,139,140,141) have mixed types. Specify dtype option on import or set low_memory=False.\n",
      "  interactivity=interactivity, compiler=compiler, result=result)\n"
     ]
    }
   ],
   "source": [
    "n = 500000\n",
    "\n",
    "realdata = pd.read_csv('../input/lending-club-loan-data/loan.csv', nrows=n, header=0)\n",
    "realdata = realdata[attributes_list].dropna()\n",
    "\n",
    "for k, v in attributes_shapings.items():\n",
    "    realdata[k] = realdata[k].apply(v)\n",
    "\n",
    "realdata = realdata.astype(np.int64)\n",
    "\n",
    "realdata.loc[:, 'id'] = pd.Series([k for k in range(realdata.shape[0])], index=realdata.index)\n",
    "attributes_list.append('id')"
   ]
  },
  {
   "cell_type": "code",
   "execution_count": 6,
   "metadata": {},
   "outputs": [
    {
     "data": {
      "text/html": [
       "<div>\n",
       "<style scoped>\n",
       "    .dataframe tbody tr th:only-of-type {\n",
       "        vertical-align: middle;\n",
       "    }\n",
       "\n",
       "    .dataframe tbody tr th {\n",
       "        vertical-align: top;\n",
       "    }\n",
       "\n",
       "    .dataframe thead th {\n",
       "        text-align: right;\n",
       "    }\n",
       "</style>\n",
       "<table border=\"1\" class=\"dataframe\">\n",
       "  <thead>\n",
       "    <tr style=\"text-align: right;\">\n",
       "      <th></th>\n",
       "      <th>loan_amnt</th>\n",
       "      <th>home_ownership</th>\n",
       "      <th>term</th>\n",
       "      <th>id</th>\n",
       "    </tr>\n",
       "  </thead>\n",
       "  <tbody>\n",
       "    <tr>\n",
       "      <th>0</th>\n",
       "      <td>2500</td>\n",
       "      <td>0</td>\n",
       "      <td>36</td>\n",
       "      <td>0</td>\n",
       "    </tr>\n",
       "    <tr>\n",
       "      <th>1</th>\n",
       "      <td>30000</td>\n",
       "      <td>10</td>\n",
       "      <td>60</td>\n",
       "      <td>1</td>\n",
       "    </tr>\n",
       "    <tr>\n",
       "      <th>2</th>\n",
       "      <td>5000</td>\n",
       "      <td>10</td>\n",
       "      <td>36</td>\n",
       "      <td>2</td>\n",
       "    </tr>\n",
       "    <tr>\n",
       "      <th>3</th>\n",
       "      <td>4000</td>\n",
       "      <td>10</td>\n",
       "      <td>36</td>\n",
       "      <td>3</td>\n",
       "    </tr>\n",
       "    <tr>\n",
       "      <th>4</th>\n",
       "      <td>30000</td>\n",
       "      <td>10</td>\n",
       "      <td>60</td>\n",
       "      <td>4</td>\n",
       "    </tr>\n",
       "  </tbody>\n",
       "</table>\n",
       "</div>"
      ],
      "text/plain": [
       "   loan_amnt  home_ownership  term  id\n",
       "0       2500               0    36   0\n",
       "1      30000              10    60   1\n",
       "2       5000              10    36   2\n",
       "3       4000              10    36   3\n",
       "4      30000              10    60   4"
      ]
     },
     "execution_count": 6,
     "metadata": {},
     "output_type": "execute_result"
    }
   ],
   "source": [
    "realdata.head()"
   ]
  },
  {
   "cell_type": "code",
   "execution_count": 7,
   "metadata": {},
   "outputs": [
    {
     "data": {
      "text/html": [
       "<div>\n",
       "<style scoped>\n",
       "    .dataframe tbody tr th:only-of-type {\n",
       "        vertical-align: middle;\n",
       "    }\n",
       "\n",
       "    .dataframe tbody tr th {\n",
       "        vertical-align: top;\n",
       "    }\n",
       "\n",
       "    .dataframe thead th {\n",
       "        text-align: right;\n",
       "    }\n",
       "</style>\n",
       "<table border=\"1\" class=\"dataframe\">\n",
       "  <thead>\n",
       "    <tr style=\"text-align: right;\">\n",
       "      <th></th>\n",
       "      <th>count</th>\n",
       "      <th>mean</th>\n",
       "      <th>std</th>\n",
       "      <th>min</th>\n",
       "      <th>25%</th>\n",
       "      <th>50%</th>\n",
       "      <th>75%</th>\n",
       "      <th>max</th>\n",
       "    </tr>\n",
       "  </thead>\n",
       "  <tbody>\n",
       "    <tr>\n",
       "      <th>loan_amnt</th>\n",
       "      <td>500000.0</td>\n",
       "      <td>16006.670650</td>\n",
       "      <td>10131.255236</td>\n",
       "      <td>1000.0</td>\n",
       "      <td>8000.00</td>\n",
       "      <td>14000.0</td>\n",
       "      <td>22000.00</td>\n",
       "      <td>40000.0</td>\n",
       "    </tr>\n",
       "    <tr>\n",
       "      <th>home_ownership</th>\n",
       "      <td>500000.0</td>\n",
       "      <td>7.290100</td>\n",
       "      <td>6.680743</td>\n",
       "      <td>0.0</td>\n",
       "      <td>0.00</td>\n",
       "      <td>10.0</td>\n",
       "      <td>10.00</td>\n",
       "      <td>30.0</td>\n",
       "    </tr>\n",
       "    <tr>\n",
       "      <th>term</th>\n",
       "      <td>500000.0</td>\n",
       "      <td>43.282032</td>\n",
       "      <td>11.033631</td>\n",
       "      <td>36.0</td>\n",
       "      <td>36.00</td>\n",
       "      <td>36.0</td>\n",
       "      <td>60.00</td>\n",
       "      <td>60.0</td>\n",
       "    </tr>\n",
       "    <tr>\n",
       "      <th>id</th>\n",
       "      <td>500000.0</td>\n",
       "      <td>249999.500000</td>\n",
       "      <td>144337.711634</td>\n",
       "      <td>0.0</td>\n",
       "      <td>124999.75</td>\n",
       "      <td>249999.5</td>\n",
       "      <td>374999.25</td>\n",
       "      <td>499999.0</td>\n",
       "    </tr>\n",
       "  </tbody>\n",
       "</table>\n",
       "</div>"
      ],
      "text/plain": [
       "                   count           mean            std     min        25%  \\\n",
       "loan_amnt       500000.0   16006.670650   10131.255236  1000.0    8000.00   \n",
       "home_ownership  500000.0       7.290100       6.680743     0.0       0.00   \n",
       "term            500000.0      43.282032      11.033631    36.0      36.00   \n",
       "id              500000.0  249999.500000  144337.711634     0.0  124999.75   \n",
       "\n",
       "                     50%        75%       max  \n",
       "loan_amnt        14000.0   22000.00   40000.0  \n",
       "home_ownership      10.0      10.00      30.0  \n",
       "term                36.0      60.00      60.0  \n",
       "id              249999.5  374999.25  499999.0  "
      ]
     },
     "execution_count": 7,
     "metadata": {},
     "output_type": "execute_result"
    }
   ],
   "source": [
    "realdata.describe().transpose()"
   ]
  },
  {
   "cell_type": "code",
   "execution_count": 12,
   "metadata": {},
   "outputs": [
    {
     "data": {
      "text/plain": [
       "loan_amnt           1559\n",
       "home_ownership         4\n",
       "term                   2\n",
       "id                500000\n",
       "dtype: int64"
      ]
     },
     "execution_count": 12,
     "metadata": {},
     "output_type": "execute_result"
    }
   ],
   "source": [
    "realdata.nunique()"
   ]
  },
  {
   "cell_type": "code",
   "execution_count": 8,
   "metadata": {},
   "outputs": [],
   "source": [
    "\n",
    "\n",
    "def sample_records(df, records_count):\n",
    "    n = df.shape[0]\n",
    "    L = records_count\n",
    "    known_records_indexes = sample(range(n), k=L)\n",
    "    known_records = df.iloc[known_records_indexes,:]\n",
    "    return (known_records_indexes, known_records)\n",
    "\n",
    "def count_present_records(df, known_records):\n",
    "    records_present = 0\n",
    "    for i in range(len(known_records)):\n",
    "        rec = known_records.iloc[i,:]\n",
    "        if isin_row(df, rec):\n",
    "            records_present += 1\n",
    "    return records_present\n",
    "\n",
    "def count_present_records_distinguish(df, known_records, known_records_indexes):\n",
    "    records_occurrences = dict([])\n",
    "    for i in range(len(known_records)):\n",
    "        rec = known_records.iloc[i,:]\n",
    "        records_occurrences[known_records_indexes[i]] = 0\n",
    "        if isin_row(df, rec):\n",
    "            records_occurrences[known_records_indexes[i]] += 1\n",
    "    return records_occurrences\n",
    "\n",
    "def check_pass_test(df, known_records):\n",
    "    for i in range(len(known_records)):\n",
    "        rec = known_records.iloc[i,:]\n",
    "        if not isin_row(df, rec):\n",
    "            return False\n",
    "    return True"
   ]
  },
  {
   "cell_type": "markdown",
   "metadata": {},
   "source": [
    "# Success probability vs degree of honesty"
   ]
  },
  {
   "cell_type": "code",
   "execution_count": 2,
   "metadata": {},
   "outputs": [],
   "source": [
    "def get_vopt(n, L, V, eta, theta):\n",
    "    '''\n",
    "    Evaluate vopt assuming validity of Poisson approximation.\n",
    "    '''\n",
    "    r0 = int(scipy.stats.hypergeom.isf(eta, n, L, V))\n",
    "    r0\n",
    "    if r0 == 0:\n",
    "        return 0\n",
    "    print('ro = ', r0)\n",
    "    return int(math.ceil((n/(2*L))*\\\n",
    "                         scipy.stats.chi2.ppf(theta, 2*r0)))"
   ]
  },
  {
   "cell_type": "code",
   "execution_count": null,
   "metadata": {},
   "outputs": [],
   "source": []
  },
  {
   "cell_type": "code",
   "execution_count": 3,
   "metadata": {},
   "outputs": [],
   "source": [
    "def get_vopt_chi2(n, L, V, r0, theta):   \n",
    "    return int(math.ceil((n/(2*L))*\\\n",
    "                         scipy.stats.chi2.ppf(theta, 2*r0)))"
   ]
  },
  {
   "cell_type": "code",
   "execution_count": 4,
   "metadata": {},
   "outputs": [],
   "source": [
    "def get_xmin(n, V, vopt, theta):\n",
    "    return int(math.ceil((n/(2*V))*\\\n",
    "                         scipy.stats.chi2.ppf(theta, 2*vopt)))"
   ]
  },
  {
   "cell_type": "code",
   "execution_count": 5,
   "metadata": {
    "scrolled": true
   },
   "outputs": [
    {
     "name": "stdout",
     "output_type": "stream",
     "text": [
      "\n",
      "theta =  0.9\n",
      "ro =  1\n",
      "vopt =  23026\n",
      "nopt =  290259\n",
      "\n",
      "theta =  0.91\n",
      "ro =  1\n",
      "vopt =  24080\n",
      "nopt =  303604\n",
      "\n",
      "theta =  0.92\n",
      "ro =  1\n",
      "vopt =  25258\n",
      "nopt =  318521\n",
      "\n",
      "theta =  0.93\n",
      "ro =  1\n",
      "vopt =  26593\n",
      "nopt =  335426\n",
      "\n",
      "theta =  0.94\n",
      "ro =  1\n",
      "vopt =  28135\n",
      "nopt =  354954\n",
      "\n",
      "theta =  0.95\n",
      "ro =  1\n",
      "vopt =  29958\n",
      "nopt =  378041\n",
      "\n",
      "theta =  0.96\n",
      "ro =  1\n",
      "vopt =  32189\n",
      "nopt =  406298\n",
      "\n",
      "theta =  0.97\n",
      "ro =  1\n",
      "vopt =  35066\n",
      "nopt =  442739\n",
      "\n",
      "theta =  0.98\n",
      "ro =  1\n",
      "vopt =  39121\n",
      "nopt =  494104\n",
      "\n",
      "theta =  0.99\n",
      "ro =  1\n",
      "vopt =  46052\n",
      "nopt =  581909\n",
      "v_opt = [23026, 24080, 25258, 26593, 28135, 29958, 32189, 35066, 39121, 46052]\n",
      "nopt = [290259, 303604, 318521, 335426, 354954, 378041, 406298, 442739, 494104, 581909]\n",
      "V =  40000\n"
     ]
    }
   ],
   "source": [
    "n = 500000\n",
    "V = int(n*0.08)\n",
    "L = 50\n",
    "eta = 0.95\n",
    "thetas = [0.90,0.91,0.92,0.93,0.94,0.95,0.96,0.97,0.98,0.99]\n",
    "vopt = []\n",
    "nopt = []\n",
    "for theta in thetas:\n",
    "    print('\\ntheta = ', theta)\n",
    "    temp = get_vopt(n,L,V,eta,theta)\n",
    "    vopt.append(temp)\n",
    "    print('vopt = ', temp)\n",
    "    nopt_tmp = get_xmin(n, V, temp, theta)\n",
    "    nopt.append(nopt_tmp)\n",
    "    print('nopt = ', nopt_tmp)\n",
    "    \n",
    "print('v_opt =', vopt)\n",
    "print('nopt =', nopt)\n",
    "print('V = ', V)"
   ]
  },
  {
   "cell_type": "code",
   "execution_count": 9,
   "metadata": {},
   "outputs": [
    {
     "name": "stdout",
     "output_type": "stream",
     "text": [
      "\n",
      "theta =  0.9\n",
      "ro =  2\n",
      "vopt =  38898\n",
      "nopt =  391510\n",
      "\n",
      "theta =  0.91\n",
      "ro =  2\n",
      "vopt =  40218\n",
      "nopt =  404872\n",
      "\n",
      "theta =  0.92\n",
      "ro =  2\n",
      "vopt =  41683\n",
      "nopt =  419702\n",
      "\n",
      "theta =  0.93\n",
      "ro =  2\n",
      "vopt =  43333\n",
      "nopt =  436407\n",
      "\n",
      "theta =  0.94\n",
      "ro =  2\n",
      "vopt =  45222\n",
      "nopt =  455532\n",
      "\n",
      "theta =  0.95\n",
      "ro =  2\n",
      "vopt =  47439\n",
      "nopt =  477979\n",
      "\n",
      "theta =  0.96\n",
      "ro =  2\n",
      "vopt =  50128\n",
      "nopt =  505207\n",
      "\n",
      "theta =  0.97\n",
      "ro =  2\n",
      "vopt =  53560\n",
      "nopt =  539962\n",
      "\n",
      "theta =  0.98\n",
      "ro =  2\n",
      "vopt =  58340\n",
      "nopt =  588372\n",
      "\n",
      "theta =  0.99\n",
      "ro =  2\n",
      "vopt =  66384\n",
      "nopt =  669849\n",
      "v_opt = [38898, 40218, 41683, 43333, 45222, 47439, 50128, 53560, 58340, 66384]\n",
      "nopt = [391510, 404872, 419702, 436407, 455532, 477979, 505207, 539962, 588372, 669849]\n",
      "V =  50000\n"
     ]
    }
   ],
   "source": [
    "n = 500000\n",
    "V = int(n*0.1)\n",
    "L = 50\n",
    "eta = 0.95\n",
    "thetas = [0.90,0.91,0.92,0.93,0.94,0.95,0.96,0.97,0.98,0.99]\n",
    "vopt = []\n",
    "nopt = []\n",
    "for theta in thetas:\n",
    "    print('\\ntheta = ', theta)\n",
    "    temp = get_vopt(n,L,V,eta,theta)\n",
    "    vopt.append(temp)\n",
    "    print('vopt = ', temp)\n",
    "    nopt_tmp = get_xmin(n, V, temp, theta)\n",
    "    nopt.append(nopt_tmp)\n",
    "    print('nopt = ', nopt_tmp)\n",
    "    \n",
    "print('v_opt =', vopt)\n",
    "print('nopt =', nopt)\n",
    "print('V = ', V)"
   ]
  },
  {
   "cell_type": "code",
   "execution_count": 6,
   "metadata": {
    "scrolled": true
   },
   "outputs": [
    {
     "name": "stdout",
     "output_type": "stream",
     "text": [
      "\n",
      "theta =  0.9\n",
      "ro =  1\n",
      "vopt =  115130\n",
      "nopt =  444481\n",
      "\n",
      "theta =  0.91\n",
      "ro =  1\n",
      "vopt =  120398\n",
      "nopt =  464860\n",
      "\n",
      "theta =  0.92\n",
      "ro =  1\n",
      "vopt =  126287\n",
      "nopt =  487641\n",
      "\n",
      "theta =  0.93\n",
      "ro =  1\n",
      "vopt =  132964\n",
      "nopt =  513472\n",
      "\n",
      "theta =  0.94\n",
      "ro =  1\n",
      "vopt =  140671\n",
      "nopt =  543287\n",
      "\n",
      "theta =  0.95\n",
      "ro =  1\n",
      "vopt =  149787\n",
      "nopt =  578555\n",
      "\n",
      "theta =  0.96\n",
      "ro =  1\n",
      "vopt =  160944\n",
      "nopt =  621720\n",
      "\n",
      "theta =  0.97\n",
      "ro =  1\n",
      "vopt =  175328\n",
      "nopt =  677371\n",
      "\n",
      "theta =  0.98\n",
      "ro =  1\n",
      "vopt =  195602\n",
      "nopt =  755814\n",
      "\n",
      "theta =  0.99\n",
      "ro =  1\n",
      "vopt =  230259\n",
      "nopt =  889911\n",
      "v_opt = [115130, 120398, 126287, 132964, 140671, 149787, 160944, 175328, 195602, 230259]\n",
      "nopt = [444481, 464860, 487641, 513472, 543287, 578555, 621720, 677371, 755814, 889911]\n",
      "V =  130000\n"
     ]
    }
   ],
   "source": [
    "n = 500000\n",
    "V = int(n*0.26)\n",
    "L = 10\n",
    "eta = 0.95\n",
    "thetas = [0.90,0.91,0.92,0.93,0.94,0.95,0.96,0.97,0.98,0.99]\n",
    "vopt = []\n",
    "nopt = []\n",
    "for theta in thetas:\n",
    "    print('\\ntheta = ', theta)\n",
    "    temp = get_vopt(n,L,V,eta,theta)\n",
    "    vopt.append(temp)\n",
    "    print('vopt = ', temp)\n",
    "    nopt_tmp = get_xmin(n, V, temp, theta)\n",
    "    nopt.append(nopt_tmp)\n",
    "    print('nopt = ', nopt_tmp)\n",
    "    \n",
    "print('v_opt =', vopt)\n",
    "print('nopt =', nopt)\n",
    "print('V = ', V)"
   ]
  },
  {
   "cell_type": "code",
   "execution_count": 8,
   "metadata": {},
   "outputs": [
    {
     "name": "stdout",
     "output_type": "stream",
     "text": [
      "\n",
      "theta =  0.9\n",
      "ro =  1\n",
      "vopt =  115130\n",
      "nopt =  446198\n",
      "\n",
      "theta =  0.91\n",
      "ro =  1\n",
      "vopt =  120398\n",
      "nopt =  466655\n",
      "\n",
      "theta =  0.92\n",
      "ro =  1\n",
      "vopt =  126287\n",
      "nopt =  489524\n",
      "\n",
      "theta =  0.93\n",
      "ro =  1\n",
      "vopt =  132964\n",
      "nopt =  515454\n",
      "\n",
      "theta =  0.94\n",
      "ro =  1\n",
      "vopt =  140671\n",
      "nopt =  545385\n",
      "\n",
      "theta =  0.95\n",
      "ro =  1\n",
      "vopt =  149787\n",
      "nopt =  580789\n",
      "\n",
      "theta =  0.96\n",
      "ro =  1\n",
      "vopt =  160944\n",
      "nopt =  624120\n",
      "\n",
      "theta =  0.97\n",
      "ro =  1\n",
      "vopt =  175328\n",
      "nopt =  679987\n",
      "\n",
      "theta =  0.98\n",
      "ro =  1\n",
      "vopt =  195602\n",
      "nopt =  758732\n",
      "\n",
      "theta =  0.99\n",
      "ro =  1\n",
      "vopt =  230259\n",
      "nopt =  893347\n",
      "v_opt = [115130, 120398, 126287, 132964, 140671, 149787, 160944, 175328, 195602, 230259]\n",
      "nopt = [446198, 466655, 489524, 515454, 545385, 580789, 624120, 679987, 758732, 893347]\n",
      "V =  129500\n"
     ]
    }
   ],
   "source": [
    "n = 500000\n",
    "V = int(n*0.259)\n",
    "L = 10\n",
    "eta = 0.95\n",
    "thetas = [0.90,0.91,0.92,0.93,0.94,0.95,0.96,0.97,0.98,0.99]\n",
    "vopt = []\n",
    "nopt = []\n",
    "for theta in thetas:\n",
    "    print('\\ntheta = ', theta)\n",
    "    temp = get_vopt(n,L,V,eta,theta)\n",
    "    vopt.append(temp)\n",
    "    print('vopt = ', temp)\n",
    "    nopt_tmp = get_xmin(n, V, temp, theta)\n",
    "    nopt.append(nopt_tmp)\n",
    "    print('nopt = ', nopt_tmp)\n",
    "    \n",
    "print('v_opt =', vopt)\n",
    "print('nopt =', nopt)\n",
    "print('V = ', V)"
   ]
  },
  {
   "cell_type": "code",
   "execution_count": 35,
   "metadata": {},
   "outputs": [
    {
     "name": "stdout",
     "output_type": "stream",
     "text": [
      "theta =  0.9\n",
      "ro =  -1\n"
     ]
    },
    {
     "ename": "ValueError",
     "evalue": "cannot convert float NaN to integer",
     "output_type": "error",
     "traceback": [
      "\u001b[1;31m---------------------------------------------------------------------------\u001b[0m",
      "\u001b[1;31mValueError\u001b[0m                                Traceback (most recent call last)",
      "\u001b[1;32m<ipython-input-35-b53d5f0bd022>\u001b[0m in \u001b[0;36m<module>\u001b[1;34m\u001b[0m\n\u001b[0;32m      8\u001b[0m \u001b[1;32mfor\u001b[0m \u001b[0mtheta\u001b[0m \u001b[1;32min\u001b[0m \u001b[0mthetas\u001b[0m\u001b[1;33m:\u001b[0m\u001b[1;33m\u001b[0m\u001b[1;33m\u001b[0m\u001b[0m\n\u001b[0;32m      9\u001b[0m     \u001b[0mprint\u001b[0m\u001b[1;33m(\u001b[0m\u001b[1;34m'theta = '\u001b[0m\u001b[1;33m,\u001b[0m \u001b[0mtheta\u001b[0m\u001b[1;33m)\u001b[0m\u001b[1;33m\u001b[0m\u001b[1;33m\u001b[0m\u001b[0m\n\u001b[1;32m---> 10\u001b[1;33m     \u001b[0mtemp\u001b[0m \u001b[1;33m=\u001b[0m \u001b[0mget_vopt\u001b[0m\u001b[1;33m(\u001b[0m\u001b[0mn\u001b[0m\u001b[1;33m,\u001b[0m\u001b[0mL\u001b[0m\u001b[1;33m,\u001b[0m\u001b[0mV\u001b[0m\u001b[1;33m,\u001b[0m\u001b[0meta\u001b[0m\u001b[1;33m,\u001b[0m\u001b[0mtheta\u001b[0m\u001b[1;33m)\u001b[0m\u001b[1;33m\u001b[0m\u001b[1;33m\u001b[0m\u001b[0m\n\u001b[0m\u001b[0;32m     11\u001b[0m     \u001b[0mvopt\u001b[0m\u001b[1;33m.\u001b[0m\u001b[0mappend\u001b[0m\u001b[1;33m(\u001b[0m\u001b[0mtemp\u001b[0m\u001b[1;33m)\u001b[0m\u001b[1;33m\u001b[0m\u001b[1;33m\u001b[0m\u001b[0m\n\u001b[0;32m     12\u001b[0m     \u001b[0mprint\u001b[0m\u001b[1;33m(\u001b[0m\u001b[1;34m'vopt = '\u001b[0m\u001b[1;33m,\u001b[0m \u001b[0mtemp\u001b[0m\u001b[1;33m)\u001b[0m\u001b[1;33m\u001b[0m\u001b[1;33m\u001b[0m\u001b[0m\n",
      "\u001b[1;32m<ipython-input-34-92f27416591d>\u001b[0m in \u001b[0;36mget_vopt\u001b[1;34m(n, L, V, eta, theta)\u001b[0m\n\u001b[0;32m      9\u001b[0m     \u001b[0mprint\u001b[0m\u001b[1;33m(\u001b[0m\u001b[1;34m'ro = '\u001b[0m\u001b[1;33m,\u001b[0m \u001b[0mr0\u001b[0m\u001b[1;33m)\u001b[0m\u001b[1;33m\u001b[0m\u001b[1;33m\u001b[0m\u001b[0m\n\u001b[0;32m     10\u001b[0m     return int(math.ceil((n/(2*L))*\\\n\u001b[1;32m---> 11\u001b[1;33m                          scipy.stats.chi2.ppf(theta, 2*r0)))\n\u001b[0m",
      "\u001b[1;31mValueError\u001b[0m: cannot convert float NaN to integer"
     ]
    }
   ],
   "source": [
    "n = 500000\n",
    "V = 5000\n",
    "L = 1000\n",
    "eta = 1\n",
    "thetas = [0.90,0.91,0.92,0.93,0.94,0.95,0.96,0.97,0.98,0.99]\n",
    "vopt = []\n",
    "nopt = []\n",
    "for theta in thetas:\n",
    "    print('theta = ', theta)\n",
    "    temp = get_vopt(n,L,V,eta,theta)\n",
    "    vopt.append(temp)\n",
    "    print('vopt = ', temp)\n",
    "    nopt_tmp = get_xmin(n, V, temp, theta)\n",
    "    nopt.append(nopt_tmp)\n",
    "    print('nopt = ', nopt_tmp)\n",
    "    \n",
    "print('v_opt =', vopt)\n",
    "print('nopt =', nopt)"
   ]
  },
  {
   "cell_type": "code",
   "execution_count": 6,
   "metadata": {},
   "outputs": [
    {
     "name": "stdout",
     "output_type": "stream",
     "text": [
      "ro =  5\n",
      "vopt =  3997\n",
      "nopt =  407824\n"
     ]
    }
   ],
   "source": [
    "n = 500000\n",
    "V = 5000\n",
    "L = 1000\n",
    "eta = 0.95\n",
    "theta = 0.9\n",
    "vopt = get_vopt(n,L,V,eta,theta)\n",
    "print('vopt = ', vopt)\n",
    "nopt = get_xmin(n, V, vopt, theta)\n",
    "print('nopt = ', nopt)"
   ]
  },
  {
   "cell_type": "code",
   "execution_count": 19,
   "metadata": {
    "scrolled": true
   },
   "outputs": [
    {
     "name": "stdout",
     "output_type": "stream",
     "text": [
      "ro =  5\n",
      "vopt =  4189\n",
      "nopt =  428027\n"
     ]
    }
   ],
   "source": [
    "n = 500000\n",
    "V = 5000\n",
    "L = 1000\n",
    "eta = 0.95\n",
    "theta = 0.92\n",
    "vopt = get_vopt(n,L,V,eta,theta)\n",
    "print('vopt = ', vopt)\n",
    "nopt = get_xmin(n, V, vopt, theta)\n",
    "print('nopt = ', nopt)"
   ]
  },
  {
   "cell_type": "code",
   "execution_count": 20,
   "metadata": {},
   "outputs": [
    {
     "name": "stdout",
     "output_type": "stream",
     "text": [
      "ro =  5\n",
      "vopt =  4429\n",
      "nopt =  453295\n"
     ]
    }
   ],
   "source": [
    "n = 500000\n",
    "V = 5000\n",
    "L = 1000\n",
    "eta = 0.95\n",
    "theta = 0.94\n",
    "vopt = get_vopt(n,L,V,eta,theta)\n",
    "print('vopt = ', vopt)\n",
    "nopt = get_xmin(n, V, vopt, theta)\n",
    "print('nopt = ', nopt)"
   ]
  },
  {
   "cell_type": "code",
   "execution_count": 21,
   "metadata": {},
   "outputs": [
    {
     "name": "stdout",
     "output_type": "stream",
     "text": [
      "ro =  5\n",
      "vopt =  4577\n",
      "nopt =  468885\n"
     ]
    }
   ],
   "source": [
    "n = 500000\n",
    "V = 5000\n",
    "L = 1000\n",
    "eta = 0.95\n",
    "theta = 0.95\n",
    "vopt = get_vopt(n,L,V,eta,theta)\n",
    "print('vopt = ', vopt)\n",
    "nopt = get_xmin(n, V, vopt, theta)\n",
    "print('nopt = ', nopt)"
   ]
  },
  {
   "cell_type": "code",
   "execution_count": 22,
   "metadata": {},
   "outputs": [
    {
     "name": "stdout",
     "output_type": "stream",
     "text": [
      "ro =  5\n",
      "vopt =  4756\n",
      "nopt =  487742\n"
     ]
    }
   ],
   "source": [
    "n = 500000\n",
    "V = 5000\n",
    "L = 1000\n",
    "eta = 0.95\n",
    "theta = 0.96\n",
    "vopt = get_vopt(n,L,V,eta,theta)\n",
    "print('vopt = ', vopt)\n",
    "nopt = get_xmin(n, V, vopt, theta)\n",
    "print('nopt = ', nopt)"
   ]
  },
  {
   "cell_type": "code",
   "execution_count": 23,
   "metadata": {},
   "outputs": [
    {
     "name": "stdout",
     "output_type": "stream",
     "text": [
      "ro =  5\n",
      "vopt =  4981\n",
      "nopt =  511459\n"
     ]
    }
   ],
   "source": [
    "n = 500000\n",
    "V = 5000\n",
    "L = 1000\n",
    "eta = 0.95\n",
    "theta = 0.97\n",
    "vopt = get_vopt(n,L,V,eta,theta)\n",
    "print('vopt = ', vopt)\n",
    "nopt = get_xmin(n, V, vopt, theta)\n",
    "print('nopt = ', nopt)"
   ]
  },
  {
   "cell_type": "code",
   "execution_count": 24,
   "metadata": {},
   "outputs": [
    {
     "name": "stdout",
     "output_type": "stream",
     "text": [
      "ro =  5\n",
      "vopt =  5291\n",
      "nopt =  544146\n"
     ]
    }
   ],
   "source": [
    "n = 500000\n",
    "V = 5000\n",
    "L = 1000\n",
    "eta = 0.95\n",
    "theta = 0.98\n",
    "vopt = get_vopt(n,L,V,eta,theta)\n",
    "print('vopt = ', vopt)\n",
    "nopt = get_xmin(n, V, vopt, theta)\n",
    "print('nopt = ', nopt)"
   ]
  },
  {
   "cell_type": "code",
   "execution_count": 25,
   "metadata": {},
   "outputs": [
    {
     "name": "stdout",
     "output_type": "stream",
     "text": [
      "ro =  5\n",
      "vopt =  5803\n",
      "nopt =  598169\n"
     ]
    }
   ],
   "source": [
    "n = 500000\n",
    "V = 5000\n",
    "L = 1000\n",
    "eta = 0.95\n",
    "theta = 0.99\n",
    "vopt = get_vopt(n,L,V,eta,theta)\n",
    "print('vopt = ', vopt)\n",
    "nopt = get_xmin(n, V, vopt, theta)\n",
    "print('nopt = ', nopt)"
   ]
  },
  {
   "cell_type": "code",
   "execution_count": null,
   "metadata": {},
   "outputs": [],
   "source": []
  },
  {
   "cell_type": "code",
   "execution_count": 7,
   "metadata": {},
   "outputs": [
    {
     "name": "stdout",
     "output_type": "stream",
     "text": [
      "ro =  5\n",
      "vopt =  4756\n",
      "nopt =  487742\n"
     ]
    }
   ],
   "source": [
    "n = 500000\n",
    "V = 5000\n",
    "L = 1000\n",
    "eta = 0.95\n",
    "theta = 0.96\n",
    "vopt = get_vopt(n,L,V,eta,theta)\n",
    "print('vopt = ', vopt)\n",
    "nopt = get_xmin(n, V, vopt, theta)\n",
    "print('nopt = ', nopt)"
   ]
  },
  {
   "cell_type": "code",
   "execution_count": 8,
   "metadata": {},
   "outputs": [
    {
     "name": "stdout",
     "output_type": "stream",
     "text": [
      "ro =  5\n",
      "vopt =  5291\n",
      "nopt =  544146\n"
     ]
    }
   ],
   "source": [
    "n = 500000\n",
    "V = 5000\n",
    "L = 1000\n",
    "eta = 0.95\n",
    "theta = 0.98\n",
    "vopt = get_vopt(n,L,V,eta,theta)\n",
    "print('vopt = ', vopt)\n",
    "nopt = get_xmin(n, V, vopt, theta)\n",
    "print('nopt = ', nopt)"
   ]
  },
  {
   "cell_type": "code",
   "execution_count": 10,
   "metadata": {},
   "outputs": [
    {
     "data": {
      "text/plain": [
       "0.93777"
      ]
     },
     "execution_count": 10,
     "metadata": {},
     "output_type": "execute_result"
    }
   ],
   "source": [
    "nopt/n"
   ]
  },
  {
   "cell_type": "code",
   "execution_count": null,
   "metadata": {},
   "outputs": [],
   "source": []
  },
  {
   "cell_type": "code",
   "execution_count": 18,
   "metadata": {},
   "outputs": [],
   "source": [
    "def get_vopt_hyper(n,L,V,r0,theta):\n",
    "    vs = [v for v in range(0, V+1000)]\n",
    "    vopt = min(v for v in vs if scipy.stats.hypergeom.sf(r0-1, n, L, v) >= theta)\n",
    "    return vopt\n"
   ]
  },
  {
   "cell_type": "code",
   "execution_count": 19,
   "metadata": {},
   "outputs": [],
   "source": [
    "def get_nopt_hyper(n,V,vopt,theta):\n",
    "    nxs = [nx for nx in range(vopt, n+100)]\n",
    "    nopt = min(nx for nx in nxs if scipy.stats.hypergeom.sf(vopt-1, n, V,nx) >= theta)\n",
    "    return nopt\n"
   ]
  },
  {
   "cell_type": "code",
   "execution_count": 22,
   "metadata": {},
   "outputs": [
    {
     "name": "stdout",
     "output_type": "stream",
     "text": [
      "vopt =  1495\n",
      "nopt =  519721\n"
     ]
    }
   ],
   "source": [
    "n = 500000\n",
    "V = 1500\n",
    "L = 1000\n",
    "# eta = 0.95\n",
    "r0 = 1\n",
    "theta = 0.95\n",
    "vopt = get_vopt_hyper(n,L,V,r0,theta)\n",
    "print('vopt = ', vopt)\n",
    "nopt = get_xmin(n, V, vopt, theta)\n",
    "print('nopt = ', nopt)"
   ]
  },
  {
   "cell_type": "code",
   "execution_count": 13,
   "metadata": {},
   "outputs": [
    {
     "name": "stdout",
     "output_type": "stream",
     "text": [
      "vopt =  4563\n"
     ]
    },
    {
     "ename": "KeyboardInterrupt",
     "evalue": "",
     "output_type": "error",
     "traceback": [
      "\u001b[1;31m---------------------------------------------------------------------------\u001b[0m",
      "\u001b[1;31mKeyboardInterrupt\u001b[0m                         Traceback (most recent call last)",
      "\u001b[1;32m<ipython-input-13-7b742cadab78>\u001b[0m in \u001b[0;36m<module>\u001b[1;34m\u001b[0m\n\u001b[0;32m      7\u001b[0m \u001b[0mvopt\u001b[0m \u001b[1;33m=\u001b[0m \u001b[0mget_vopt_hyper\u001b[0m\u001b[1;33m(\u001b[0m\u001b[0mn\u001b[0m\u001b[1;33m,\u001b[0m\u001b[0mL\u001b[0m\u001b[1;33m,\u001b[0m\u001b[0mV\u001b[0m\u001b[1;33m,\u001b[0m\u001b[0mr0\u001b[0m\u001b[1;33m,\u001b[0m\u001b[0mtheta\u001b[0m\u001b[1;33m)\u001b[0m\u001b[1;33m\u001b[0m\u001b[1;33m\u001b[0m\u001b[0m\n\u001b[0;32m      8\u001b[0m \u001b[0mprint\u001b[0m\u001b[1;33m(\u001b[0m\u001b[1;34m'vopt = '\u001b[0m\u001b[1;33m,\u001b[0m \u001b[0mvopt\u001b[0m\u001b[1;33m)\u001b[0m\u001b[1;33m\u001b[0m\u001b[1;33m\u001b[0m\u001b[0m\n\u001b[1;32m----> 9\u001b[1;33m \u001b[0mnopt\u001b[0m \u001b[1;33m=\u001b[0m \u001b[0mget_nopt_hyper\u001b[0m\u001b[1;33m(\u001b[0m\u001b[0mn\u001b[0m\u001b[1;33m,\u001b[0m\u001b[0mV\u001b[0m\u001b[1;33m,\u001b[0m\u001b[0mvopt\u001b[0m\u001b[1;33m,\u001b[0m\u001b[0mtheta\u001b[0m\u001b[1;33m)\u001b[0m\u001b[1;33m\u001b[0m\u001b[1;33m\u001b[0m\u001b[0m\n\u001b[0m\u001b[0;32m     10\u001b[0m \u001b[0mprint\u001b[0m\u001b[1;33m(\u001b[0m\u001b[1;34m'nopt = '\u001b[0m\u001b[1;33m,\u001b[0m \u001b[0mnopt\u001b[0m\u001b[1;33m)\u001b[0m\u001b[1;33m\u001b[0m\u001b[1;33m\u001b[0m\u001b[0m\n",
      "\u001b[1;32m<ipython-input-11-e19fee0c1c51>\u001b[0m in \u001b[0;36mget_nopt_hyper\u001b[1;34m(n, V, vopt, theta)\u001b[0m\n\u001b[0;32m      1\u001b[0m \u001b[1;32mdef\u001b[0m \u001b[0mget_nopt_hyper\u001b[0m\u001b[1;33m(\u001b[0m\u001b[0mn\u001b[0m\u001b[1;33m,\u001b[0m\u001b[0mV\u001b[0m\u001b[1;33m,\u001b[0m\u001b[0mvopt\u001b[0m\u001b[1;33m,\u001b[0m\u001b[0mtheta\u001b[0m\u001b[1;33m)\u001b[0m\u001b[1;33m:\u001b[0m\u001b[1;33m\u001b[0m\u001b[1;33m\u001b[0m\u001b[0m\n\u001b[0;32m      2\u001b[0m     \u001b[0mnxs\u001b[0m \u001b[1;33m=\u001b[0m \u001b[1;33m[\u001b[0m\u001b[0mnx\u001b[0m \u001b[1;32mfor\u001b[0m \u001b[0mnx\u001b[0m \u001b[1;32min\u001b[0m \u001b[0mrange\u001b[0m\u001b[1;33m(\u001b[0m\u001b[0mvopt\u001b[0m\u001b[1;33m,\u001b[0m \u001b[0mn\u001b[0m\u001b[1;33m+\u001b[0m\u001b[1;36m100\u001b[0m\u001b[1;33m)\u001b[0m\u001b[1;33m]\u001b[0m\u001b[1;33m\u001b[0m\u001b[1;33m\u001b[0m\u001b[0m\n\u001b[1;32m----> 3\u001b[1;33m     \u001b[0mnopt\u001b[0m \u001b[1;33m=\u001b[0m \u001b[0mmin\u001b[0m\u001b[1;33m(\u001b[0m\u001b[0mnx\u001b[0m \u001b[1;32mfor\u001b[0m \u001b[0mnx\u001b[0m \u001b[1;32min\u001b[0m \u001b[0mnxs\u001b[0m \u001b[1;32mif\u001b[0m \u001b[0mscipy\u001b[0m\u001b[1;33m.\u001b[0m\u001b[0mstats\u001b[0m\u001b[1;33m.\u001b[0m\u001b[0mhypergeom\u001b[0m\u001b[1;33m.\u001b[0m\u001b[0msf\u001b[0m\u001b[1;33m(\u001b[0m\u001b[0mvopt\u001b[0m\u001b[1;33m-\u001b[0m\u001b[1;36m1\u001b[0m\u001b[1;33m,\u001b[0m \u001b[0mn\u001b[0m\u001b[1;33m,\u001b[0m \u001b[0mV\u001b[0m\u001b[1;33m,\u001b[0m\u001b[0mnx\u001b[0m\u001b[1;33m)\u001b[0m \u001b[1;33m>=\u001b[0m \u001b[0mtheta\u001b[0m\u001b[1;33m)\u001b[0m\u001b[1;33m\u001b[0m\u001b[1;33m\u001b[0m\u001b[0m\n\u001b[0m\u001b[0;32m      4\u001b[0m     \u001b[1;32mreturn\u001b[0m \u001b[0mnopt\u001b[0m\u001b[1;33m\u001b[0m\u001b[1;33m\u001b[0m\u001b[0m\n",
      "\u001b[1;32m<ipython-input-11-e19fee0c1c51>\u001b[0m in \u001b[0;36m<genexpr>\u001b[1;34m(.0)\u001b[0m\n\u001b[0;32m      1\u001b[0m \u001b[1;32mdef\u001b[0m \u001b[0mget_nopt_hyper\u001b[0m\u001b[1;33m(\u001b[0m\u001b[0mn\u001b[0m\u001b[1;33m,\u001b[0m\u001b[0mV\u001b[0m\u001b[1;33m,\u001b[0m\u001b[0mvopt\u001b[0m\u001b[1;33m,\u001b[0m\u001b[0mtheta\u001b[0m\u001b[1;33m)\u001b[0m\u001b[1;33m:\u001b[0m\u001b[1;33m\u001b[0m\u001b[1;33m\u001b[0m\u001b[0m\n\u001b[0;32m      2\u001b[0m     \u001b[0mnxs\u001b[0m \u001b[1;33m=\u001b[0m \u001b[1;33m[\u001b[0m\u001b[0mnx\u001b[0m \u001b[1;32mfor\u001b[0m \u001b[0mnx\u001b[0m \u001b[1;32min\u001b[0m \u001b[0mrange\u001b[0m\u001b[1;33m(\u001b[0m\u001b[0mvopt\u001b[0m\u001b[1;33m,\u001b[0m \u001b[0mn\u001b[0m\u001b[1;33m+\u001b[0m\u001b[1;36m100\u001b[0m\u001b[1;33m)\u001b[0m\u001b[1;33m]\u001b[0m\u001b[1;33m\u001b[0m\u001b[1;33m\u001b[0m\u001b[0m\n\u001b[1;32m----> 3\u001b[1;33m     \u001b[0mnopt\u001b[0m \u001b[1;33m=\u001b[0m \u001b[0mmin\u001b[0m\u001b[1;33m(\u001b[0m\u001b[0mnx\u001b[0m \u001b[1;32mfor\u001b[0m \u001b[0mnx\u001b[0m \u001b[1;32min\u001b[0m \u001b[0mnxs\u001b[0m \u001b[1;32mif\u001b[0m \u001b[0mscipy\u001b[0m\u001b[1;33m.\u001b[0m\u001b[0mstats\u001b[0m\u001b[1;33m.\u001b[0m\u001b[0mhypergeom\u001b[0m\u001b[1;33m.\u001b[0m\u001b[0msf\u001b[0m\u001b[1;33m(\u001b[0m\u001b[0mvopt\u001b[0m\u001b[1;33m-\u001b[0m\u001b[1;36m1\u001b[0m\u001b[1;33m,\u001b[0m \u001b[0mn\u001b[0m\u001b[1;33m,\u001b[0m \u001b[0mV\u001b[0m\u001b[1;33m,\u001b[0m\u001b[0mnx\u001b[0m\u001b[1;33m)\u001b[0m \u001b[1;33m>=\u001b[0m \u001b[0mtheta\u001b[0m\u001b[1;33m)\u001b[0m\u001b[1;33m\u001b[0m\u001b[1;33m\u001b[0m\u001b[0m\n\u001b[0m\u001b[0;32m      4\u001b[0m     \u001b[1;32mreturn\u001b[0m \u001b[0mnopt\u001b[0m\u001b[1;33m\u001b[0m\u001b[1;33m\u001b[0m\u001b[0m\n",
      "\u001b[1;32m~\\Anaconda3\\lib\\site-packages\\scipy\\stats\\_distn_infrastructure.py\u001b[0m in \u001b[0;36msf\u001b[1;34m(self, k, *args, **kwds)\u001b[0m\n\u001b[0;32m   3105\u001b[0m         \u001b[0mcond\u001b[0m \u001b[1;33m=\u001b[0m \u001b[0mcond0\u001b[0m \u001b[1;33m&\u001b[0m \u001b[0mcond1\u001b[0m\u001b[1;33m\u001b[0m\u001b[1;33m\u001b[0m\u001b[0m\n\u001b[0;32m   3106\u001b[0m         \u001b[0moutput\u001b[0m \u001b[1;33m=\u001b[0m \u001b[0mzeros\u001b[0m\u001b[1;33m(\u001b[0m\u001b[0mshape\u001b[0m\u001b[1;33m(\u001b[0m\u001b[0mcond\u001b[0m\u001b[1;33m)\u001b[0m\u001b[1;33m,\u001b[0m \u001b[1;34m'd'\u001b[0m\u001b[1;33m)\u001b[0m\u001b[1;33m\u001b[0m\u001b[1;33m\u001b[0m\u001b[0m\n\u001b[1;32m-> 3107\u001b[1;33m         \u001b[0mplace\u001b[0m\u001b[1;33m(\u001b[0m\u001b[0moutput\u001b[0m\u001b[1;33m,\u001b[0m \u001b[1;33m(\u001b[0m\u001b[1;36m1\u001b[0m\u001b[1;33m-\u001b[0m\u001b[0mcond0\u001b[0m\u001b[1;33m)\u001b[0m \u001b[1;33m+\u001b[0m \u001b[0mnp\u001b[0m\u001b[1;33m.\u001b[0m\u001b[0misnan\u001b[0m\u001b[1;33m(\u001b[0m\u001b[0mk\u001b[0m\u001b[1;33m)\u001b[0m\u001b[1;33m,\u001b[0m \u001b[0mself\u001b[0m\u001b[1;33m.\u001b[0m\u001b[0mbadvalue\u001b[0m\u001b[1;33m)\u001b[0m\u001b[1;33m\u001b[0m\u001b[1;33m\u001b[0m\u001b[0m\n\u001b[0m\u001b[0;32m   3108\u001b[0m         \u001b[0mplace\u001b[0m\u001b[1;33m(\u001b[0m\u001b[0moutput\u001b[0m\u001b[1;33m,\u001b[0m \u001b[0mcond2\u001b[0m\u001b[1;33m,\u001b[0m \u001b[1;36m1.0\u001b[0m\u001b[1;33m)\u001b[0m\u001b[1;33m\u001b[0m\u001b[1;33m\u001b[0m\u001b[0m\n\u001b[0;32m   3109\u001b[0m         \u001b[1;32mif\u001b[0m \u001b[0mnp\u001b[0m\u001b[1;33m.\u001b[0m\u001b[0many\u001b[0m\u001b[1;33m(\u001b[0m\u001b[0mcond\u001b[0m\u001b[1;33m)\u001b[0m\u001b[1;33m:\u001b[0m\u001b[1;33m\u001b[0m\u001b[1;33m\u001b[0m\u001b[0m\n",
      "\u001b[1;32m~\\Anaconda3\\lib\\site-packages\\numpy\\lib\\function_base.py\u001b[0m in \u001b[0;36mplace\u001b[1;34m(arr, mask, vals)\u001b[0m\n\u001b[0;32m   1723\u001b[0m                         \"not {name}\".format(name=type(arr).__name__))\n\u001b[0;32m   1724\u001b[0m \u001b[1;33m\u001b[0m\u001b[0m\n\u001b[1;32m-> 1725\u001b[1;33m     \u001b[1;32mreturn\u001b[0m \u001b[0m_insert\u001b[0m\u001b[1;33m(\u001b[0m\u001b[0marr\u001b[0m\u001b[1;33m,\u001b[0m \u001b[0mmask\u001b[0m\u001b[1;33m,\u001b[0m \u001b[0mvals\u001b[0m\u001b[1;33m)\u001b[0m\u001b[1;33m\u001b[0m\u001b[1;33m\u001b[0m\u001b[0m\n\u001b[0m\u001b[0;32m   1726\u001b[0m \u001b[1;33m\u001b[0m\u001b[0m\n\u001b[0;32m   1727\u001b[0m \u001b[1;33m\u001b[0m\u001b[0m\n",
      "\u001b[1;31mKeyboardInterrupt\u001b[0m: "
     ]
    }
   ],
   "source": [
    "n = 500000\n",
    "V = 5000\n",
    "L = 1000\n",
    "# eta = 0.95\n",
    "r0 = 5\n",
    "theta = 0.95\n",
    "vopt = get_vopt_hyper(n,L,V,r0,theta)\n",
    "print('vopt = ', vopt)\n",
    "nopt = get_nopt_hyper(n,V,vopt,theta)\n",
    "print('nopt = ', nopt)"
   ]
  },
  {
   "cell_type": "code",
   "execution_count": null,
   "metadata": {},
   "outputs": [],
   "source": []
  },
  {
   "cell_type": "code",
   "execution_count": null,
   "metadata": {},
   "outputs": [
    {
     "name": "stdout",
     "output_type": "stream",
     "text": [
      "9275 6\n"
     ]
    }
   ],
   "source": [
    "n = 1000000\n",
    "L = 1000\n",
    "V = 10000\n",
    "eta = 0.9\n",
    "theta = 0.9\n",
    "\n",
    "#r0 and vopt\n",
    "rs = [r for r in range(L+1)]\n",
    "\n",
    "dummyrow = realdata.iloc[0,:].apply(lambda _: 0).copy()\n",
    "dummyrowdf = pd.DataFrame(dummyrow).transpose()\n",
    "\n",
    "r0 = int(scipy.stats.hypergeom.isf(eta, n, L, V))\n",
    "assert r0 > 0\n",
    "\n",
    "vopt = get_vopt(n, L, V, eta, theta)\n",
    "print(vopt, r0)\n",
    "\n",
    "# probability of passing the test wrt various v\n",
    "vs = [v for v in range(1000, V+1000, 1000)] + [vopt]\n",
    "#vs = [7000]\n",
    "\n",
    "successes_freq = []\n",
    "\n",
    "for v in vs:\n",
    "    if v < V:\n",
    "        dummydf = pd.concat([dummyrowdf]*(V-v), ignore_index=True, sort=False)\n",
    "\n",
    "    mc_iter_count = 100\n",
    "\n",
    "    present_records = mc_iter_count*[None]\n",
    "\n",
    "    for k in range(mc_iter_count):\n",
    "        (S_kri, S_kr) = sample_records(realdata, L)\n",
    "        #(_, PV) = sample_records(Da, V)\n",
    "        PV = realdata.iloc[:V,:]\n",
    "        (_, PV_star) = sample_records(PV, v)\n",
    "        if v < V:\n",
    "            PV_star = pd.concat([PV_star, dummydf], ignore_index=True, sort=False)\n",
    "        assert PV_star.shape == PV.shape\n",
    "        present_records[k] = pd.Series(count_present_records_distinguish(PV_star, S_kr, S_kri))\n",
    "        #print(present_records[k])\n",
    "        #print('---------------')\n",
    "\n",
    "    rec_bounded_counts = pd.Series([present_records[k][present_records[k] != 0].count() for k in range(mc_iter_count)])\n",
    "    #plot.plot(rec_bounded_counts, 'o')\n",
    "    #print(rec_bounded_counts)\n",
    "    #R_empirical_dist = [rec_bounded_counts[rec_bounded_counts == r].count()/mc_iter_count for r in rs]\n",
    "    successes_freq.append(rec_bounded_counts[rec_bounded_counts >= r0].count()/mc_iter_count)\n",
    "\n",
    "successes_freq\n",
    "#plot\n",
    "\n",
    "plot.title('500 simulation runs per data point \\n' + 'n=' + str(n) + ', V=' + str(V) + ', L=' + str(L) + ', eta=' + str(eta) + ', theta =' + str(theta))\n",
    "plot.xlabel('Number of honest records in partial view')\n",
    "plot.ylabel('Partial view acceptance probability')\n",
    "plot.plot(vs, successes_freq, 'bo', vs, [scipy.stats.hypergeom.sf(r0-1, n, L, v) for v in vs], 'r-')\n",
    "#plot.plot(vs, [scipy.stats.hypergeom.sf(r0-1, n, L, v) for v in vs], 'r-')\n",
    "plot.legend(['simulation', 'model'])\n",
    "plot.axvline(x=vopt, color='g')\n",
    "plot.text(vopt, -0.1, '$v_{opt}$')\n",
    "plot.axhline(y=scipy.stats.hypergeom.sf(r0-1, n, L, vopt), color='g')\n",
    "plot.text(700, scipy.stats.hypergeom.sf(r0-1, n, L, vopt) - 0.05, 'Acceptance prob at $v_{opt}$ = '+ str(scipy.stats.hypergeom.sf(r0-1, n, L, vopt)))\n",
    "plot.grid()\n",
    "#plot.text(0, scipy.stats.hypergeom.sf(r0-1, n, L, vs[-1], 'P(pass with vopt)'))\n",
    "#successes_freq, scipy.stats.hypergeom.sf(r0-1, n, L, v)"
   ]
  },
  {
   "cell_type": "code",
   "execution_count": 8,
   "metadata": {},
   "outputs": [
    {
     "name": "stdout",
     "output_type": "stream",
     "text": [
      "ro =  5\n",
      "1 1152\n",
      "2 1945\n",
      "3 2662\n",
      "4 3341\n",
      "5 3997\n",
      "6 4638\n",
      "7 5267\n",
      "8 5886\n",
      "9 6498\n",
      "10 7103\n",
      "11 7704\n"
     ]
    }
   ],
   "source": [
    "# alpha = V/N = 1%\n",
    "n=500000\n",
    "V = 5000\n",
    "L = 1000\n",
    "eta = 0.95\n",
    "\n",
    "r0 = int(scipy.stats.hypergeom.isf(eta, n, L, V))\n",
    "print('ro = ', r0)\n",
    "    \n",
    "    \n",
    "theta = 0.9\n",
    "vopt_ = []\n",
    "\n",
    "r0s = [1,2,3,4,5,6,7,8,9,10,11]\n",
    "for r0 in r0s:\n",
    "    temp = get_vopt_chi2(n, L, V, r0, theta)\n",
    "    print(r0, temp)\n",
    "    vopt_.append(temp)"
   ]
  },
  {
   "cell_type": "code",
   "execution_count": 11,
   "metadata": {},
   "outputs": [
    {
     "name": "stdout",
     "output_type": "stream",
     "text": [
      "V =  1500\n",
      "ro =  1\n",
      "1 1152\n",
      "2 1945\n",
      "3 2662\n",
      "4 3341\n",
      "5 3997\n",
      "6 4638\n",
      "7 5267\n",
      "8 5886\n",
      "9 6498\n",
      "10 7103\n",
      "11 7704\n"
     ]
    }
   ],
   "source": [
    "# alpha = V/N = 0.3%\n",
    "n=500000\n",
    "V = int(n*0.003)\n",
    "print('V = ', V)\n",
    "L = 1000\n",
    "eta = 0.95\n",
    "\n",
    "r0 = int(scipy.stats.hypergeom.isf(eta, n, L, V))\n",
    "print('ro = ', r0)\n",
    "    \n",
    "    \n",
    "theta = 0.9\n",
    "vopt_ = []\n",
    "\n",
    "r0s = [1,2,3,4,5,6,7,8,9,10,11]\n",
    "for r0 in r0s:\n",
    "    temp = get_vopt_chi2(n, L, V, r0, theta)\n",
    "    print(r0, temp)\n",
    "    vopt_.append(temp)"
   ]
  },
  {
   "cell_type": "code",
   "execution_count": 12,
   "metadata": {},
   "outputs": [
    {
     "name": "stdout",
     "output_type": "stream",
     "text": [
      "V =  2500\n",
      "ro =  2\n",
      "1 1152\n",
      "2 1945\n",
      "3 2662\n",
      "4 3341\n",
      "5 3997\n",
      "6 4638\n",
      "7 5267\n",
      "8 5886\n",
      "9 6498\n",
      "10 7103\n",
      "11 7704\n"
     ]
    }
   ],
   "source": [
    "# alpha = V/N = 0.5%\n",
    "n=500000\n",
    "V = int(n*0.005)\n",
    "print('V = ', V)\n",
    "L = 1000\n",
    "eta = 0.95\n",
    "\n",
    "r0 = int(scipy.stats.hypergeom.isf(eta, n, L, V))\n",
    "print('ro = ', r0)\n",
    "    \n",
    "    \n",
    "theta = 0.9\n",
    "vopt_ = []\n",
    "\n",
    "r0s = [1,2,3,4,5,6,7,8,9,10,11]\n",
    "for r0 in r0s:\n",
    "    temp = get_vopt_chi2(n, L, V, r0, theta)\n",
    "    print(r0, temp)\n",
    "    vopt_.append(temp)"
   ]
  },
  {
   "cell_type": "code",
   "execution_count": 13,
   "metadata": {
    "scrolled": true
   },
   "outputs": [
    {
     "name": "stdout",
     "output_type": "stream",
     "text": [
      "V =  5000\n",
      "ro =  5\n",
      "1 1152\n",
      "2 1945\n",
      "3 2662\n",
      "4 3341\n",
      "5 3997\n",
      "6 4638\n",
      "7 5267\n",
      "8 5886\n",
      "9 6498\n",
      "10 7103\n",
      "11 7704\n"
     ]
    }
   ],
   "source": [
    "# alpha = V/N = 1%\n",
    "n=500000\n",
    "V = int(n*0.01)\n",
    "print('V = ', V)\n",
    "L = 1000\n",
    "eta = 0.95\n",
    "\n",
    "r0 = int(scipy.stats.hypergeom.isf(eta, n, L, V))\n",
    "print('ro = ', r0)\n",
    "    \n",
    "    \n",
    "theta = 0.9\n",
    "vopt_ = []\n",
    "\n",
    "r0s = [1,2,3,4,5,6,7,8,9,10,11]\n",
    "for r0 in r0s:\n",
    "    temp = get_vopt_chi2(n, L, V, r0, theta)\n",
    "    print(r0, temp)\n",
    "    vopt_.append(temp)"
   ]
  },
  {
   "cell_type": "code",
   "execution_count": 14,
   "metadata": {},
   "outputs": [
    {
     "name": "stdout",
     "output_type": "stream",
     "text": [
      "V =  7500\n",
      "ro =  9\n",
      "1 1152\n",
      "2 1945\n",
      "3 2662\n",
      "4 3341\n",
      "5 3997\n",
      "6 4638\n",
      "7 5267\n",
      "8 5886\n",
      "9 6498\n",
      "10 7103\n",
      "11 7704\n"
     ]
    }
   ],
   "source": [
    "# alpha = V/N = 1.5%\n",
    "n=500000\n",
    "V = int(n*0.015)\n",
    "print('V = ', V)\n",
    "L = 1000\n",
    "eta = 0.95\n",
    "\n",
    "r0 = int(scipy.stats.hypergeom.isf(eta, n, L, V))\n",
    "print('ro = ', r0)\n",
    "    \n",
    "    \n",
    "theta = 0.9\n",
    "vopt_ = []\n",
    "\n",
    "r0s = [1,2,3,4,5,6,7,8,9,10,11]\n",
    "for r0 in r0s:\n",
    "    temp = get_vopt_chi2(n, L, V, r0, theta)\n",
    "    print(r0, temp)\n",
    "    vopt_.append(temp)"
   ]
  },
  {
   "cell_type": "code",
   "execution_count": 18,
   "metadata": {},
   "outputs": [
    {
     "name": "stdout",
     "output_type": "stream",
     "text": [
      "V =  10000\n",
      "ro =  13\n",
      "1 1152\n",
      "2 1945\n",
      "3 2662\n",
      "4 3341\n",
      "5 3997\n",
      "6 4638\n",
      "7 5267\n",
      "8 5886\n",
      "9 6498\n",
      "10 7103\n",
      "11 7704\n",
      "12 8300\n",
      "13 8891\n",
      "14 9479\n",
      "15 10065\n"
     ]
    }
   ],
   "source": [
    "# alpha = V/N = 2%\n",
    "n=500000\n",
    "V = int(n*0.02)\n",
    "print('V = ', V)\n",
    "L = 1000\n",
    "eta = 0.95\n",
    "\n",
    "r0 = int(scipy.stats.hypergeom.isf(eta, n, L, V))\n",
    "print('ro = ', r0)\n",
    "    \n",
    "    \n",
    "theta = 0.9\n",
    "vopt_ = []\n",
    "\n",
    "r0s = [1,2,3,4,5,6,7,8,9,10,11,12,13,14,15]\n",
    "for r0 in r0s:\n",
    "    temp = get_vopt_chi2(n, L, V, r0, theta)\n",
    "    print(r0, temp)\n",
    "    vopt_.append(temp)"
   ]
  },
  {
   "cell_type": "code",
   "execution_count": 7,
   "metadata": {
    "scrolled": true
   },
   "outputs": [
    {
     "name": "stdout",
     "output_type": "stream",
     "text": [
      "ro =  5\n",
      "1 1498\n",
      "2 2372\n",
      "3 3148\n",
      "4 3877\n",
      "5 4577\n",
      "6 5257\n",
      "7 5922\n",
      "8 6575\n",
      "9 7218\n",
      "10 7853\n",
      "11 8482\n"
     ]
    }
   ],
   "source": [
    "n=500000\n",
    "V = 5000\n",
    "L = 1000\n",
    "eta = 0.95\n",
    "\n",
    "r0 = int(scipy.stats.hypergeom.isf(eta, n, L, V))\n",
    "print('ro = ', r0)\n",
    "    \n",
    "    \n",
    "theta = 0.95\n",
    "vopt_ = []\n",
    "\n",
    "r0s = [1,2,3,4,5,6,7,8,9,10,11]\n",
    "for r0 in r0s:\n",
    "    temp = get_vopt_chi2(n, L, V, r0, theta)\n",
    "    print(r0, temp)\n",
    "    vopt_.append(temp)"
   ]
  },
  {
   "cell_type": "code",
   "execution_count": 40,
   "metadata": {},
   "outputs": [
    {
     "name": "stdout",
     "output_type": "stream",
     "text": [
      "ro =  5\n",
      "1 1957\n",
      "2 2917\n",
      "3 3759\n",
      "4 4543\n",
      "5 5291\n",
      "6 6014\n",
      "7 6719\n",
      "8 7409\n",
      "9 8087\n",
      "10 8755\n",
      "11 9415\n"
     ]
    }
   ],
   "source": [
    "n=500000\n",
    "V = 5000\n",
    "L = 1000\n",
    "eta = 0.95\n",
    "\n",
    "r0 = int(scipy.stats.hypergeom.isf(eta, n, L, V))\n",
    "print('ro = ', r0)\n",
    "    \n",
    "    \n",
    "theta = 0.98\n",
    "vopt_ = []\n",
    "\n",
    "r0s = [1,2,3,4,5,6,7,8,9,10,11]\n",
    "for r0 in r0s:\n",
    "    temp = get_vopt_chi2(n, L, V, r0, theta)\n",
    "    print(r0, temp)\n",
    "    vopt_.append(temp)"
   ]
  },
  {
   "cell_type": "code",
   "execution_count": 42,
   "metadata": {},
   "outputs": [
    {
     "name": "stdout",
     "output_type": "stream",
     "text": [
      "ro =  5\n",
      "1 2303\n",
      "2 3320\n",
      "3 4203\n",
      "4 5023\n",
      "5 5803\n",
      "6 6555\n",
      "7 7286\n",
      "8 8000\n",
      "9 8702\n",
      "10 9392\n",
      "11 10073\n"
     ]
    }
   ],
   "source": [
    "n=500000\n",
    "V = 5000\n",
    "L = 1000\n",
    "eta = 0.95\n",
    "\n",
    "r0 = int(scipy.stats.hypergeom.isf(eta, n, L, V))\n",
    "print('ro = ', r0)\n",
    "    \n",
    "    \n",
    "theta = 0.99\n",
    "vopt_ = []\n",
    "\n",
    "r0s = [1,2,3,4,5,6,7,8,9,10,11]\n",
    "for r0 in r0s:\n",
    "    temp = get_vopt_chi2(n, L, V, r0, theta)\n",
    "    print(r0, temp)\n",
    "    vopt_.append(temp)"
   ]
  },
  {
   "cell_type": "code",
   "execution_count": 26,
   "metadata": {
    "scrolled": true
   },
   "outputs": [
    {
     "name": "stdout",
     "output_type": "stream",
     "text": [
      "1 2303\n",
      "2 3890\n",
      "3 5323\n",
      "4 6681\n",
      "5 7994\n",
      "6 9275\n",
      "7 10533\n",
      "8 11771\n",
      "9 12995\n",
      "10 14206\n",
      "11 15407\n"
     ]
    }
   ],
   "source": [
    "n = 1000000\n",
    "L = 1000\n",
    "V = 10000\n",
    "theta = 0.9\n",
    "vopt_ = []\n",
    "\n",
    "r0s = [1,2,3,4,5,6,7,8,9,10,11]\n",
    "for r0 in r0s:\n",
    "    temp = get_vopt_chi2(n, L, V, r0, theta)\n",
    "    print(r0, temp)\n",
    "    vopt_.append(temp)\n",
    "\n",
    "\n"
   ]
  },
  {
   "cell_type": "code",
   "execution_count": 32,
   "metadata": {
    "scrolled": true
   },
   "outputs": [
    {
     "name": "stdout",
     "output_type": "stream",
     "text": [
      "1 2996\n",
      "2 4744\n",
      "3 6296\n",
      "4 7754\n",
      "5 9154\n",
      "6 10514\n",
      "7 11843\n",
      "8 13149\n",
      "9 14435\n",
      "10 15706\n",
      "11 16963\n"
     ]
    }
   ],
   "source": [
    "n = 1000000\n",
    "L = 1000\n",
    "V = 10000\n",
    "theta = 0.95\n",
    "vopt_ = []\n",
    "\n",
    "r0s = [1,2,3,4,5,6,7,8,9,10,11]\n",
    "for r0 in r0s:\n",
    "    temp = get_vopt_chi2(n, L, V, r0, theta)\n",
    "    print(r0, temp)\n",
    "    vopt_.append(temp)\n",
    "\n",
    "\n"
   ]
  },
  {
   "cell_type": "code",
   "execution_count": 28,
   "metadata": {
    "scrolled": true
   },
   "outputs": [
    {
     "name": "stdout",
     "output_type": "stream",
     "text": [
      "1 4606\n",
      "2 6639\n",
      "3 8406\n",
      "4 10046\n",
      "5 11605\n",
      "6 13109\n",
      "7 14571\n",
      "8 16000\n",
      "9 17403\n",
      "10 18784\n",
      "11 20145\n"
     ]
    }
   ],
   "source": [
    "n = 1000000\n",
    "L = 1000\n",
    "V = 10000\n",
    "theta = 0.99\n",
    "vopt_ = []\n",
    "\n",
    "r0s = [1,2,3,4,5,6,7,8,9,10,11]\n",
    "for r0 in r0s:\n",
    "    temp = get_vopt_chi2(n, L, V, r0, theta)\n",
    "    print(r0, temp)\n",
    "    vopt_.append(temp)\n"
   ]
  },
  {
   "cell_type": "code",
   "execution_count": 29,
   "metadata": {},
   "outputs": [
    {
     "name": "stdout",
     "output_type": "stream",
     "text": [
      "1 3913\n",
      "2 5834\n",
      "3 7517\n",
      "4 9085\n",
      "5 10581\n",
      "6 12027\n",
      "7 13437\n",
      "8 14817\n",
      "9 16174\n",
      "10 17510\n",
      "11 18830\n"
     ]
    }
   ],
   "source": [
    "n = 1000000\n",
    "L = 1000\n",
    "V = 10000\n",
    "theta = 0.98\n",
    "vopt_ = []\n",
    "\n",
    "r0s = [1,2,3,4,5,6,7,8,9,10,11]\n",
    "for r0 in r0s:\n",
    "    temp = get_vopt_chi2(n, L, V, r0, theta)\n",
    "    print(r0, temp)\n",
    "    vopt_.append(temp)\n"
   ]
  },
  {
   "cell_type": "code",
   "execution_count": 29,
   "metadata": {},
   "outputs": [
    {
     "data": {
      "text/plain": [
       "([1000, 2000, 3000, 4000, 5000, 6000, 7000, 8000, 9000, 10000, 9275],\n",
       " [0.0, 0.0, 0.1, 0.2, 0.1, 0.5, 0.5, 0.6, 0.9, 0.9, 0.8])"
      ]
     },
     "execution_count": 29,
     "metadata": {},
     "output_type": "execute_result"
    }
   ],
   "source": [
    "vs, successes_freq"
   ]
  },
  {
   "cell_type": "code",
   "execution_count": 30,
   "metadata": {},
   "outputs": [
    {
     "name": "stdout",
     "output_type": "stream",
     "text": [
      "1 3903\n",
      "2 5818\n",
      "3 7494\n",
      "4 9054\n",
      "5 10543\n"
     ]
    },
    {
     "ename": "ValueError",
     "evalue": "min() arg is an empty sequence",
     "output_type": "error",
     "traceback": [
      "\u001b[1;31m---------------------------------------------------------------------------\u001b[0m",
      "\u001b[1;31mValueError\u001b[0m                                Traceback (most recent call last)",
      "\u001b[1;32m<ipython-input-30-86b1b7759b3b>\u001b[0m in \u001b[0;36m<module>\u001b[1;34m\u001b[0m\n\u001b[0;32m      7\u001b[0m \u001b[0mr0s\u001b[0m \u001b[1;33m=\u001b[0m \u001b[1;33m[\u001b[0m\u001b[1;36m1\u001b[0m\u001b[1;33m,\u001b[0m\u001b[1;36m2\u001b[0m\u001b[1;33m,\u001b[0m\u001b[1;36m3\u001b[0m\u001b[1;33m,\u001b[0m\u001b[1;36m4\u001b[0m\u001b[1;33m,\u001b[0m\u001b[1;36m5\u001b[0m\u001b[1;33m,\u001b[0m\u001b[1;36m6\u001b[0m\u001b[1;33m,\u001b[0m\u001b[1;36m7\u001b[0m\u001b[1;33m,\u001b[0m\u001b[1;36m8\u001b[0m\u001b[1;33m,\u001b[0m\u001b[1;36m9\u001b[0m\u001b[1;33m,\u001b[0m\u001b[1;36m10\u001b[0m\u001b[1;33m,\u001b[0m\u001b[1;36m11\u001b[0m\u001b[1;33m]\u001b[0m\u001b[1;33m\u001b[0m\u001b[1;33m\u001b[0m\u001b[0m\n\u001b[0;32m      8\u001b[0m \u001b[1;32mfor\u001b[0m \u001b[0mr0\u001b[0m \u001b[1;32min\u001b[0m \u001b[0mr0s\u001b[0m\u001b[1;33m:\u001b[0m\u001b[1;33m\u001b[0m\u001b[1;33m\u001b[0m\u001b[0m\n\u001b[1;32m----> 9\u001b[1;33m     \u001b[0mtemp\u001b[0m \u001b[1;33m=\u001b[0m \u001b[0mget_vopt_hyper\u001b[0m\u001b[1;33m(\u001b[0m\u001b[0mn\u001b[0m\u001b[1;33m,\u001b[0m\u001b[0mL\u001b[0m\u001b[1;33m,\u001b[0m\u001b[0mV\u001b[0m\u001b[1;33m,\u001b[0m\u001b[0mr0\u001b[0m\u001b[1;33m,\u001b[0m\u001b[0mtheta\u001b[0m\u001b[1;33m)\u001b[0m\u001b[1;33m\u001b[0m\u001b[1;33m\u001b[0m\u001b[0m\n\u001b[0m\u001b[0;32m     10\u001b[0m     \u001b[0mprint\u001b[0m\u001b[1;33m(\u001b[0m\u001b[0mr0\u001b[0m\u001b[1;33m,\u001b[0m \u001b[0mtemp\u001b[0m\u001b[1;33m)\u001b[0m\u001b[1;33m\u001b[0m\u001b[1;33m\u001b[0m\u001b[0m\n\u001b[0;32m     11\u001b[0m     \u001b[0mvopt_\u001b[0m\u001b[1;33m.\u001b[0m\u001b[0mappend\u001b[0m\u001b[1;33m(\u001b[0m\u001b[0mtemp\u001b[0m\u001b[1;33m)\u001b[0m\u001b[1;33m\u001b[0m\u001b[1;33m\u001b[0m\u001b[0m\n",
      "\u001b[1;32m<ipython-input-22-023a1a7482c5>\u001b[0m in \u001b[0;36mget_vopt_hyper\u001b[1;34m(n, L, V, r0, theta)\u001b[0m\n\u001b[0;32m      1\u001b[0m \u001b[1;32mdef\u001b[0m \u001b[0mget_vopt_hyper\u001b[0m\u001b[1;33m(\u001b[0m\u001b[0mn\u001b[0m\u001b[1;33m,\u001b[0m\u001b[0mL\u001b[0m\u001b[1;33m,\u001b[0m\u001b[0mV\u001b[0m\u001b[1;33m,\u001b[0m\u001b[0mr0\u001b[0m\u001b[1;33m,\u001b[0m\u001b[0mtheta\u001b[0m\u001b[1;33m)\u001b[0m\u001b[1;33m:\u001b[0m\u001b[1;33m\u001b[0m\u001b[1;33m\u001b[0m\u001b[0m\n\u001b[0;32m      2\u001b[0m     \u001b[0mvs\u001b[0m \u001b[1;33m=\u001b[0m \u001b[1;33m[\u001b[0m\u001b[0mv\u001b[0m \u001b[1;32mfor\u001b[0m \u001b[0mv\u001b[0m \u001b[1;32min\u001b[0m \u001b[0mrange\u001b[0m\u001b[1;33m(\u001b[0m\u001b[1;36m0\u001b[0m\u001b[1;33m,\u001b[0m \u001b[0mV\u001b[0m\u001b[1;33m+\u001b[0m\u001b[1;36m1000\u001b[0m\u001b[1;33m)\u001b[0m\u001b[1;33m]\u001b[0m\u001b[1;33m\u001b[0m\u001b[1;33m\u001b[0m\u001b[0m\n\u001b[1;32m----> 3\u001b[1;33m     \u001b[0mvopt\u001b[0m \u001b[1;33m=\u001b[0m \u001b[0mmin\u001b[0m\u001b[1;33m(\u001b[0m\u001b[0mv\u001b[0m \u001b[1;32mfor\u001b[0m \u001b[0mv\u001b[0m \u001b[1;32min\u001b[0m \u001b[0mvs\u001b[0m \u001b[1;32mif\u001b[0m \u001b[0mscipy\u001b[0m\u001b[1;33m.\u001b[0m\u001b[0mstats\u001b[0m\u001b[1;33m.\u001b[0m\u001b[0mhypergeom\u001b[0m\u001b[1;33m.\u001b[0m\u001b[0msf\u001b[0m\u001b[1;33m(\u001b[0m\u001b[0mr0\u001b[0m\u001b[1;33m-\u001b[0m\u001b[1;36m1\u001b[0m\u001b[1;33m,\u001b[0m \u001b[0mn\u001b[0m\u001b[1;33m,\u001b[0m \u001b[0mL\u001b[0m\u001b[1;33m,\u001b[0m \u001b[0mv\u001b[0m\u001b[1;33m)\u001b[0m \u001b[1;33m>=\u001b[0m \u001b[0mtheta\u001b[0m\u001b[1;33m)\u001b[0m\u001b[1;33m\u001b[0m\u001b[1;33m\u001b[0m\u001b[0m\n\u001b[0m\u001b[0;32m      4\u001b[0m     \u001b[1;32mreturn\u001b[0m \u001b[0mvopt\u001b[0m\u001b[1;33m\u001b[0m\u001b[1;33m\u001b[0m\u001b[0m\n",
      "\u001b[1;31mValueError\u001b[0m: min() arg is an empty sequence"
     ]
    }
   ],
   "source": [
    "n = 1000000\n",
    "L = 1000\n",
    "V = 10000\n",
    "theta = 0.98\n",
    "vopt_ = []\n",
    "\n",
    "r0s = [1,2,3,4,5,6,7,8,9,10,11]\n",
    "for r0 in r0s:\n",
    "    temp = get_vopt_hyper(n,L,V,r0,theta)\n",
    "    print(r0, temp)\n",
    "    vopt_.append(temp)\n"
   ]
  },
  {
   "cell_type": "code",
   "execution_count": 31,
   "metadata": {},
   "outputs": [
    {
     "name": "stdout",
     "output_type": "stream",
     "text": [
      "1 4593\n",
      "2 6617\n",
      "3 8376\n",
      "4 10007\n"
     ]
    },
    {
     "ename": "ValueError",
     "evalue": "min() arg is an empty sequence",
     "output_type": "error",
     "traceback": [
      "\u001b[1;31m---------------------------------------------------------------------------\u001b[0m",
      "\u001b[1;31mValueError\u001b[0m                                Traceback (most recent call last)",
      "\u001b[1;32m<ipython-input-31-d8209d529e6b>\u001b[0m in \u001b[0;36m<module>\u001b[1;34m\u001b[0m\n\u001b[0;32m      7\u001b[0m \u001b[0mr0s\u001b[0m \u001b[1;33m=\u001b[0m \u001b[1;33m[\u001b[0m\u001b[1;36m1\u001b[0m\u001b[1;33m,\u001b[0m\u001b[1;36m2\u001b[0m\u001b[1;33m,\u001b[0m\u001b[1;36m3\u001b[0m\u001b[1;33m,\u001b[0m\u001b[1;36m4\u001b[0m\u001b[1;33m,\u001b[0m\u001b[1;36m5\u001b[0m\u001b[1;33m,\u001b[0m\u001b[1;36m6\u001b[0m\u001b[1;33m,\u001b[0m\u001b[1;36m7\u001b[0m\u001b[1;33m,\u001b[0m\u001b[1;36m8\u001b[0m\u001b[1;33m,\u001b[0m\u001b[1;36m9\u001b[0m\u001b[1;33m,\u001b[0m\u001b[1;36m10\u001b[0m\u001b[1;33m,\u001b[0m\u001b[1;36m11\u001b[0m\u001b[1;33m]\u001b[0m\u001b[1;33m\u001b[0m\u001b[1;33m\u001b[0m\u001b[0m\n\u001b[0;32m      8\u001b[0m \u001b[1;32mfor\u001b[0m \u001b[0mr0\u001b[0m \u001b[1;32min\u001b[0m \u001b[0mr0s\u001b[0m\u001b[1;33m:\u001b[0m\u001b[1;33m\u001b[0m\u001b[1;33m\u001b[0m\u001b[0m\n\u001b[1;32m----> 9\u001b[1;33m     \u001b[0mtemp\u001b[0m \u001b[1;33m=\u001b[0m \u001b[0mget_vopt_hyper\u001b[0m\u001b[1;33m(\u001b[0m\u001b[0mn\u001b[0m\u001b[1;33m,\u001b[0m\u001b[0mL\u001b[0m\u001b[1;33m,\u001b[0m\u001b[0mV\u001b[0m\u001b[1;33m,\u001b[0m\u001b[0mr0\u001b[0m\u001b[1;33m,\u001b[0m\u001b[0mtheta\u001b[0m\u001b[1;33m)\u001b[0m\u001b[1;33m\u001b[0m\u001b[1;33m\u001b[0m\u001b[0m\n\u001b[0m\u001b[0;32m     10\u001b[0m     \u001b[0mprint\u001b[0m\u001b[1;33m(\u001b[0m\u001b[0mr0\u001b[0m\u001b[1;33m,\u001b[0m \u001b[0mtemp\u001b[0m\u001b[1;33m)\u001b[0m\u001b[1;33m\u001b[0m\u001b[1;33m\u001b[0m\u001b[0m\n\u001b[0;32m     11\u001b[0m     \u001b[0mvopt_\u001b[0m\u001b[1;33m.\u001b[0m\u001b[0mappend\u001b[0m\u001b[1;33m(\u001b[0m\u001b[0mtemp\u001b[0m\u001b[1;33m)\u001b[0m\u001b[1;33m\u001b[0m\u001b[1;33m\u001b[0m\u001b[0m\n",
      "\u001b[1;32m<ipython-input-22-023a1a7482c5>\u001b[0m in \u001b[0;36mget_vopt_hyper\u001b[1;34m(n, L, V, r0, theta)\u001b[0m\n\u001b[0;32m      1\u001b[0m \u001b[1;32mdef\u001b[0m \u001b[0mget_vopt_hyper\u001b[0m\u001b[1;33m(\u001b[0m\u001b[0mn\u001b[0m\u001b[1;33m,\u001b[0m\u001b[0mL\u001b[0m\u001b[1;33m,\u001b[0m\u001b[0mV\u001b[0m\u001b[1;33m,\u001b[0m\u001b[0mr0\u001b[0m\u001b[1;33m,\u001b[0m\u001b[0mtheta\u001b[0m\u001b[1;33m)\u001b[0m\u001b[1;33m:\u001b[0m\u001b[1;33m\u001b[0m\u001b[1;33m\u001b[0m\u001b[0m\n\u001b[0;32m      2\u001b[0m     \u001b[0mvs\u001b[0m \u001b[1;33m=\u001b[0m \u001b[1;33m[\u001b[0m\u001b[0mv\u001b[0m \u001b[1;32mfor\u001b[0m \u001b[0mv\u001b[0m \u001b[1;32min\u001b[0m \u001b[0mrange\u001b[0m\u001b[1;33m(\u001b[0m\u001b[1;36m0\u001b[0m\u001b[1;33m,\u001b[0m \u001b[0mV\u001b[0m\u001b[1;33m+\u001b[0m\u001b[1;36m1000\u001b[0m\u001b[1;33m)\u001b[0m\u001b[1;33m]\u001b[0m\u001b[1;33m\u001b[0m\u001b[1;33m\u001b[0m\u001b[0m\n\u001b[1;32m----> 3\u001b[1;33m     \u001b[0mvopt\u001b[0m \u001b[1;33m=\u001b[0m \u001b[0mmin\u001b[0m\u001b[1;33m(\u001b[0m\u001b[0mv\u001b[0m \u001b[1;32mfor\u001b[0m \u001b[0mv\u001b[0m \u001b[1;32min\u001b[0m \u001b[0mvs\u001b[0m \u001b[1;32mif\u001b[0m \u001b[0mscipy\u001b[0m\u001b[1;33m.\u001b[0m\u001b[0mstats\u001b[0m\u001b[1;33m.\u001b[0m\u001b[0mhypergeom\u001b[0m\u001b[1;33m.\u001b[0m\u001b[0msf\u001b[0m\u001b[1;33m(\u001b[0m\u001b[0mr0\u001b[0m\u001b[1;33m-\u001b[0m\u001b[1;36m1\u001b[0m\u001b[1;33m,\u001b[0m \u001b[0mn\u001b[0m\u001b[1;33m,\u001b[0m \u001b[0mL\u001b[0m\u001b[1;33m,\u001b[0m \u001b[0mv\u001b[0m\u001b[1;33m)\u001b[0m \u001b[1;33m>=\u001b[0m \u001b[0mtheta\u001b[0m\u001b[1;33m)\u001b[0m\u001b[1;33m\u001b[0m\u001b[1;33m\u001b[0m\u001b[0m\n\u001b[0m\u001b[0;32m      4\u001b[0m     \u001b[1;32mreturn\u001b[0m \u001b[0mvopt\u001b[0m\u001b[1;33m\u001b[0m\u001b[1;33m\u001b[0m\u001b[0m\n",
      "\u001b[1;31mValueError\u001b[0m: min() arg is an empty sequence"
     ]
    }
   ],
   "source": [
    "n = 1000000\n",
    "L = 1000\n",
    "V = 10000\n",
    "theta = 0.99\n",
    "vopt_ = []\n",
    "\n",
    "r0s = [1,2,3,4,5,6,7,8,9,10,11]\n",
    "for r0 in r0s:\n",
    "    temp = get_vopt_hyper(n,L,V,r0,theta)\n",
    "    print(r0, temp)\n",
    "    vopt_.append(temp)\n"
   ]
  },
  {
   "cell_type": "code",
   "execution_count": null,
   "metadata": {},
   "outputs": [],
   "source": [
    "n = 1000000\n",
    "L = 1000\n",
    "V = 10000\n",
    "theta = 0.95\n",
    "vopt_ = []\n",
    "\n",
    "r0s = [1,2,3,4,5,6,7,8,9,10,11]\n",
    "for r0 in r0s:\n",
    "    temp = get_vopt_hyper(n,L,V,r0,theta)\n",
    "    print(r0, temp)\n",
    "    vopt_.append(temp)\n",
    "       "
   ]
  },
  {
   "cell_type": "code",
   "execution_count": null,
   "metadata": {},
   "outputs": [],
   "source": [
    "n = 1000000\n",
    "L = 1000\n",
    "V = 10000\n",
    "theta = 0.90\n",
    "vopt_ = []\n",
    "\n",
    "r0s = [1,2,3,4,5,6,7,8,9,10,11]\n",
    "for r0 in r0s:\n",
    "    temp = get_vopt_hyper(n,L,V,r0,theta)\n",
    "    print(r0, temp)\n",
    "    vopt_.append(temp)\n",
    "       "
   ]
  },
  {
   "cell_type": "code",
   "execution_count": 15,
   "metadata": {},
   "outputs": [
    {
     "name": "stdout",
     "output_type": "stream",
     "text": [
      "ro =  4\n",
      "9085\n"
     ]
    }
   ],
   "source": [
    "n = 1000000\n",
    "V = 10000\n",
    "L = 1000\n",
    "eta = 0.98\n",
    "theta = 0.98\n",
    "vopt = get_vopt(n, L, V, eta, theta)\n",
    "print(vopt)"
   ]
  },
  {
   "cell_type": "code",
   "execution_count": null,
   "metadata": {},
   "outputs": [],
   "source": []
  },
  {
   "cell_type": "code",
   "execution_count": null,
   "metadata": {},
   "outputs": [],
   "source": []
  },
  {
   "cell_type": "code",
   "execution_count": 27,
   "metadata": {
    "scrolled": true
   },
   "outputs": [
    {
     "name": "stdout",
     "output_type": "stream",
     "text": [
      "3890 3\n"
     ]
    },
    {
     "data": {
      "text/plain": [
       "[0.06, 0.34, 0.57, 0.86, 0.92]"
      ]
     },
     "execution_count": 27,
     "metadata": {},
     "output_type": "execute_result"
    }
   ],
   "source": [
    "n = 500000\n",
    "L = 500\n",
    "V = 5000\n",
    "eta = 0.9\n",
    "theta = 0.9\n",
    "\n",
    "rs = [r for r in range(L+1000)]\n",
    "\n",
    "dummyrow = realdata.iloc[0,:].apply(lambda _: 0).copy()\n",
    "dummyrowdf = pd.DataFrame(dummyrow).transpose()\n",
    "\n",
    "# r0 = int(scipy.stats.hypergeom.isf(eta, n, L, V))\n",
    "# assert r0 > 0\n",
    "r0 = 3\n",
    "vopt = get_vopt(n, L, V, eta, theta)\n",
    "print(vopt, r0)\n",
    "\n",
    "vs = [v for v in range(1000, V+1000, 1000)] \n",
    "\n",
    "successes_freq = []\n",
    "\n",
    "for v in vs:\n",
    "    if v < V:\n",
    "        dummydf = pd.concat([dummyrowdf]*(V-v), ignore_index=True, sort=False)\n",
    "\n",
    "    mc_iter_count = 100\n",
    "\n",
    "    present_records = mc_iter_count*[None]\n",
    "\n",
    "    for k in range(mc_iter_count):\n",
    "        (S_kri, S_kr) = sample_records(realdata, L)\n",
    "        #(_, PV) = sample_records(Da, V)\n",
    "        PV = realdata.iloc[:V,:]\n",
    "        (_, PV_star) = sample_records(PV, v)\n",
    "        if v < V:\n",
    "            PV_star = pd.concat([PV_star, dummydf], ignore_index=True, sort=False)\n",
    "        assert PV_star.shape == PV.shape\n",
    "        present_records[k] = pd.Series(count_present_records_distinguish(PV_star, S_kr, S_kri))\n",
    "        #print(present_records[k])\n",
    "        #print('---------------')\n",
    "\n",
    "    rec_bounded_counts = pd.Series([present_records[k][present_records[k] != 0].count() for k in range(mc_iter_count)])\n",
    "    #plot.plot(rec_bounded_counts, 'o')\n",
    "    #print(rec_bounded_counts)\n",
    "    #R_empirical_dist = [rec_bounded_counts[rec_bounded_counts == r].count()/mc_iter_count for r in rs]\n",
    "    successes_freq.append(rec_bounded_counts[rec_bounded_counts >= r0].count()/mc_iter_count)\n",
    "\n",
    "successes_freq\n"
   ]
  },
  {
   "cell_type": "code",
   "execution_count": 28,
   "metadata": {},
   "outputs": [
    {
     "data": {
      "image/png": "[encoded data removed]",
      "text/plain": [
       "<Figure size 432x288 with 1 Axes>"
      ]
     },
     "metadata": {
      "needs_background": "light"
     },
     "output_type": "display_data"
    }
   ],
   "source": [
    "plot.title(str(mc_iter_count) +' simulation runs per data point \\n' + 'n=' + str(n) + ', V=' + str(V) + ', L=' + str(L) + ', eta=' + str(eta) + ', theta =' + str(theta) + ', r0=' + str(r0))\n",
    "plot.xlabel('Number of known records in partial view')\n",
    "plot.ylabel('Partial view acceptance probability')\n",
    "plot.plot(vs, successes_freq, '-bo', vs, [scipy.stats.hypergeom.sf(r0-1, n, L, v) for v in vs], 'r-')\n",
    "#plot.plot(vs, [scipy.stats.hypergeom.sf(r0-1, n, L, v) for v in vs], 'r-')\n",
    "plot.legend(['simulation', 'model'])\n",
    "# plot.axvline(x=vopt, color='g')\n",
    "# plot.text(vopt, -0.1, '$v_{opt}$')\n",
    "# plot.axhline(y=scipy.stats.hypergeom.sf(r0-1, n, L, vopt), color='g')\n",
    "# plot.text(700, scipy.stats.hypergeom.sf(r0-1, n, L, vopt) - 0.05, 'Acceptance prob at $v_{opt}$ = '+ str(scipy.stats.hypergeom.sf(r0-1, n, L, vopt)))\n",
    "plot.grid()\n",
    "plot.savefig('P(fake_PV_has_r0= ' + str(r0)+'_known_rows_dataset_500K)', dpi=300, bbox_inches='tight')\n",
    "#plot.text(0, scipy.stats.hypergeom.sf(r0-1, n, L, vs[-1], 'P(pass with vopt)'))\n",
    "#successes_freq, scipy.stats.hypergeom.sf(r0-1, n, L, v)"
   ]
  },
  {
   "cell_type": "code",
   "execution_count": 29,
   "metadata": {},
   "outputs": [
    {
     "data": {
      "image/png": "[encoded data removed]",
      "text/plain": [
       "<Figure size 432x288 with 1 Axes>"
      ]
     },
     "metadata": {
      "needs_background": "light"
     },
     "output_type": "display_data"
    }
   ],
   "source": [
    "plot.title(str(mc_iter_count) +' simulation runs per data point \\n' + 'n=' + str(n) + ', V=' + str(V) + ', L=' + str(L) + ', eta=' + str(eta) + ', theta =' + str(theta) + ', r0=' + str(r0))\n",
    "plot.xlabel('Number of known records in partial view')\n",
    "plot.ylabel('Partial view acceptance probability')\n",
    "plot.plot(vs, successes_freq, 'bo', vs, [scipy.stats.hypergeom.sf(r0-1, n, L, v) for v in vs], 'r-')\n",
    "#plot.plot(vs, [scipy.stats.hypergeom.sf(r0-1, n, L, v) for v in vs], 'r-')\n",
    "plot.legend(['simulation', 'model'])\n",
    "# plot.axvline(x=vopt, color='g')\n",
    "# plot.text(vopt, -0.1, '$v_{opt}$')\n",
    "# plot.axhline(y=scipy.stats.hypergeom.sf(r0-1, n, L, vopt), color='g')\n",
    "# plot.text(700, scipy.stats.hypergeom.sf(r0-1, n, L, vopt) - 0.05, 'Acceptance prob at $v_{opt}$ = '+ str(scipy.stats.hypergeom.sf(r0-1, n, L, vopt)))\n",
    "plot.grid()\n",
    "plot.savefig('P(fake_PV_has_r0_known_rows_dataset_500K)', dpi=300, bbox_inches='tight')\n",
    "#plot.text(0, scipy.stats.hypergeom.sf(r0-1, n, L, vs[-1], 'P(pass with vopt)'))\n",
    "#successes_freq, scipy.stats.hypergeom.sf(r0-1, n, L, v)"
   ]
  },
  {
   "cell_type": "code",
   "execution_count": 23,
   "metadata": {},
   "outputs": [
    {
     "data": {
      "text/plain": [
       "([1000, 2000, 3000, 4000, 5000], [0.27, 0.64, 0.8, 0.91, 0.95], 2, 3890)"
      ]
     },
     "execution_count": 23,
     "metadata": {},
     "output_type": "execute_result"
    }
   ],
   "source": [
    "vs, successes_freq, r0, vopt"
   ]
  },
  {
   "cell_type": "code",
   "execution_count": null,
   "metadata": {
    "scrolled": true
   },
   "outputs": [],
   "source": []
  },
  {
   "cell_type": "code",
   "execution_count": 31,
   "metadata": {},
   "outputs": [
    {
     "data": {
      "image/png": "[encoded data removed]",
      "text/plain": [
       "<Figure size 432x288 with 1 Axes>"
      ]
     },
     "metadata": {
      "needs_background": "light"
     },
     "output_type": "display_data"
    }
   ],
   "source": [
    "plot.title('500 simulation runs per data point \\n' + 'n=' + str(n) + ', V=' + str(V) + ', L=' + str(L) + ', eta=' + str(eta) + ', theta =' + str(theta))\n",
    "plot.xlabel('Number of honest records in partial view')\n",
    "plot.ylabel('Partial view acceptance probability')\n",
    "plot.plot(vs, successes_freq, 'bo', vs, [scipy.stats.hypergeom.sf(r0-1, n, L, v) for v in vs], 'r-')\n",
    "#plot.plot(vs, [scipy.stats.hypergeom.sf(r0-1, n, L, v) for v in vs], 'r-')\n",
    "plot.legend(['simulation', 'model'])\n",
    "plot.axvline(x=vopt, color='g')\n",
    "plot.text(vopt, -0.1, '$v_{opt}$')\n",
    "plot.axhline(y=scipy.stats.hypergeom.sf(r0-1, n, L, vopt), color='g')\n",
    "plot.text(700, scipy.stats.hypergeom.sf(r0-1, n, L, vopt) - 0.05, 'Acceptance prob at $v_{opt}$ = '+ str(scipy.stats.hypergeom.sf(r0-1, n, L, vopt)))\n",
    "plot.grid()\n",
    "#plot.text(0, scipy.stats.hypergeom.sf(r0-1, n, L, vs[-1], 'P(pass with vopt)'))\n",
    "#successes_freq, scipy.stats.hypergeom.sf(r0-1, n, L, v)"
   ]
  },
  {
   "cell_type": "code",
   "execution_count": 21,
   "metadata": {},
   "outputs": [
    {
     "data": {
      "text/plain": [
       "14571"
      ]
     },
     "execution_count": 21,
     "metadata": {},
     "output_type": "execute_result"
    }
   ],
   "source": [
    "vopt"
   ]
  },
  {
   "cell_type": "code",
   "execution_count": 32,
   "metadata": {},
   "outputs": [
    {
     "data": {
      "text/plain": [
       "0.9904150972494066"
      ]
     },
     "execution_count": 32,
     "metadata": {},
     "output_type": "execute_result"
    }
   ],
   "source": [
    "scipy.stats.hypergeom.sf(r0-1, n, L, vopt)"
   ]
  },
  {
   "cell_type": "code",
   "execution_count": 35,
   "metadata": {},
   "outputs": [
    {
     "data": {
      "text/plain": [
       "(15000, 1000, 7)"
      ]
     },
     "execution_count": 35,
     "metadata": {},
     "output_type": "execute_result"
    }
   ],
   "source": [
    "V, L, r0"
   ]
  },
  {
   "cell_type": "markdown",
   "metadata": {},
   "source": [
    "#### observation: the bigger the partial view size is, the bigger the vopt is"
   ]
  },
  {
   "cell_type": "code",
   "execution_count": 1,
   "metadata": {},
   "outputs": [
    {
     "data": {
      "text/plain": [
       "0.2"
      ]
     },
     "execution_count": 1,
     "metadata": {},
     "output_type": "execute_result"
    }
   ],
   "source": [
    "4/20"
   ]
  },
  {
   "cell_type": "code",
   "execution_count": null,
   "metadata": {},
   "outputs": [],
   "source": []
  }
 ],
 "metadata": {
  "kernelspec": {
   "display_name": "Python 3",
   "language": "python",
   "name": "python3"
  },
  "language_info": {
   "codemirror_mode": {
    "name": "ipython",
    "version": 3
   },
   "file_extension": ".py",
   "mimetype": "text/x-python",
   "name": "python",
   "nbconvert_exporter": "python",
   "pygments_lexer": "ipython3",
   "version": "3.7.4"
  }
 },
 "nbformat": 4,
 "nbformat_minor": 2
}
