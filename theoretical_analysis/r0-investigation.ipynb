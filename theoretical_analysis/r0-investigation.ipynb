{
 "cells": [
  {
   "cell_type": "code",
   "execution_count": 1,
   "metadata": {},
   "outputs": [],
   "source": [
    "import pandas as pd\n",
    "import numpy as np\n",
    "from numpy import linalg as la\n",
    "import matplotlib.pyplot as plot\n",
    "import seaborn as sns\n",
    "import scipy\n",
    "import math\n",
    "from statsmodels.distributions.empirical_distribution import ECDF\n",
    "from functools import reduce\n",
    "\n",
    "from random import sample\n",
    "#import dill\n",
    "%matplotlib inline\n",
    "sns.set(style=\"ticks\")"
   ]
  },
  {
   "cell_type": "code",
   "execution_count": 3,
   "metadata": {},
   "outputs": [
    {
     "name": "stdout",
     "output_type": "stream",
     "text": [
      "Vs =  [1000.0, 2000.0, 3000.0, 4000.0, 5000.0, 6000.0, 7000.0, 8000.0, 9000.0, 10000.0, 15000.0, 20000.0, 30000.0]\n",
      "r0 = [0.0, 0.0, 1.0, 1.0, 2.0, 2.0, 3.0, 4.0, 4.0, 5.0, 9.0, 13.0, 21.0]\n"
     ]
    }
   ],
   "source": [
    "#r0 with honest PV\n",
    "L = 1000\n",
    "n= 1000000\n",
    "# Vs = [5000,6000,7000,8000,9000,10000,15000,20000]\n",
    "# Vs = [5000,7500,10000,12500,15000,20000]\n",
    "Vs = [0.001*n, 0.002*n, 0.003*n, 0.004*n, 0.005*n,0.006*n, 0.007*n, 0.008*n, 0.009*n, 0.01*n,0.015*n,0.02*n, 0.03*n]\n",
    "# Vs = [0.005*n,0.0075*n,0.01*n,0.0125*n,0.015*n,0.02*n]\n",
    "macro_rmax = []\n",
    "eta = 0.95\n",
    "# macro_eta = [0.9, 0.91, 0.92, 0.93, 0.94, 0.95, 0.96, 0.97, 0.98, 0.99, 0.995]\n",
    "for V in Vs:\n",
    "    R_rv = scipy.stats.hypergeom(n, L, V)\n",
    "    rmax = R_rv.isf(eta)\n",
    "    macro_rmax.append(rmax)\n",
    "    rmax, R_rv.sf(rmax-1)\n",
    "    #macrovopts.append(vopts)\n",
    "#for eta in macro_eta:\n",
    "print('Vs = ', Vs)\n",
    "print('r0 =', macro_rmax)\n",
    " "
   ]
  },
  {
   "cell_type": "code",
   "execution_count": 7,
   "metadata": {},
   "outputs": [
    {
     "name": "stdout",
     "output_type": "stream",
     "text": [
      "Vs =  [500.0, 1000.0, 1500.0, 2000.0, 2500.0, 3000.0, 3500.0, 4000.0, 4500.0, 5000.0, 7500.0, 10000.0, 15000.0]\n",
      "r0 = [0.0, 0.0, 1.0, 1.0, 2.0, 2.0, 3.0, 4.0, 4.0, 5.0, 9.0, 13.0, 21.0]\n",
      "r0 = [0.0, 0.0, 1.0, 1.0, 2.0, 2.0, 3.0, 4.0, 4.0, 5.0, 9.0, 13.0, 21.0]\n"
     ]
    }
   ],
   "source": [
    "#r0 with honest partial view to pass >=eta, dihonest partial view to pass < eta\n",
    "L = 1000\n",
    "n= 500000\n",
    "Vs = [0.001*n, 0.002*n, 0.003*n, 0.004*n, 0.005*n,0.006*n, 0.007*n, 0.008*n, 0.009*n, 0.01*n,0.015*n,0.02*n, 0.03*n]\n",
    "vs = [0.001*n-1, 0.002*n-1, 0.003*n-1, 0.004*n-1, 0.005*n-1,0.006*n-1, 0.007*n-1, 0.008*n-1,\n",
    "      0.009*n-1, 0.01*n-1,0.015*n-1,0.02*n-1, 0.03*n-1]\n",
    "# Vs = [0.005*n,0.0075*n,0.01*n,0.0125*n,0.015*n,0.02*n]\n",
    "macro_rmax1 = []\n",
    "eta = 0.95\n",
    "# macro_eta = [0.9, 0.91, 0.92, 0.93, 0.94, 0.95, 0.96, 0.97, 0.98, 0.99, 0.995]\n",
    "for V in Vs:\n",
    "    R_rv = scipy.stats.hypergeom(n, L, V)\n",
    "    rmax1 = R_rv.isf(eta)\n",
    "    macro_rmax1.append(rmax1)\n",
    "    rmax1, R_rv.sf(rmax1-1)\n",
    "    ####\n",
    "    \n",
    "macro_rmax2 = []    \n",
    "for v in vs:    \n",
    "    Rv_rv = scipy.stats.hypergeom(n, L, v)\n",
    "    rmax2 = Rv_rv.isf(eta)\n",
    "    macro_rmax2.append(rmax2)\n",
    "    rmax2, Rv_rv.sf(rmax2)\n",
    "    #macrovopts.append(vopts)\n",
    "#for eta in macro_eta:\n",
    "print('Vs = ', Vs)\n",
    "print('r0 =', macro_rmax1)\n",
    "print('r0 =', macro_rmax2)\n",
    " "
   ]
  },
  {
   "cell_type": "code",
   "execution_count": 2,
   "metadata": {},
   "outputs": [],
   "source": [
    "def isin_row(df, record, cols=None):\n",
    "    cols = cols or df.columns\n",
    "    return reduce(lambda x, y:x&y, [df[f].isin([record[f]]) for f in cols]).any()"
   ]
  },
  {
   "cell_type": "code",
   "execution_count": 3,
   "metadata": {},
   "outputs": [
    {
     "name": "stderr",
     "output_type": "stream",
     "text": [
      "C:\\anaconda\\lib\\site-packages\\IPython\\core\\interactiveshell.py:3020: DtypeWarning: Columns (19,55,112,123,124,125,128,129,130,133,139,140,141) have mixed types. Specify dtype option on import or set low_memory=False.\n",
      "  interactivity=interactivity, compiler=compiler, result=result)\n"
     ]
    }
   ],
   "source": [
    "attributes_list = ['loan_amnt', 'home_ownership', 'term']\n",
    "\n",
    "def parse_home_ownership(v):\n",
    "    if v == 'RENT':\n",
    "        return 0\n",
    "    elif v == 'MORTGAGE':\n",
    "        return 10\n",
    "    elif v == 'OWN':\n",
    "        return 20\n",
    "    elif v == 'ANY':\n",
    "        return 30\n",
    "    else:\n",
    "        raise ValueError('Unknown home ownership ' + v)\n",
    "\n",
    "def parse_term(v):\n",
    "    spl = v.strip().split(' ', 1)\n",
    "    if spl[1] != 'months':\n",
    "        raise ValueError('Unknown term ' + v)\n",
    "    return spl[0]\n",
    "\n",
    "attributes_shapings = dict([])\n",
    "#attributes_shapings['grade'] = lambda v: ord(v)\n",
    "attributes_shapings['home_ownership'] = parse_home_ownership\n",
    "attributes_shapings['term'] = parse_term\n",
    "#attributes_shapings['int_rate'] = lambda v: int(100.0*v)\n",
    "\n",
    "n = 1000000\n",
    "\n",
    "realdata = pd.read_csv('../input/lending-club-loan-data/loan.csv', nrows=n, header=0)\n",
    "realdata = realdata[attributes_list].dropna()\n",
    "\n",
    "for k, v in attributes_shapings.items():\n",
    "    realdata[k] = realdata[k].apply(v)\n",
    "\n",
    "realdata = realdata.astype(np.int64)\n",
    "\n",
    "realdata.loc[:, 'id'] = pd.Series([k for k in range(realdata.shape[0])], index=realdata.index)\n",
    "attributes_list.append('id')"
   ]
  },
  {
   "cell_type": "code",
   "execution_count": 5,
   "metadata": {},
   "outputs": [
    {
     "data": {
      "text/html": [
       "<div>\n",
       "<style scoped>\n",
       "    .dataframe tbody tr th:only-of-type {\n",
       "        vertical-align: middle;\n",
       "    }\n",
       "\n",
       "    .dataframe tbody tr th {\n",
       "        vertical-align: top;\n",
       "    }\n",
       "\n",
       "    .dataframe thead th {\n",
       "        text-align: right;\n",
       "    }\n",
       "</style>\n",
       "<table border=\"1\" class=\"dataframe\">\n",
       "  <thead>\n",
       "    <tr style=\"text-align: right;\">\n",
       "      <th></th>\n",
       "      <th>loan_amnt</th>\n",
       "      <th>home_ownership</th>\n",
       "      <th>term</th>\n",
       "      <th>id</th>\n",
       "    </tr>\n",
       "  </thead>\n",
       "  <tbody>\n",
       "    <tr>\n",
       "      <th>0</th>\n",
       "      <td>2500</td>\n",
       "      <td>0</td>\n",
       "      <td>36</td>\n",
       "      <td>0</td>\n",
       "    </tr>\n",
       "    <tr>\n",
       "      <th>1</th>\n",
       "      <td>30000</td>\n",
       "      <td>10</td>\n",
       "      <td>60</td>\n",
       "      <td>1</td>\n",
       "    </tr>\n",
       "    <tr>\n",
       "      <th>2</th>\n",
       "      <td>5000</td>\n",
       "      <td>10</td>\n",
       "      <td>36</td>\n",
       "      <td>2</td>\n",
       "    </tr>\n",
       "    <tr>\n",
       "      <th>3</th>\n",
       "      <td>4000</td>\n",
       "      <td>10</td>\n",
       "      <td>36</td>\n",
       "      <td>3</td>\n",
       "    </tr>\n",
       "    <tr>\n",
       "      <th>4</th>\n",
       "      <td>30000</td>\n",
       "      <td>10</td>\n",
       "      <td>60</td>\n",
       "      <td>4</td>\n",
       "    </tr>\n",
       "  </tbody>\n",
       "</table>\n",
       "</div>"
      ],
      "text/plain": [
       "   loan_amnt  home_ownership  term  id\n",
       "0       2500               0    36   0\n",
       "1      30000              10    60   1\n",
       "2       5000              10    36   2\n",
       "3       4000              10    36   3\n",
       "4      30000              10    60   4"
      ]
     },
     "execution_count": 5,
     "metadata": {},
     "output_type": "execute_result"
    }
   ],
   "source": [
    "realdata.head()"
   ]
  },
  {
   "cell_type": "code",
   "execution_count": 6,
   "metadata": {},
   "outputs": [
    {
     "data": {
      "text/html": [
       "<div>\n",
       "<style scoped>\n",
       "    .dataframe tbody tr th:only-of-type {\n",
       "        vertical-align: middle;\n",
       "    }\n",
       "\n",
       "    .dataframe tbody tr th {\n",
       "        vertical-align: top;\n",
       "    }\n",
       "\n",
       "    .dataframe thead th {\n",
       "        text-align: right;\n",
       "    }\n",
       "</style>\n",
       "<table border=\"1\" class=\"dataframe\">\n",
       "  <thead>\n",
       "    <tr style=\"text-align: right;\">\n",
       "      <th></th>\n",
       "      <th>count</th>\n",
       "      <th>mean</th>\n",
       "      <th>std</th>\n",
       "      <th>min</th>\n",
       "      <th>25%</th>\n",
       "      <th>50%</th>\n",
       "      <th>75%</th>\n",
       "      <th>max</th>\n",
       "    </tr>\n",
       "  </thead>\n",
       "  <tbody>\n",
       "    <tr>\n",
       "      <th>loan_amnt</th>\n",
       "      <td>1000000.0</td>\n",
       "      <td>15394.886100</td>\n",
       "      <td>9575.099084</td>\n",
       "      <td>1000.0</td>\n",
       "      <td>8000.00</td>\n",
       "      <td>13000.0</td>\n",
       "      <td>20000.00</td>\n",
       "      <td>40000.0</td>\n",
       "    </tr>\n",
       "    <tr>\n",
       "      <th>home_ownership</th>\n",
       "      <td>1000000.0</td>\n",
       "      <td>7.296660</td>\n",
       "      <td>6.657221</td>\n",
       "      <td>0.0</td>\n",
       "      <td>0.00</td>\n",
       "      <td>10.0</td>\n",
       "      <td>10.00</td>\n",
       "      <td>30.0</td>\n",
       "    </tr>\n",
       "    <tr>\n",
       "      <th>term</th>\n",
       "      <td>1000000.0</td>\n",
       "      <td>42.817464</td>\n",
       "      <td>10.823190</td>\n",
       "      <td>36.0</td>\n",
       "      <td>36.00</td>\n",
       "      <td>36.0</td>\n",
       "      <td>60.00</td>\n",
       "      <td>60.0</td>\n",
       "    </tr>\n",
       "    <tr>\n",
       "      <th>id</th>\n",
       "      <td>1000000.0</td>\n",
       "      <td>499999.500000</td>\n",
       "      <td>288675.278933</td>\n",
       "      <td>0.0</td>\n",
       "      <td>249999.75</td>\n",
       "      <td>499999.5</td>\n",
       "      <td>749999.25</td>\n",
       "      <td>999999.0</td>\n",
       "    </tr>\n",
       "  </tbody>\n",
       "</table>\n",
       "</div>"
      ],
      "text/plain": [
       "                    count           mean            std     min        25%  \\\n",
       "loan_amnt       1000000.0   15394.886100    9575.099084  1000.0    8000.00   \n",
       "home_ownership  1000000.0       7.296660       6.657221     0.0       0.00   \n",
       "term            1000000.0      42.817464      10.823190    36.0      36.00   \n",
       "id              1000000.0  499999.500000  288675.278933     0.0  249999.75   \n",
       "\n",
       "                     50%        75%       max  \n",
       "loan_amnt        13000.0   20000.00   40000.0  \n",
       "home_ownership      10.0      10.00      30.0  \n",
       "term                36.0      60.00      60.0  \n",
       "id              499999.5  749999.25  999999.0  "
      ]
     },
     "execution_count": 6,
     "metadata": {},
     "output_type": "execute_result"
    }
   ],
   "source": [
    "realdata.describe().transpose()"
   ]
  },
  {
   "cell_type": "code",
   "execution_count": 7,
   "metadata": {},
   "outputs": [
    {
     "data": {
      "text/plain": [
       "loan_amnt            1561\n",
       "home_ownership          4\n",
       "term                    2\n",
       "id                1000000\n",
       "dtype: int64"
      ]
     },
     "execution_count": 7,
     "metadata": {},
     "output_type": "execute_result"
    }
   ],
   "source": [
    "realdata.nunique()"
   ]
  },
  {
   "cell_type": "code",
   "execution_count": 8,
   "metadata": {},
   "outputs": [],
   "source": [
    "# Concrete space size\n",
    "#realdata.nunique().prod()"
   ]
  },
  {
   "cell_type": "code",
   "execution_count": 8,
   "metadata": {},
   "outputs": [
    {
     "data": {
      "text/plain": [
       "loan_amnt          15394.886100\n",
       "home_ownership         7.296660\n",
       "term                  42.817464\n",
       "id                499999.500000\n",
       "dtype: float64"
      ]
     },
     "execution_count": 8,
     "metadata": {},
     "output_type": "execute_result"
    }
   ],
   "source": [
    "realmean = realdata.mean()\n",
    "realmean"
   ]
  },
  {
   "cell_type": "code",
   "execution_count": 9,
   "metadata": {},
   "outputs": [
    {
     "data": {
      "text/plain": [
       "loan_amnt           9575.099084\n",
       "home_ownership         6.657221\n",
       "term                  10.823190\n",
       "id                288675.278933\n",
       "dtype: float64"
      ]
     },
     "execution_count": 9,
     "metadata": {},
     "output_type": "execute_result"
    }
   ],
   "source": [
    "realstd = realdata.std()\n",
    "realstd"
   ]
  },
  {
   "cell_type": "code",
   "execution_count": 10,
   "metadata": {},
   "outputs": [
    {
     "data": {
      "text/html": [
       "<div>\n",
       "<style scoped>\n",
       "    .dataframe tbody tr th:only-of-type {\n",
       "        vertical-align: middle;\n",
       "    }\n",
       "\n",
       "    .dataframe tbody tr th {\n",
       "        vertical-align: top;\n",
       "    }\n",
       "\n",
       "    .dataframe thead th {\n",
       "        text-align: right;\n",
       "    }\n",
       "</style>\n",
       "<table border=\"1\" class=\"dataframe\">\n",
       "  <thead>\n",
       "    <tr style=\"text-align: right;\">\n",
       "      <th></th>\n",
       "      <th>loan_amnt</th>\n",
       "      <th>home_ownership</th>\n",
       "      <th>term</th>\n",
       "      <th>id</th>\n",
       "    </tr>\n",
       "  </thead>\n",
       "  <tbody>\n",
       "    <tr>\n",
       "      <th>loan_amnt</th>\n",
       "      <td>9.168252e+07</td>\n",
       "      <td>6051.590941</td>\n",
       "      <td>39613.073042</td>\n",
       "      <td>-1.416824e+08</td>\n",
       "    </tr>\n",
       "    <tr>\n",
       "      <th>home_ownership</th>\n",
       "      <td>6.051591e+03</td>\n",
       "      <td>44.318597</td>\n",
       "      <td>3.716007</td>\n",
       "      <td>7.426187e+03</td>\n",
       "    </tr>\n",
       "    <tr>\n",
       "      <th>term</th>\n",
       "      <td>3.961307e+04</td>\n",
       "      <td>3.716007</td>\n",
       "      <td>117.141438</td>\n",
       "      <td>-9.999410e+04</td>\n",
       "    </tr>\n",
       "    <tr>\n",
       "      <th>id</th>\n",
       "      <td>-1.416824e+08</td>\n",
       "      <td>7426.186796</td>\n",
       "      <td>-99994.104862</td>\n",
       "      <td>8.333342e+10</td>\n",
       "    </tr>\n",
       "  </tbody>\n",
       "</table>\n",
       "</div>"
      ],
      "text/plain": [
       "                   loan_amnt  home_ownership          term            id\n",
       "loan_amnt       9.168252e+07     6051.590941  39613.073042 -1.416824e+08\n",
       "home_ownership  6.051591e+03       44.318597      3.716007  7.426187e+03\n",
       "term            3.961307e+04        3.716007    117.141438 -9.999410e+04\n",
       "id             -1.416824e+08     7426.186796 -99994.104862  8.333342e+10"
      ]
     },
     "execution_count": 10,
     "metadata": {},
     "output_type": "execute_result"
    }
   ],
   "source": [
    "realcov = realdata.cov()\n",
    "realcov"
   ]
  },
  {
   "cell_type": "code",
   "execution_count": 11,
   "metadata": {},
   "outputs": [
    {
     "data": {
      "text/html": [
       "<div>\n",
       "<style scoped>\n",
       "    .dataframe tbody tr th:only-of-type {\n",
       "        vertical-align: middle;\n",
       "    }\n",
       "\n",
       "    .dataframe tbody tr th {\n",
       "        vertical-align: top;\n",
       "    }\n",
       "\n",
       "    .dataframe thead th {\n",
       "        text-align: right;\n",
       "    }\n",
       "</style>\n",
       "<table border=\"1\" class=\"dataframe\">\n",
       "  <thead>\n",
       "    <tr style=\"text-align: right;\">\n",
       "      <th></th>\n",
       "      <th>loan_amnt</th>\n",
       "      <th>home_ownership</th>\n",
       "      <th>term</th>\n",
       "      <th>id</th>\n",
       "    </tr>\n",
       "  </thead>\n",
       "  <tbody>\n",
       "    <tr>\n",
       "      <th>loan_amnt</th>\n",
       "      <td>1.000000</td>\n",
       "      <td>0.094937</td>\n",
       "      <td>0.382243</td>\n",
       "      <td>-0.051258</td>\n",
       "    </tr>\n",
       "    <tr>\n",
       "      <th>home_ownership</th>\n",
       "      <td>0.094937</td>\n",
       "      <td>1.000000</td>\n",
       "      <td>0.051574</td>\n",
       "      <td>0.003864</td>\n",
       "    </tr>\n",
       "    <tr>\n",
       "      <th>term</th>\n",
       "      <td>0.382243</td>\n",
       "      <td>0.051574</td>\n",
       "      <td>1.000000</td>\n",
       "      <td>-0.032004</td>\n",
       "    </tr>\n",
       "    <tr>\n",
       "      <th>id</th>\n",
       "      <td>-0.051258</td>\n",
       "      <td>0.003864</td>\n",
       "      <td>-0.032004</td>\n",
       "      <td>1.000000</td>\n",
       "    </tr>\n",
       "  </tbody>\n",
       "</table>\n",
       "</div>"
      ],
      "text/plain": [
       "                loan_amnt  home_ownership      term        id\n",
       "loan_amnt        1.000000        0.094937  0.382243 -0.051258\n",
       "home_ownership   0.094937        1.000000  0.051574  0.003864\n",
       "term             0.382243        0.051574  1.000000 -0.032004\n",
       "id              -0.051258        0.003864 -0.032004  1.000000"
      ]
     },
     "execution_count": 11,
     "metadata": {},
     "output_type": "execute_result"
    }
   ],
   "source": [
    "realcorr = realdata.corr()\n",
    "realcorr"
   ]
  },
  {
   "cell_type": "code",
   "execution_count": 12,
   "metadata": {},
   "outputs": [
    {
     "data": {
      "text/html": [
       "<div>\n",
       "<style scoped>\n",
       "    .dataframe tbody tr th:only-of-type {\n",
       "        vertical-align: middle;\n",
       "    }\n",
       "\n",
       "    .dataframe tbody tr th {\n",
       "        vertical-align: top;\n",
       "    }\n",
       "\n",
       "    .dataframe thead th {\n",
       "        text-align: right;\n",
       "    }\n",
       "</style>\n",
       "<table border=\"1\" class=\"dataframe\">\n",
       "  <thead>\n",
       "    <tr style=\"text-align: right;\">\n",
       "      <th></th>\n",
       "      <th>loan_amnt</th>\n",
       "      <th>home_ownership</th>\n",
       "      <th>term</th>\n",
       "      <th>id</th>\n",
       "    </tr>\n",
       "  </thead>\n",
       "  <tbody>\n",
       "    <tr>\n",
       "      <th>loan_amnt</th>\n",
       "      <td>1.000000</td>\n",
       "      <td>0.110754</td>\n",
       "      <td>0.425640</td>\n",
       "      <td>-0.035060</td>\n",
       "    </tr>\n",
       "    <tr>\n",
       "      <th>home_ownership</th>\n",
       "      <td>0.110754</td>\n",
       "      <td>1.000000</td>\n",
       "      <td>0.062123</td>\n",
       "      <td>0.004963</td>\n",
       "    </tr>\n",
       "    <tr>\n",
       "      <th>term</th>\n",
       "      <td>0.425640</td>\n",
       "      <td>0.062123</td>\n",
       "      <td>1.000000</td>\n",
       "      <td>-0.032004</td>\n",
       "    </tr>\n",
       "    <tr>\n",
       "      <th>id</th>\n",
       "      <td>-0.035060</td>\n",
       "      <td>0.004963</td>\n",
       "      <td>-0.032004</td>\n",
       "      <td>1.000000</td>\n",
       "    </tr>\n",
       "  </tbody>\n",
       "</table>\n",
       "</div>"
      ],
      "text/plain": [
       "                loan_amnt  home_ownership      term        id\n",
       "loan_amnt        1.000000        0.110754  0.425640 -0.035060\n",
       "home_ownership   0.110754        1.000000  0.062123  0.004963\n",
       "term             0.425640        0.062123  1.000000 -0.032004\n",
       "id              -0.035060        0.004963 -0.032004  1.000000"
      ]
     },
     "execution_count": 12,
     "metadata": {},
     "output_type": "execute_result"
    }
   ],
   "source": [
    "realspr = pd.DataFrame(scipy.stats.spearmanr(realdata).correlation, columns=attributes_list, index=attributes_list)\n",
    "#realspr = scipy.stats.spearmanr(realdata)\n",
    "realspr"
   ]
  },
  {
   "cell_type": "code",
   "execution_count": 13,
   "metadata": {},
   "outputs": [],
   "source": [
    "#known_records_indexes = [5, 23, 388, 462, 499, 10, 280]\n",
    "#known_records_indexes = [6545, 135, 1789]\n",
    "#known_records_indexes = [3, 8, 28, 321, 405]\n",
    "#known_records_indexes = [136, 148, 517, 569, 597, 704, 710, 719, 765, 871, 1085, 1105, 1182, 1234, 1257, 1434, 1547, 1638, 1855, 1935, 2092, 2113, 2330, 2370, 2688, 3031, 3078, 3128, 3152, 3233, 3290, 3437, 3453, 3544, 3627, 3917, 3927, 3946, 4320, 4325, 4351, 4466, 4575, 4826, 4841, 4987, 5093, 5174, 5213, 5392, 5514, 5565, 5719, 5929, 5947, 5962, 6073, 6087, 6202, 6234, 6333, 6338, 6391, 6429, 6432, 6441, 6728, 6889, 6921, 6952, 6967, 7187, 7201, 7202, 7279, 7548, 7576, 7657, 7699, 7727, 7756, 7913, 7945, 7982, 7998, 8010, 8084, 8090, 8311, 8493, 8585, 8827, 8976, 9235, 9329, 9412, 9657, 9740, 9756, 9866]\n",
    "#known_records = realdata.iloc[known_records_indexes,:]\n",
    "#known_records_indexes = []\n",
    "#known_records = None\n",
    "\n",
    "def sample_records(df, records_count):\n",
    "    n = df.shape[0]\n",
    "    L = records_count\n",
    "    known_records_indexes = sample(range(n), k=L)\n",
    "    known_records = df.iloc[known_records_indexes,:]\n",
    "    return (known_records_indexes, known_records)\n",
    "\n",
    "def count_present_records(df, known_records):\n",
    "    records_present = 0\n",
    "    for i in range(len(known_records)):\n",
    "        rec = known_records.iloc[i,:]\n",
    "        if isin_row(df, rec):\n",
    "            records_present += 1\n",
    "    return records_present\n",
    "\n",
    "def count_present_records_distinguish(df, known_records, known_records_indexes):\n",
    "    records_occurrences = dict([])\n",
    "    for i in range(len(known_records)):\n",
    "        rec = known_records.iloc[i,:]\n",
    "        records_occurrences[known_records_indexes[i]] = 0\n",
    "        if isin_row(df, rec):\n",
    "            records_occurrences[known_records_indexes[i]] += 1\n",
    "    return records_occurrences\n",
    "\n",
    "def check_pass_test(df, known_records):\n",
    "    for i in range(len(known_records)):\n",
    "        rec = known_records.iloc[i,:]\n",
    "        if not isin_row(df, rec):\n",
    "            return False\n",
    "    return True"
   ]
  },
  {
   "cell_type": "code",
   "execution_count": 2,
   "metadata": {},
   "outputs": [],
   "source": [
    "def Psuccess(x, n, L):\n",
    "    p = 1.0\n",
    "    for i in range(L):\n",
    "        p *= (x-i)\n",
    "        p /= (n-i)\n",
    "    return p"
   ]
  },
  {
   "cell_type": "code",
   "execution_count": 15,
   "metadata": {},
   "outputs": [
    {
     "data": {
      "text/plain": [
       "[<matplotlib.lines.Line2D at 0x21b35c52278>]"
      ]
     },
     "execution_count": 15,
     "metadata": {},
     "output_type": "execute_result"
    },
    {
     "data": {
      "image/png": "[encoded data removed]",
      "text/plain": [
       "<Figure size 432x288 with 1 Axes>"
      ]
     },
     "metadata": {
      "needs_background": "light"
     },
     "output_type": "display_data"
    }
   ],
   "source": [
    "n = realdata.shape[0]\n",
    "L = 500\n",
    "eps = 0.1\n",
    "nopt = min([x for x in range(L, n+1) if 1-Psuccess(x, n, L) <= eps])\n",
    "nopt, 1-Psuccess(nopt, n, L)\n",
    "plot.xlabel('x')\n",
    "plot.ylabel('P')\n",
    "plot.axvline(x=nopt, color='r')\n",
    "plot.axhline(y=eps, color='r')\n",
    "plot.plot([1-Psuccess(x, n, L) for x in range(L, n+1)], '.')"
   ]
  },
  {
   "cell_type": "markdown",
   "metadata": {},
   "source": [
    "## Partial view"
   ]
  },
  {
   "cell_type": "markdown",
   "metadata": {},
   "source": [
    "### Without generation"
   ]
  },
  {
   "cell_type": "code",
   "execution_count": 16,
   "metadata": {},
   "outputs": [],
   "source": [
    "L = 500\n",
    "x = 1000000\n",
    "\n",
    "#dummyrow = realdata.iloc[0,:].apply(lambda _: 0).copy()\n",
    "#dummyrowdf = pd.DataFrame(dummyrow).transpose()\n",
    "#dummydf = pd.concat([dummyrowdf]*(n-x), ignore_index=True, sort=False)\n",
    "\n",
    "#PVsizes = [(k*n) // 10 for k in range(1, 6)]\n",
    "PVsizes = [10000]\n",
    "R1 = []\n",
    "\n",
    "for PVsize in PVsizes:\n",
    "    mc_iter_count = 100\n",
    "\n",
    "    present_records = mc_iter_count*[None]\n",
    "\n",
    "    for k in range(mc_iter_count):\n",
    "        (S_kri, S_kr) = sample_records(realdata, L)\n",
    "        #(_, A_kr) = sample_records(realdata, x)\n",
    "        A_kr = realdata\n",
    "        Da_star = A_kr\n",
    "        #Da_star = pd.concat([A_kr, dummydf], ignore_index=True, sort=False)\n",
    "        assert Da_star.shape == realdata.shape\n",
    "        (_, PV) = sample_records(Da_star, PVsize)\n",
    "        present_records[k] = pd.Series(count_present_records_distinguish(PV, S_kr, S_kri))\n",
    "        #print(present_records[k])\n",
    "        #print('---------------')\n",
    "\n",
    "    rec_bounded_counts = pd.Series([present_records[k][present_records[k] != 0].count() for k in range(mc_iter_count)])\n",
    "    #plot.plot(rec_bounded_counts, 'o')\n",
    "    #print(rec_bounded_counts)\n",
    "    R_empirical_dist = [rec_bounded_counts[rec_bounded_counts == r].count()/mc_iter_count for r in range(0, L+1)]\n",
    "    R1.append(R_empirical_dist)"
   ]
  },
  {
   "cell_type": "code",
   "execution_count": 17,
   "metadata": {},
   "outputs": [
    {
     "data": {
      "text/plain": [
       "[<matplotlib.lines.Line2D at 0x21b282e7278>,\n",
       " <matplotlib.lines.Line2D at 0x21b282e73c8>]"
      ]
     },
     "execution_count": 17,
     "metadata": {},
     "output_type": "execute_result"
    },
    {
     "data": {
      "image/png": "[encoded data removed]",
      "text/plain": [
       "<Figure size 432x288 with 1 Axes>"
      ]
     },
     "metadata": {
      "needs_background": "light"
     },
     "output_type": "display_data"
    }
   ],
   "source": [
    "V = 10000\n",
    "rv = scipy.stats.hypergeom(n, L, V)\n",
    "plot.plot([r for r in range(0, L+1)], R_empirical_dist, 'b+', [r for r in range(0, L+1)], [rv.pmf(r) for r in range(0, L+1)], 'rx')"
   ]
  },
  {
   "cell_type": "code",
   "execution_count": 18,
   "metadata": {},
   "outputs": [
    {
     "data": {
      "text/plain": [
       "[<matplotlib.lines.Line2D at 0x21b2e724898>,\n",
       " <matplotlib.lines.Line2D at 0x21b2e7249e8>]"
      ]
     },
     "execution_count": 18,
     "metadata": {},
     "output_type": "execute_result"
    },
    {
     "data": {
      "image/png": "[encoded data removed]",
      "text/plain": [
       "<Figure size 432x288 with 1 Axes>"
      ]
     },
     "metadata": {
      "needs_background": "light"
     },
     "output_type": "display_data"
    }
   ],
   "source": [
    "rv2 = scipy.stats.binom(L, V/n)\n",
    "plot.plot([r for r in range(0, L+1)], R_empirical_dist, 'b+', [r for r in range(0, L+1)], [rv2.pmf(r) for r in range(0, L+1)], 'rx')"
   ]
  },
  {
   "cell_type": "code",
   "execution_count": 3,
   "metadata": {},
   "outputs": [
    {
     "data": {
      "text/plain": [
       "(2.0, 0.8817617250531364)"
      ]
     },
     "execution_count": 3,
     "metadata": {},
     "output_type": "execute_result"
    }
   ],
   "source": [
    "L = 100\n",
    "n = 500000\n",
    "V = 25000\n",
    "eta = 0.95\n",
    "R_rv = scipy.stats.hypergeom(n, L, V)\n",
    "rmax = R_rv.isf(eta)\n",
    "rmax, R_rv.sf(rmax)"
   ]
  },
  {
   "cell_type": "code",
   "execution_count": 6,
   "metadata": {},
   "outputs": [
    {
     "name": "stdout",
     "output_type": "stream",
     "text": [
      "[0.9, 0.91, 0.92, 0.93, 0.94, 0.95, 0.96, 0.97, 0.98, 0.99, 0.995]\n",
      "[4.0, 4.0, 4.0, 3.0, 3.0, 3.0, 3.0, 3.0, 2.0, 2.0, 1.0]\n"
     ]
    }
   ],
   "source": [
    "L = 100\n",
    "V = 35000\n",
    "n = 500000\n",
    "macro_rmax = []\n",
    "macro_eta = [0.9, 0.91, 0.92, 0.93, 0.94, 0.95, 0.96, 0.97, 0.98, 0.99, 0.995]\n",
    "for eta in macro_eta:\n",
    "    R_rv = scipy.stats.hypergeom(n, L, V)\n",
    "    rmax = R_rv.isf(eta)\n",
    "    macro_rmax.append(rmax)\n",
    "    rmax, R_rv.sf(rmax-1)\n",
    "    #macrovopts.append(vopts)\n",
    "#for eta in macro_eta:\n",
    "print(macro_eta)\n",
    "print(macro_rmax)"
   ]
  },
  {
   "cell_type": "code",
   "execution_count": 4,
   "metadata": {},
   "outputs": [
    {
     "name": "stdout",
     "output_type": "stream",
     "text": [
      "[0.9, 0.91, 0.92, 0.93, 0.94, 0.95, 0.96, 0.97, 0.98, 0.99, 0.995]\n",
      "[2.0, 2.0, 1.0, 1.0, 1.0, 1.0, 1.0, 1.0, 1.0, 0.0, 0.0]\n"
     ]
    }
   ],
   "source": [
    "L = 50\n",
    "V = 40000\n",
    "n = 500000\n",
    "macro_rmax = []\n",
    "macro_eta = [0.9, 0.91, 0.92, 0.93, 0.94, 0.95, 0.96, 0.97, 0.98, 0.99, 0.995]\n",
    "for eta in macro_eta:\n",
    "    R_rv = scipy.stats.hypergeom(n, L, V)\n",
    "    rmax = R_rv.isf(eta)\n",
    "    macro_rmax.append(rmax)\n",
    "    rmax, R_rv.sf(rmax-1)\n",
    "    #macrovopts.append(vopts)\n",
    "#for eta in macro_eta:\n",
    "print(macro_eta)\n",
    "print(macro_rmax)"
   ]
  },
  {
   "cell_type": "code",
   "execution_count": 5,
   "metadata": {},
   "outputs": [
    {
     "name": "stdout",
     "output_type": "stream",
     "text": [
      "[0.9, 0.91, 0.92, 0.93, 0.94, 0.95, 0.96, 0.97, 0.98, 0.99, 0.995]\n",
      "[2.0, 2.0, 2.0, 2.0, 2.0, 2.0, 2.0, 1.0, 1.0, 1.0, 0.0]\n"
     ]
    }
   ],
   "source": [
    "L = 50\n",
    "V = 50000\n",
    "n = 500000\n",
    "macro_rmax = []\n",
    "macro_eta = [0.9, 0.91, 0.92, 0.93, 0.94, 0.95, 0.96, 0.97, 0.98, 0.99, 0.995]\n",
    "for eta in macro_eta:\n",
    "    R_rv = scipy.stats.hypergeom(n, L, V)\n",
    "    rmax = R_rv.isf(eta)\n",
    "    macro_rmax.append(rmax)\n",
    "    rmax, R_rv.sf(rmax-1)\n",
    "    #macrovopts.append(vopts)\n",
    "#for eta in macro_eta:\n",
    "print(macro_eta)\n",
    "print(macro_rmax)"
   ]
  },
  {
   "cell_type": "code",
   "execution_count": 6,
   "metadata": {},
   "outputs": [
    {
     "name": "stdout",
     "output_type": "stream",
     "text": [
      "[0.9, 0.92, 0.94, 0.96, 0.98, 0.99]\n",
      "[2.0, 2.0, 2.0, 2.0, 1.0, 1.0]\n"
     ]
    }
   ],
   "source": [
    "L = 500\n",
    "V = 5000\n",
    "n= 500000\n",
    "macro_rmax = []\n",
    "macro_eta = [0.9, 0.92, 0.94, 0.96, 0.98, 0.99]\n",
    "for eta in macro_eta:\n",
    "    R_rv = scipy.stats.hypergeom(n, L, V)\n",
    "    rmax = R_rv.isf(eta)\n",
    "    macro_rmax.append(rmax)\n",
    "    rmax, R_rv.sf(rmax-1)\n",
    "    #macrovopts.append(vopts)\n",
    "#for eta in macro_eta:\n",
    "print(macro_eta)\n",
    "print(macro_rmax)"
   ]
  },
  {
   "cell_type": "code",
   "execution_count": 10,
   "metadata": {},
   "outputs": [
    {
     "name": "stdout",
     "output_type": "stream",
     "text": [
      "[0.9, 0.92, 0.94, 0.95, 0.96, 0.98, 0.99]\n",
      "[2.0, 1.0, 1.0, 1.0, 1.0, 1.0, 0.0]\n"
     ]
    }
   ],
   "source": [
    "L = 100\n",
    "V = 20000\n",
    "n= 500000\n",
    "macro_rmax = []\n",
    "macro_eta = [0.9, 0.92, 0.94, 0.95, 0.96, 0.98, 0.99]\n",
    "for eta in macro_eta:\n",
    "    R_rv = scipy.stats.hypergeom(n, L, V)\n",
    "    rmax = R_rv.isf(eta)\n",
    "    macro_rmax.append(rmax)\n",
    "    rmax, R_rv.sf(rmax-1)\n",
    "    #macrovopts.append(vopts)\n",
    "#for eta in macro_eta:\n",
    "print(macro_eta)\n",
    "print(macro_rmax)"
   ]
  },
  {
   "cell_type": "code",
   "execution_count": null,
   "metadata": {},
   "outputs": [],
   "source": []
  },
  {
   "cell_type": "code",
   "execution_count": 21,
   "metadata": {
    "scrolled": true
   },
   "outputs": [
    {
     "name": "stdout",
     "output_type": "stream",
     "text": [
      "[0.9, 0.91, 0.92, 0.93, 0.94, 0.95, 0.96, 0.97, 0.98, 0.99, 0.995]\n",
      "[2.0, 2.0, 2.0, 2.0, 2.0, 2.0, 2.0, 1.0, 1.0, 1.0, 0.0]\n",
      "[2.0, 2.0, 2.0, 2.0, 2.0, 2.0, 2.0, 1.0, 1.0, 1.0, 0.0]\n"
     ]
    }
   ],
   "source": [
    "L = 500\n",
    "V = 5000\n",
    "n= 500000\n",
    "macro_rmax = []\n",
    "macro_eta = [0.9, 0.91, 0.92, 0.93, 0.94, 0.95, 0.96, 0.97, 0.98, 0.99, 0.995]\n",
    "for eta in macro_eta:\n",
    "    R_rv = scipy.stats.hypergeom(n, L, V)\n",
    "    rmax = R_rv.isf(eta)\n",
    "    macro_rmax.append(rmax)\n",
    "    rmax, R_rv.sf(rmax-1)\n",
    "    #macrovopts.append(vopts)\n",
    "#for eta in macro_eta:\n",
    "print(macro_eta)\n",
    "print(macro_rmax)\n",
    "\n",
    "macro_r0 =[]\n",
    "for eta in macro_eta: \n",
    "    r0 = scipy.stats.hypergeom.isf(eta,n,L,V)\n",
    "    macro_r0.append(r0)\n",
    "    \n",
    "print(macro_r0)    "
   ]
  },
  {
   "cell_type": "code",
   "execution_count": 6,
   "metadata": {},
   "outputs": [
    {
     "name": "stdout",
     "output_type": "stream",
     "text": [
      "[0.9, 0.91, 0.92, 0.93, 0.94, 0.95, 0.96, 0.97, 0.98, 0.99, 0.995]\n",
      "[6.0, 6.0, 6.0, 6.0, 5.0, 5.0, 5.0, 5.0, 4.0, 3.0, 3.0]\n",
      "[6.0, 6.0, 6.0, 6.0, 5.0, 5.0, 5.0, 5.0, 4.0, 3.0, 3.0]\n"
     ]
    }
   ],
   "source": [
    "L = 1000\n",
    "V = 10000\n",
    "n= 1000000\n",
    "macro_rmax = []\n",
    "macro_eta = [0.9, 0.91, 0.92, 0.93, 0.94, 0.95, 0.96, 0.97, 0.98, 0.99, 0.995]\n",
    "for eta in macro_eta:\n",
    "    R_rv = scipy.stats.hypergeom(n, L, V)\n",
    "    rmax = R_rv.isf(eta)\n",
    "    macro_rmax.append(rmax)\n",
    "    rmax, R_rv.sf(rmax-1)\n",
    "    #macrovopts.append(vopts)\n",
    "#for eta in macro_eta:\n",
    "print(macro_eta)\n",
    "print(macro_rmax)\n",
    "\n",
    "macro_r0 =[]\n",
    "for eta in macro_eta: \n",
    "    r0 = scipy.stats.hypergeom.isf(eta,n,L,V)\n",
    "    macro_r0.append(r0)\n",
    "    \n",
    "print(macro_r0)    "
   ]
  },
  {
   "cell_type": "code",
   "execution_count": 7,
   "metadata": {},
   "outputs": [
    {
     "name": "stdout",
     "output_type": "stream",
     "text": [
      "[0.9, 0.91, 0.92, 0.93, 0.94, 0.95, 0.96, 0.97, 0.98, 0.99, 0.995]\n",
      "[6.0, 6.0, 6.0, 6.0, 5.0, 5.0, 5.0, 5.0, 4.0, 3.0, 3.0]\n",
      "[6.0, 6.0, 6.0, 6.0, 5.0, 5.0, 5.0, 5.0, 4.0, 3.0, 3.0]\n"
     ]
    }
   ],
   "source": [
    "L = 1000\n",
    "V = 5000\n",
    "n= 500000\n",
    "macro_rmax = []\n",
    "macro_eta = [0.9, 0.91, 0.92, 0.93, 0.94, 0.95, 0.96, 0.97, 0.98, 0.99, 0.995]\n",
    "for eta in macro_eta:\n",
    "    R_rv = scipy.stats.hypergeom(n, L, V)\n",
    "    rmax = R_rv.isf(eta)\n",
    "    macro_rmax.append(rmax)\n",
    "    rmax, R_rv.sf(rmax-1)\n",
    "    #macrovopts.append(vopts)\n",
    "#for eta in macro_eta:\n",
    "print(macro_eta)\n",
    "print(macro_rmax)\n",
    "\n",
    "macro_r0 =[]\n",
    "for eta in macro_eta: \n",
    "    r0 = scipy.stats.hypergeom.isf(eta,n,L,V)\n",
    "    macro_r0.append(r0)\n",
    "    \n",
    "print(macro_r0)    "
   ]
  },
  {
   "cell_type": "code",
   "execution_count": 10,
   "metadata": {},
   "outputs": [
    {
     "name": "stdout",
     "output_type": "stream",
     "text": [
      "Vs =  [5000, 6000, 7000, 8000, 9000, 10000, 15000, 20000]\n",
      "r0 = [2.0, 3.0, 4.0, 5.0, 5.0, 6.0, 10.0, 14.0]\n"
     ]
    }
   ],
   "source": [
    "L = 1000\n",
    "n= 1000000\n",
    "Vs = [5000,6000,7000,8000,9000,10000,15000,20000]\n",
    "macro_rmax = []\n",
    "eta = 0.9\n",
    "# macro_eta = [0.9, 0.91, 0.92, 0.93, 0.94, 0.95, 0.96, 0.97, 0.98, 0.99, 0.995]\n",
    "for V in Vs:\n",
    "    R_rv = scipy.stats.hypergeom(n, L, V)\n",
    "    rmax = R_rv.isf(eta)\n",
    "    macro_rmax.append(rmax)\n",
    "    rmax, R_rv.sf(rmax-1)\n",
    "    #macrovopts.append(vopts)\n",
    "#for eta in macro_eta:\n",
    "print('Vs = ', Vs)\n",
    "print('r0 =', macro_rmax)"
   ]
  },
  {
   "cell_type": "code",
   "execution_count": 12,
   "metadata": {},
   "outputs": [
    {
     "name": "stdout",
     "output_type": "stream",
     "text": [
      "Vs =  [5000.0, 7500.0, 10000.0, 12500.0, 15000.0, 20000.0]\n",
      "r0 = [2.0, 3.0, 5.0, 7.0, 9.0, 13.0]\n"
     ]
    }
   ],
   "source": [
    "L = 1000\n",
    "n= 1000000\n",
    "# Vs = [5000,6000,7000,8000,9000,10000,15000,20000]\n",
    "# Vs = [5000,7500,10000,12500,15000,20000]\n",
    "Vs = [0.005*n,0.0075*n,0.01*n,0.0125*n,0.015*n,0.02*n]\n",
    "macro_rmax = []\n",
    "eta = 0.95\n",
    "# macro_eta = [0.9, 0.91, 0.92, 0.93, 0.94, 0.95, 0.96, 0.97, 0.98, 0.99, 0.995]\n",
    "for V in Vs:\n",
    "    R_rv = scipy.stats.hypergeom(n, L, V)\n",
    "    rmax = R_rv.isf(eta)\n",
    "    macro_rmax.append(rmax)\n",
    "    rmax, R_rv.sf(rmax-1)\n",
    "    #macrovopts.append(vopts)\n",
    "#for eta in macro_eta:\n",
    "print('Vs = ', Vs)\n",
    "print('r0 =', macro_rmax)\n",
    " "
   ]
  },
  {
   "cell_type": "code",
   "execution_count": 9,
   "metadata": {},
   "outputs": [
    {
     "name": "stdout",
     "output_type": "stream",
     "text": [
      "Vs =  [5000, 6000, 7000, 8000, 9000, 10000, 15000, 20000]\n",
      "r0 = [1.0, 1.0, 2.0, 2.0, 3.0, 3.0, 7.0, 10.0]\n"
     ]
    }
   ],
   "source": [
    "L = 1000\n",
    "n= 1000000\n",
    "Vs = [5000,6000,7000,8000,9000,10000,15000,20000]\n",
    "macro_rmax = []\n",
    "eta = 0.99\n",
    "# macro_eta = [0.9, 0.91, 0.92, 0.93, 0.94, 0.95, 0.96, 0.97, 0.98, 0.99, 0.995]\n",
    "for V in Vs:\n",
    "    R_rv = scipy.stats.hypergeom(n, L, V)\n",
    "    rmax = R_rv.isf(eta)\n",
    "    macro_rmax.append(rmax)\n",
    "    rmax, R_rv.sf(rmax-1)\n",
    "    #macrovopts.append(vopts)\n",
    "#for eta in macro_eta:\n",
    "print('Vs = ', Vs)\n",
    "print('r0 =', macro_rmax)\n",
    " "
   ]
  },
  {
   "cell_type": "code",
   "execution_count": 13,
   "metadata": {},
   "outputs": [
    {
     "name": "stdout",
     "output_type": "stream",
     "text": [
      "Vs =  [5000.0, 7500.0, 10000.0, 12500.0, 15000.0, 20000.0]\n",
      "r0 = [1.0, 2.0, 3.0, 5.0, 7.0, 10.0]\n"
     ]
    }
   ],
   "source": [
    "L = 1000\n",
    "n= 1000000\n",
    "# Vs = [5000,6000,7000,8000,9000,10000,15000,20000]\n",
    "# Vs = [5000,7500,10000,12500,15000,20000]\n",
    "Vs = [0.005*n,0.0075*n,0.01*n,0.0125*n,0.015*n,0.02*n]\n",
    "macro_rmax = []\n",
    "eta = 0.99\n",
    "# macro_eta = [0.9, 0.91, 0.92, 0.93, 0.94, 0.95, 0.96, 0.97, 0.98, 0.99, 0.995]\n",
    "for V in Vs:\n",
    "    R_rv = scipy.stats.hypergeom(n, L, V)\n",
    "    rmax = R_rv.isf(eta)\n",
    "    macro_rmax.append(rmax)\n",
    "    rmax, R_rv.sf(rmax-1)\n",
    "    #macrovopts.append(vopts)\n",
    "#for eta in macro_eta:\n",
    "print('Vs = ', Vs)\n",
    "print('r0 =', macro_rmax)\n",
    " "
   ]
  },
  {
   "cell_type": "code",
   "execution_count": null,
   "metadata": {},
   "outputs": [],
   "source": []
  }
 ],
 "metadata": {
  "kernelspec": {
   "display_name": "Python 3",
   "language": "python",
   "name": "python3"
  },
  "language_info": {
   "codemirror_mode": {
    "name": "ipython",
    "version": 3
   },
   "file_extension": ".py",
   "mimetype": "text/x-python",
   "name": "python",
   "nbconvert_exporter": "python",
   "pygments_lexer": "ipython3",
   "version": "3.7.4"
  }
 },
 "nbformat": 4,
 "nbformat_minor": 2
}
