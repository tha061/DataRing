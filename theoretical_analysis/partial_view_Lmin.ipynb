{
 "cells": [
  {
   "cell_type": "markdown",
   "metadata": {},
   "source": [
    "### Purpose\n",
    "This notebook is used to investigate the lower bound of the known records L_min"
   ]
  },
  {
   "cell_type": "code",
   "execution_count": 3,
   "metadata": {},
   "outputs": [],
   "source": [
    "import pandas as pd\n",
    "import numpy as np\n",
    "from numpy import linalg as la\n",
    "import matplotlib.pyplot as plot\n",
    "import seaborn as sns\n",
    "import scipy\n",
    "import math\n",
    "#from statsmodels.distributions.empirical_distribution import ECDF\n",
    "from functools import reduce\n",
    "from random import sample\n",
    "# import dill\n",
    "import os\n",
    "%matplotlib inline\n",
    "sns.set(style=\"ticks\")"
   ]
  },
  {
   "cell_type": "code",
   "execution_count": 3,
   "metadata": {},
   "outputs": [
    {
     "data": {
      "text/plain": [
       "0.005"
      ]
     },
     "execution_count": 3,
     "metadata": {},
     "output_type": "execute_result"
    }
   ],
   "source": [
    "(25/500000)*100"
   ]
  },
  {
   "cell_type": "code",
   "execution_count": 2,
   "metadata": {},
   "outputs": [
    {
     "name": "stdout",
     "output_type": "stream",
     "text": [
      "No previous session state saved, skipping...\n"
     ]
    }
   ],
   "source": [
    "# Try to load the internal states (content of variables, etc.) from a previously saved session state\n",
    "db_name = 'data/partial_view_no_rs.db'\n",
    "try:\n",
    "    dill.load_session(db_name) #Comment this line or delete the .db file if you want to start from a fresh state\n",
    "except FileNotFoundError:\n",
    "    print('No previous session state saved, skipping...')"
   ]
  },
  {
   "cell_type": "code",
   "execution_count": 3,
   "metadata": {},
   "outputs": [],
   "source": [
    "# Helper functions to detect and count known records\n",
    "\n",
    "def isin_row(df, record, cols=None):\n",
    "    cols = cols or df.columns\n",
    "    return reduce(lambda x, y:x&y, [df[f].isin([record[f]]) for f in cols]).any()\n",
    "\n",
    "def sample_records(df, records_count):\n",
    "    n = df.shape[0]\n",
    "    L = records_count\n",
    "    known_records_indexes = sample(range(n), k=L)\n",
    "    known_records = df.iloc[known_records_indexes,:]\n",
    "    return (known_records_indexes, known_records)\n",
    "\n",
    "def count_present_records(df, known_records):\n",
    "    records_present = 0\n",
    "    for i in range(len(known_records)):\n",
    "        rec = known_records.iloc[i,:]\n",
    "        if isin_row(df, rec):\n",
    "            records_present += 1\n",
    "    return records_present\n",
    "\n",
    "def count_present_records_distinguish(df, known_records, known_records_indexes):\n",
    "    records_occurrences = dict([])\n",
    "    for i in range(len(known_records)):\n",
    "        rec = known_records.iloc[i,:]\n",
    "        records_occurrences[known_records_indexes[i]] = 0\n",
    "        if isin_row(df, rec):\n",
    "            records_occurrences[known_records_indexes[i]] += 1\n",
    "    return records_occurrences\n",
    "\n",
    "def check_pass_test(df, known_records):\n",
    "    for i in range(len(known_records)):\n",
    "        rec = known_records.iloc[i,:]\n",
    "        if not isin_row(df, rec):\n",
    "            return False\n",
    "    return True"
   ]
  },
  {
   "cell_type": "markdown",
   "metadata": {},
   "source": [
    "### Lower bound for L\n",
    "This lower bound arises from the false positives necessary condition $r_0 > 0$.\n",
    "\n",
    "It is easy to see that $r_0 > 0 \\iff P(R_{V,L} = 0) \\leq 1-\\eta$\n",
    "so to get the absolute minimum $L$ (to ensure $r_0 >= 1$) we end up with: $$L_{min} = \\min \\left\\{L \\in [1,n] : \\frac{\\prod_{k=0}^{V}(n-k-L)}{\\prod_{k=0}^{V}(n-k)} \\leq 1-\\eta \\right\\}$$\n",
    "\n",
    "that is $$L_{min} = \\min \\left\\{L \\in [1,n] : \\frac{(n-L)(n-1-L)\\cdots (n-V+1-L)}{n(n-1)\\cdots (n-V+1)} \\leq 1-\\eta \\right\\}$$"
   ]
  },
  {
   "cell_type": "code",
   "execution_count": 12,
   "metadata": {},
   "outputs": [],
   "source": [
    "def get_L_min(r0, n, V, eta):\n",
    "    '''Calculate minimum L to ensure a given r0'''\n",
    "    L = 0\n",
    "    while int(scipy.stats.hypergeom.isf(eta, n, L, V)) < r0:\n",
    "        L += 1\n",
    "    return L\n",
    "\n"
   ]
  },
  {
   "cell_type": "code",
   "execution_count": 4,
   "metadata": {},
   "outputs": [],
   "source": [
    "def get_P0(n, V, L):\n",
    "    p0 = 1.0\n",
    "    for k in range(V): # k = 0,1,2...,V-1\n",
    "        p0 *= (n-L-k)/(n-k)\n",
    "    return p0\n",
    "\n"
   ]
  },
  {
   "cell_type": "code",
   "execution_count": 5,
   "metadata": {},
   "outputs": [],
   "source": [
    "def get_smallest_L_min(n, V, eta):\n",
    "    '''Calculate minimum L to ensure r0 >= 1'''\n",
    "    L = 0\n",
    "    while get_P0(n, V, L) > 1-eta: # see math justification above\n",
    "        L += 1\n",
    "    return L"
   ]
  },
  {
   "cell_type": "markdown",
   "metadata": {},
   "source": [
    "If the partial view is too small, we end up with $L_{min} > V$, which doesn't seem good..."
   ]
  },
  {
   "cell_type": "code",
   "execution_count": 13,
   "metadata": {},
   "outputs": [],
   "source": [
    "n = 1000000\n",
    "eta = 0.99\n",
    "Vs = [V for V in range(1000, 1000+10000, 1000)]\n",
    "#r0 = 1\n",
    "r0s = [1]\n",
    "Lmins = [[get_L_min(r0, n, V, eta) for V in Vs] for r0 in r0s]\n",
    "#Lmins = [get_smallest_L_min(n, V, eta) for V in Vs]"
   ]
  },
  {
   "cell_type": "code",
   "execution_count": 28,
   "metadata": {},
   "outputs": [
    {
     "data": {
      "text/plain": [
       "459"
      ]
     },
     "execution_count": 28,
     "metadata": {},
     "output_type": "execute_result"
    }
   ],
   "source": [
    "n = 1000000\n",
    "eta = 0.99\n",
    "V = 10000\n",
    "Lmins = get_smallest_L_min(n, V, eta)\n",
    "Lmins"
   ]
  },
  {
   "cell_type": "code",
   "execution_count": 27,
   "metadata": {},
   "outputs": [
    {
     "data": {
      "text/plain": [
       "459"
      ]
     },
     "execution_count": 27,
     "metadata": {},
     "output_type": "execute_result"
    }
   ],
   "source": [
    "n = 500000\n",
    "eta = 0.99\n",
    "V = 5000\n",
    "Lmins = get_smallest_L_min(n, V, eta)\n",
    "Lmins"
   ]
  },
  {
   "cell_type": "code",
   "execution_count": 16,
   "metadata": {},
   "outputs": [
    {
     "data": {
      "text/plain": [
       "(459, 0.0459)"
      ]
     },
     "execution_count": 16,
     "metadata": {},
     "output_type": "execute_result"
    },
    {
     "data": {
      "image/png": "[encoded data removed]",
      "text/plain": [
       "<Figure size 432x288 with 1 Axes>"
      ]
     },
     "metadata": {
      "needs_background": "light"
     },
     "output_type": "display_data"
    }
   ],
   "source": [
    "plot.title('Influence of PV size on $L_{min}$\\n' + 'n=' + str(n) + ', $\\eta$=' + str(eta))\n",
    "plot.xlabel('PV size')\n",
    "plot.ylabel('$L_{min}$')\n",
    "plot.plot(Vs, Lmins[0], Vs, Lmins[1], Vs, Lmins[2])\n",
    "plot.legend(['$r_0$=' + str(r0s[0]), '$r_0$=' + str(r0s[1]), '$r_0$=' + str(r0s[2])])\n",
    "plot.grid()\n",
    "Lmins[0][-1], Lmins[0][-1]/Vs[-1]"
   ]
  },
  {
   "cell_type": "code",
   "execution_count": 34,
   "metadata": {},
   "outputs": [
    {
     "data": {
      "text/plain": [
       "459"
      ]
     },
     "execution_count": 34,
     "metadata": {},
     "output_type": "execute_result"
    }
   ],
   "source": [
    "Lmins[0][-1]\n"
   ]
  },
  {
   "cell_type": "code",
   "execution_count": 17,
   "metadata": {},
   "outputs": [
    {
     "data": {
      "text/plain": [
       "838"
      ]
     },
     "execution_count": 17,
     "metadata": {},
     "output_type": "execute_result"
    }
   ],
   "source": [
    "Lmins[1][-1]"
   ]
  },
  {
   "cell_type": "code",
   "execution_count": 18,
   "metadata": {},
   "outputs": [
    {
     "data": {
      "text/plain": [
       "1001"
      ]
     },
     "execution_count": 18,
     "metadata": {},
     "output_type": "execute_result"
    }
   ],
   "source": [
    "Lmins[2][-1]"
   ]
  },
  {
   "cell_type": "code",
   "execution_count": 15,
   "metadata": {},
   "outputs": [],
   "source": [
    "n = 1000000\n",
    "eta = 0.95\n",
    "V = 10000\n",
    "#Vs = [V for V in range(1000, 1000+10000, 1000)]\n",
    "#r0 = 1\n",
    "r0s = [1, 2, 3, 4, 5, 6]\n",
    "#Lmins = [[get_L_min(r0, n, V, eta) for V in Vs] for r0 in r0s]\n",
    "# Lmins = [get_L_min(r0, n, V, eta) for r0 in r0s]\n",
    "Lmin_smallest = get_smallest_L_min(n, V, eta)"
   ]
  },
  {
   "cell_type": "code",
   "execution_count": 18,
   "metadata": {},
   "outputs": [],
   "source": [
    "n = 500000\n",
    "eta = 0.95\n",
    "V = 5000\n",
    "#Vs = [V for V in range(1000, 1000+10000, 1000)]\n",
    "#r0 = 1\n",
    "r0s = [1, 2, 3, 4, 5, 6]\n",
    "#Lmins = [[get_L_min(r0, n, V, eta) for V in Vs] for r0 in r0s]\n",
    "# Lmins = [get_L_min(r0, n, V, eta) for r0 in r0s]\n",
    "Lmin_smallest = get_smallest_L_min(n, V, eta)"
   ]
  },
  {
   "cell_type": "code",
   "execution_count": null,
   "metadata": {
    "scrolled": true
   },
   "outputs": [],
   "source": []
  },
  {
   "cell_type": "code",
   "execution_count": 19,
   "metadata": {},
   "outputs": [
    {
     "data": {
      "text/plain": [
       "298"
      ]
     },
     "execution_count": 19,
     "metadata": {},
     "output_type": "execute_result"
    }
   ],
   "source": [
    "Lmin_smallest"
   ]
  },
  {
   "cell_type": "code",
   "execution_count": 6,
   "metadata": {},
   "outputs": [
    {
     "data": {
      "text/plain": [
       "[459, 661, 838, 1001, 1157, 1307]"
      ]
     },
     "execution_count": 6,
     "metadata": {},
     "output_type": "execute_result"
    }
   ],
   "source": [
    "n = 1000000\n",
    "eta = 0.99\n",
    "V = 10000\n",
    "#Vs = [V for V in range(1000, 1000+10000, 1000)]\n",
    "#r0 = 1\n",
    "r0s = [1, 2, 3, 4, 5, 6]\n",
    "#Lmins = [[get_L_min(r0, n, V, eta) for V in Vs] for r0 in r0s]\n",
    "Lmins = [get_L_min(r0, n, V, eta) for r0 in r0s]\n",
    "#Lmins = [get_smallest_L_min(n, V, eta) for V in Vs]\n",
    "Lmins"
   ]
  },
  {
   "cell_type": "code",
   "execution_count": null,
   "metadata": {},
   "outputs": [],
   "source": []
  },
  {
   "cell_type": "code",
   "execution_count": 21,
   "metadata": {},
   "outputs": [],
   "source": [
    "n = 1000000\n",
    "eta = 0.99\n",
    "Vs = [V for V in range(1000, 1000+10000, 1000)]\n",
    "#r0 = 1\n",
    "r0s = [7,8,9,10,11,12]\n",
    "Lmins = [[get_L_min(r0, n, V, eta) for V in Vs] for r0 in r0s]\n",
    "#Lmins = [get_smallest_L_min(n, V, eta) for V in Vs]"
   ]
  },
  {
   "cell_type": "code",
   "execution_count": 22,
   "metadata": {},
   "outputs": [
    {
     "data": {
      "text/plain": [
       "[[14505, 7266, 4846, 3635, 2908, 2423, 2076, 1817, 1614, 1453],\n",
       " [15924, 7978, 5321, 3991, 3193, 2661, 2280, 1995, 1773, 1595],\n",
       " [17317, 8677, 5788, 4341, 3473, 2894, 2480, 2170, 1928, 1735],\n",
       " [18687, 9364, 6246, 4686, 3749, 3124, 2677, 2342, 2081, 1873],\n",
       " [20038, 10042, 6699, 5025, 4020, 3350, 2871, 2512, 2232, 2009],\n",
       " [21373, 10712, 7146, 5361, 4289, 3574, 3063, 2680, 2382, 2143]]"
      ]
     },
     "execution_count": 22,
     "metadata": {},
     "output_type": "execute_result"
    }
   ],
   "source": [
    "Lmins\n"
   ]
  },
  {
   "cell_type": "markdown",
   "metadata": {},
   "source": [
    "If we relax the constraint on $V$ and allow up to $\\frac{V}{n} \\approx 1\\%$, then $L_{min}$ becomes reasonably small $\\left(\\frac{L_{min}}{V} < 5\\%\\right)$."
   ]
  },
  {
   "cell_type": "code",
   "execution_count": 54,
   "metadata": {},
   "outputs": [
    {
     "data": {
      "text/plain": [
       "(2296842.1052631577, -2.2968421052631576)"
      ]
     },
     "execution_count": 54,
     "metadata": {},
     "output_type": "execute_result"
    },
    {
     "data": {
      "image/png": "[encoded data removed]",
      "text/plain": [
       "<Figure size 432x288 with 1 Axes>"
      ]
     },
     "metadata": {
      "needs_background": "light"
     },
     "output_type": "display_data"
    }
   ],
   "source": [
    "plot.xlabel('1/V')\n",
    "plot.ylabel('Lmin')\n",
    "plot.plot([1/V for V in Vs], Lmins[0])\n",
    "a = (Lmins[0][-1]-Lmins[0][0])/((1/Vs[-1]) - (1/Vs[0]))\n",
    "b = r0s[0] - (a/n)\n",
    "a, b"
   ]
  },
  {
   "cell_type": "code",
   "execution_count": 28,
   "metadata": {
    "collapsed": true,
    "jupyter": {
     "outputs_hidden": true
    }
   },
   "outputs": [],
   "source": [
    "# Save internal state to file\n",
    "save_state = False\n",
    "# !!!WARNING!!! This will overwrite the state without asking, uncomment following line if you are sure.\n",
    "#save_state = True\n",
    "if save_state:\n",
    "    del Da # Very big, and deterministic and quick to generate, so we don't save it\n",
    "    dill.dump_session(db_name)"
   ]
  },
  {
   "cell_type": "code",
   "execution_count": 5,
   "metadata": {
    "jupyter": {
     "outputs_hidden": true
    }
   },
   "outputs": [
    {
     "data": {
      "image/png": "[encoded data removed]",
      "text/plain": [
       "<Figure size 432x288 with 1 Axes>"
      ]
     },
     "metadata": {
      "needs_background": "light"
     },
     "output_type": "display_data"
    },
    {
     "data": {
      "text/plain": [
       "459"
      ]
     },
     "execution_count": 5,
     "metadata": {},
     "output_type": "execute_result"
    }
   ],
   "source": [
    "Lmins=[[2298, 1532, 1149, 919, 765, 656, 574, 510, 459],\n",
    " [3312, 2208, 1656, 1325, 1104, 946, 827, 735, 661],\n",
    " [4194, 2796, 2097, 1677, 1398, 1198, 1048, 931, 838],\n",
    " [5011, 3341, 2506, 2005, 1670, 1431, 1252, 1113, 1001],\n",
    " [5788, 3860, 2895, 2316, 1930, 1654, 1447, 1286, 1157],\n",
    " [6537, 4360, 3270, 2616, 2180, 1868, 1634, 1452, 1307], \n",
    " [7266, 4846, 3635, 2908, 2423, 2076, 1817, 1614, 1453],\n",
    " [7978, 5321, 3991, 3193, 2661, 2280, 1995, 1773, 1595],\n",
    " [8677, 5788, 4341, 3473, 2894, 2480, 2170, 1928, 1735],\n",
    " [9364, 6246, 4686, 3749, 3124, 2677, 2342, 2081, 1873],\n",
    " [10042, 6699, 5025, 4020, 3350, 2871, 2512, 2232, 2009],\n",
    " [10712, 7146, 5361, 4289, 3574, 3063, 2680, 2382, 2143]]\n",
    "\n",
    "Vs = [2000, 3000, 4000, 5000, 6000, 7000, 8000, 9000, 10000]\n",
    "y_stick = [1000, 2000, 3000, 4000, 5000, 6000, 7000, 8000, 9000, 10000]\n",
    "\n",
    "n=1000000\n",
    "eta=0.99\n",
    "r0s=[1,2,3,4,5,6,7,8,9,10,11,12]\n",
    "\n",
    "plot.title('Influence of partial view size on $L_{min}$\\n' + 'n=' + str(n) + ', $\\eta$=' + str(eta))\n",
    "plot.xlabel('partial view size')\n",
    "plot.ylabel('$L_{min}$')\n",
    "plot.yticks(y_stick, ['1000','2000','3000','4000','5000','6000','7000','8000','9000', '10000'])\n",
    "# plot.plot(Vs, Lmins[0], Vs, Lmins[2], Vs, Lmins[4])\n",
    "plot.plot(Vs, Lmins[0],'-go')\n",
    "# plot.legend(['$r_0$=' + str(r0s[0]), '$r_0$=' + str(r0s[2]), '$r_0$=' + str(r0s[4])])\n",
    "#plot.plot(Vs, Lmins[0], Vs, Lmins[3], Vs, Lmins[7], Vs, Lmins[10])\n",
    "#plot.legend(['$r_0$=' + str(r0s[0]), '$r_0$=' + str(r0s[3]), '$r_0$=' + str(r0s[7]), '$r_0$=' + str(r0s[10])])\n",
    "plot.grid()\n",
    "plot.savefig('Lmin_r0_1.png', dpi=300, bbox_inches='tight')\n",
    "plot.show()\n",
    "Lmins[0][-1]"
   ]
  },
  {
   "cell_type": "code",
   "execution_count": 7,
   "metadata": {},
   "outputs": [
    {
     "data": {
      "text/plain": [
       "([2000, 4000, 6000, 8000, 10000], [[1496, 748, 498, 373, 299]])"
      ]
     },
     "execution_count": 7,
     "metadata": {},
     "output_type": "execute_result"
    }
   ],
   "source": [
    "n = 1000000\n",
    "eta = 0.95\n",
    "Vs = [V for V in range(2000, 2000+10000, 2000)]\n",
    "#r0 = 1\n",
    "r0s = [1]\n",
    "Lmins = [[get_L_min(r0, n, V, eta) for V in Vs] for r0 in r0s]\n",
    "#Lmins = [get_smallest_L_min(n, V, eta) for V in Vs]\n",
    "Vs, Lmins"
   ]
  },
  {
   "cell_type": "code",
   "execution_count": 11,
   "metadata": {},
   "outputs": [
    {
     "ename": "KeyboardInterrupt",
     "evalue": "",
     "output_type": "error",
     "traceback": [
      "\u001b[1;31m---------------------------------------------------------------------------\u001b[0m",
      "\u001b[1;31mKeyboardInterrupt\u001b[0m                         Traceback (most recent call last)",
      "\u001b[1;32m<ipython-input-11-59ecf72fbc70>\u001b[0m in \u001b[0;36m<module>\u001b[1;34m\u001b[0m\n\u001b[0;32m      5\u001b[0m \u001b[0mr0s\u001b[0m \u001b[1;33m=\u001b[0m \u001b[1;33m[\u001b[0m\u001b[1;36m1\u001b[0m\u001b[1;33m]\u001b[0m\u001b[1;33m\u001b[0m\u001b[1;33m\u001b[0m\u001b[0m\n\u001b[0;32m      6\u001b[0m \u001b[1;31m# Lmins = [[get_L_min(r0, n, V, eta) for V in Vs] for r0 in r0s]\u001b[0m\u001b[1;33m\u001b[0m\u001b[1;33m\u001b[0m\u001b[1;33m\u001b[0m\u001b[0m\n\u001b[1;32m----> 7\u001b[1;33m \u001b[0mLmins\u001b[0m \u001b[1;33m=\u001b[0m \u001b[1;33m[\u001b[0m\u001b[0mget_smallest_L_min\u001b[0m\u001b[1;33m(\u001b[0m\u001b[0mn\u001b[0m\u001b[1;33m,\u001b[0m \u001b[0mV\u001b[0m\u001b[1;33m,\u001b[0m \u001b[0meta\u001b[0m\u001b[1;33m)\u001b[0m \u001b[1;32mfor\u001b[0m \u001b[0mV\u001b[0m \u001b[1;32min\u001b[0m \u001b[0mVs\u001b[0m\u001b[1;33m]\u001b[0m\u001b[1;33m\u001b[0m\u001b[1;33m\u001b[0m\u001b[0m\n\u001b[0m\u001b[0;32m      8\u001b[0m \u001b[0mLmins\u001b[0m\u001b[1;33m\u001b[0m\u001b[1;33m\u001b[0m\u001b[0m\n",
      "\u001b[1;32m<ipython-input-11-59ecf72fbc70>\u001b[0m in \u001b[0;36m<listcomp>\u001b[1;34m(.0)\u001b[0m\n\u001b[0;32m      5\u001b[0m \u001b[0mr0s\u001b[0m \u001b[1;33m=\u001b[0m \u001b[1;33m[\u001b[0m\u001b[1;36m1\u001b[0m\u001b[1;33m]\u001b[0m\u001b[1;33m\u001b[0m\u001b[1;33m\u001b[0m\u001b[0m\n\u001b[0;32m      6\u001b[0m \u001b[1;31m# Lmins = [[get_L_min(r0, n, V, eta) for V in Vs] for r0 in r0s]\u001b[0m\u001b[1;33m\u001b[0m\u001b[1;33m\u001b[0m\u001b[1;33m\u001b[0m\u001b[0m\n\u001b[1;32m----> 7\u001b[1;33m \u001b[0mLmins\u001b[0m \u001b[1;33m=\u001b[0m \u001b[1;33m[\u001b[0m\u001b[0mget_smallest_L_min\u001b[0m\u001b[1;33m(\u001b[0m\u001b[0mn\u001b[0m\u001b[1;33m,\u001b[0m \u001b[0mV\u001b[0m\u001b[1;33m,\u001b[0m \u001b[0meta\u001b[0m\u001b[1;33m)\u001b[0m \u001b[1;32mfor\u001b[0m \u001b[0mV\u001b[0m \u001b[1;32min\u001b[0m \u001b[0mVs\u001b[0m\u001b[1;33m]\u001b[0m\u001b[1;33m\u001b[0m\u001b[1;33m\u001b[0m\u001b[0m\n\u001b[0m\u001b[0;32m      8\u001b[0m \u001b[0mLmins\u001b[0m\u001b[1;33m\u001b[0m\u001b[1;33m\u001b[0m\u001b[0m\n",
      "\u001b[1;32m<ipython-input-5-a92c8cbb35c2>\u001b[0m in \u001b[0;36mget_smallest_L_min\u001b[1;34m(n, V, eta)\u001b[0m\n\u001b[0;32m      2\u001b[0m     \u001b[1;34m'''Calculate minimum L to ensure r0 >= 1'''\u001b[0m\u001b[1;33m\u001b[0m\u001b[1;33m\u001b[0m\u001b[0m\n\u001b[0;32m      3\u001b[0m     \u001b[0mL\u001b[0m \u001b[1;33m=\u001b[0m \u001b[1;36m0\u001b[0m\u001b[1;33m\u001b[0m\u001b[1;33m\u001b[0m\u001b[0m\n\u001b[1;32m----> 4\u001b[1;33m     \u001b[1;32mwhile\u001b[0m \u001b[0mget_P0\u001b[0m\u001b[1;33m(\u001b[0m\u001b[0mn\u001b[0m\u001b[1;33m,\u001b[0m \u001b[0mV\u001b[0m\u001b[1;33m,\u001b[0m \u001b[0mL\u001b[0m\u001b[1;33m)\u001b[0m \u001b[1;33m>\u001b[0m \u001b[1;36m1\u001b[0m\u001b[1;33m-\u001b[0m\u001b[0meta\u001b[0m\u001b[1;33m:\u001b[0m \u001b[1;31m# see math justification above\u001b[0m\u001b[1;33m\u001b[0m\u001b[1;33m\u001b[0m\u001b[0m\n\u001b[0m\u001b[0;32m      5\u001b[0m         \u001b[0mL\u001b[0m \u001b[1;33m+=\u001b[0m \u001b[1;36m1\u001b[0m\u001b[1;33m\u001b[0m\u001b[1;33m\u001b[0m\u001b[0m\n\u001b[0;32m      6\u001b[0m     \u001b[1;32mreturn\u001b[0m \u001b[0mL\u001b[0m\u001b[1;33m\u001b[0m\u001b[1;33m\u001b[0m\u001b[0m\n",
      "\u001b[1;32m<ipython-input-4-96917d79274d>\u001b[0m in \u001b[0;36mget_P0\u001b[1;34m(n, V, L)\u001b[0m\n\u001b[0;32m      2\u001b[0m     \u001b[0mp0\u001b[0m \u001b[1;33m=\u001b[0m \u001b[1;36m1.0\u001b[0m\u001b[1;33m\u001b[0m\u001b[1;33m\u001b[0m\u001b[0m\n\u001b[0;32m      3\u001b[0m     \u001b[1;32mfor\u001b[0m \u001b[0mk\u001b[0m \u001b[1;32min\u001b[0m \u001b[0mrange\u001b[0m\u001b[1;33m(\u001b[0m\u001b[0mV\u001b[0m\u001b[1;33m)\u001b[0m\u001b[1;33m:\u001b[0m \u001b[1;31m# k = 0,1,2...,V-1\u001b[0m\u001b[1;33m\u001b[0m\u001b[1;33m\u001b[0m\u001b[0m\n\u001b[1;32m----> 4\u001b[1;33m         \u001b[0mp0\u001b[0m \u001b[1;33m*=\u001b[0m \u001b[1;33m(\u001b[0m\u001b[0mn\u001b[0m\u001b[1;33m-\u001b[0m\u001b[0mL\u001b[0m\u001b[1;33m-\u001b[0m\u001b[0mk\u001b[0m\u001b[1;33m)\u001b[0m\u001b[1;33m/\u001b[0m\u001b[1;33m(\u001b[0m\u001b[0mn\u001b[0m\u001b[1;33m-\u001b[0m\u001b[0mk\u001b[0m\u001b[1;33m)\u001b[0m\u001b[1;33m\u001b[0m\u001b[1;33m\u001b[0m\u001b[0m\n\u001b[0m\u001b[0;32m      5\u001b[0m     \u001b[1;32mreturn\u001b[0m \u001b[0mp0\u001b[0m\u001b[1;33m\u001b[0m\u001b[1;33m\u001b[0m\u001b[0m\n\u001b[0;32m      6\u001b[0m \u001b[1;33m\u001b[0m\u001b[0m\n",
      "\u001b[1;31mKeyboardInterrupt\u001b[0m: "
     ]
    }
   ],
   "source": [
    "n = 1000000\n",
    "eta = 0.95\n",
    "Vs = [V for V in range(int(0.005*n), int(n), int(0.005*n))]\n",
    "#r0 = 1\n",
    "r0s = [1]\n",
    "# Lmins = [[get_L_min(r0, n, V, eta) for V in Vs] for r0 in r0s]\n",
    "Lmins = [get_smallest_L_min(n, V, eta) for V in Vs]\n",
    "Lmins\n"
   ]
  },
  {
   "cell_type": "code",
   "execution_count": 31,
   "metadata": {
    "scrolled": true
   },
   "outputs": [
    {
     "name": "stdout",
     "output_type": "stream",
     "text": [
      "Vs =  [5000, 10000, 15000, 20000, 25000, 30000, 35000, 40000, 45000, 50000, 55000, 60000, 65000, 70000, 75000, 80000, 85000, 90000, 95000, 100000]\n",
      "Lmins090 = [460, 230, 153, 114, 91, 76, 65, 57, 51, 45, 41, 38, 35, 32, 30, 28, 26, 25, 24, 22]\n",
      "Lmins095 = [598, 299, 199, 149, 119, 99, 85, 74, 66, 59, 53, 49, 45, 42, 39, 36, 34, 32, 31, 29]\n",
      "Lmins099 = [919, 459, 305, 228, 182, 152, 130, 113, 101, 90, 82, 75, 69, 64, 60, 56, 52, 49, 47, 44]\n"
     ]
    },
    {
     "data": {
      "image/png": "[encoded data removed]",
      "text/plain": [
       "<Figure size 432x288 with 1 Axes>"
      ]
     },
     "metadata": {},
     "output_type": "display_data"
    }
   ],
   "source": [
    "n = 1000000\n",
    "etas=[0.90, 0.95, 0.99]\n",
    "# ratios = [ratio for ratio in range(0.005, 0.99, 0.005)]\n",
    "Vs = [V for V in range(int(0.005*n), int(0.105*n), int(0.005*n))]\n",
    "#r0 = 1\n",
    "r0 = 1\n",
    "print('Vs = ', Vs)    \n",
    "    \n",
    "Lmins090 = [get_L_min(r0, n, V, etas[0]) for V in Vs] \n",
    "Lmins095 = [get_L_min(r0, n, V, etas[1]) for V in Vs]\n",
    "Lmins099 = [get_L_min(r0, n, V, etas[2]) for V in Vs] \n",
    "\n",
    "#Lmins = [get_smallest_L_min(n, V, eta) for V in Vs]\n",
    "# Vs[-1], Lmins[-1]\n",
    "\n",
    "print('Lmins090 =', Lmins090)\n",
    "print('Lmins095 =', Lmins095)\n",
    "print('Lmins099 =', Lmins099)\n",
    "x_stick = [0.5,1,1.5,2,2.5,3,3.5,4,4.5,5,5.5,6,6.5,7,7.5,8,8.5,9,9.5,10]\n",
    "# plot.title('Impact of ratio of partial view size to dataset size and $\\eta$ on $L_{min}$\\n')\n",
    "plot.xlabel('Ratio of partial view size to dataset size (%)')\n",
    "plot.ylabel('$L_{min}$')\n",
    "plot.xticks(x_stick, ['0.5','1','1.5','2','2.5','3','3.5','4','4.5', '5','5.5','6','6.5','7','7.5','8','8.5','9','9.5','10'])\n",
    "# plot.plot(Vs, Lmins090, '-go', Vs, Lmins095, '-r*',Vs, Lmins099, '-ks')\n",
    "plot.plot(x_stick, Lmins090, '-go', x_stick, Lmins095, '-r*',x_stick, Lmins099, '-ks')\n",
    "# plot.plot(ratios, Lmins090, '-go', ratios, Lmins095, '-r*',ratios, Lmins099, '-ks')\n",
    "plot.legend(['$\\eta$=' + str(etas[0]), '$\\eta$=' + str(etas[1]), '$\\eta$=' + str(etas[2])])\n",
    "#plot.plot(Vs, Lmins[0], Vs, Lmins[3], Vs, Lmins[7], Vs, Lmins[10])\n",
    "#plot.legend(['$r_0$=' + str(r0s[0]), '$r_0$=' + str(r0s[3]), '$r_0$=' + str(r0s[7]), '$r_0$=' + str(r0s[10])])\n",
    "plot.grid()\n",
    "plot.savefig('Lmin_ratioPV_n_eta_1M.pdf', dpi=300, bbox_inches='tight')\n",
    "plot.show()\n",
    "\n",
    "\n"
   ]
  },
  {
   "cell_type": "code",
   "execution_count": 30,
   "metadata": {
    "scrolled": true
   },
   "outputs": [
    {
     "name": "stdout",
     "output_type": "stream",
     "text": [
      "Vs =  [2500, 5000, 7500, 10000, 12500, 15000, 17500, 20000, 22500, 25000, 27500, 30000, 32500, 35000, 37500, 40000, 42500, 45000, 47500, 50000]\n",
      "Lmins090 = [460, 230, 153, 114, 91, 76, 65, 57, 51, 45, 41, 38, 35, 32, 30, 28, 26, 25, 24, 22]\n",
      "Lmins095 = [598, 298, 199, 149, 119, 99, 85, 74, 66, 59, 53, 49, 45, 42, 39, 36, 34, 32, 31, 29]\n",
      "Lmins099 = [918, 459, 305, 228, 182, 152, 130, 113, 101, 90, 82, 75, 69, 64, 60, 56, 52, 49, 47, 44]\n"
     ]
    },
    {
     "data": {
      "image/png": "[encoded data removed]",
      "text/plain": [
       "<Figure size 432x288 with 1 Axes>"
      ]
     },
     "metadata": {},
     "output_type": "display_data"
    }
   ],
   "source": [
    "n = 500000\n",
    "etas=[0.90, 0.95, 0.99]\n",
    "# ratios = [ratio for ratio in range(0.005, 0.99, 0.005)]\n",
    "Vs = [V for V in range(int(0.005*n), int(0.105*n), int(0.005*n))]\n",
    "#r0 = 1\n",
    "r0 = 1\n",
    "print('Vs = ', Vs)    \n",
    "    \n",
    "Lmins090 = [get_L_min(r0, n, V, etas[0]) for V in Vs] \n",
    "Lmins095 = [get_L_min(r0, n, V, etas[1]) for V in Vs]\n",
    "Lmins099 = [get_L_min(r0, n, V, etas[2]) for V in Vs] \n",
    "\n",
    "#Lmins = [get_smallest_L_min(n, V, eta) for V in Vs]\n",
    "# Vs[-1], Lmins[-1]\n",
    "\n",
    "print('Lmins090 =', Lmins090)\n",
    "print('Lmins095 =', Lmins095)\n",
    "print('Lmins099 =', Lmins099)\n",
    "x_stick = [0.5,1,1.5,2,2.5,3,3.5,4,4.5,5,5.5,6,6.5,7,7.5,8,8.5,9,9.5,10]\n",
    "# plot.title('Impact of ratio of partial view size to dataset size and $\\eta$ on $L_{min}$\\n')\n",
    "plot.xlabel('Ratio of partial view size to dataset size (%)')\n",
    "plot.ylabel('$L_{min}$')\n",
    "plot.xticks(x_stick, ['0.5','1','1.5','2','2.5','3','3.5','4','4.5', '5','5.5','6','6.5','7','7.5','8','8.5','9','9.5','10'])\n",
    "# plot.plot(Vs, Lmins090, '-go', Vs, Lmins095, '-r*',Vs, Lmins099, '-ks')\n",
    "plot.plot(x_stick, Lmins090, '-go', x_stick, Lmins095, '-r*',x_stick, Lmins099, '-ks')\n",
    "# plot.plot(ratios, Lmins090, '-go', ratios, Lmins095, '-r*',ratios, Lmins099, '-ks')\n",
    "plot.legend(['$\\eta$=' + str(etas[0]), '$\\eta$=' + str(etas[1]), '$\\eta$=' + str(etas[2])])\n",
    "#plot.plot(Vs, Lmins[0], Vs, Lmins[3], Vs, Lmins[7], Vs, Lmins[10])\n",
    "#plot.legend(['$r_0$=' + str(r0s[0]), '$r_0$=' + str(r0s[3]), '$r_0$=' + str(r0s[7]), '$r_0$=' + str(r0s[10])])\n",
    "plot.grid()\n",
    "plot.savefig('Lmin_ratioPV_n_eta_500K.pdf', dpi=300, bbox_inches='tight')\n",
    "plot.show()\n",
    "\n",
    "\n"
   ]
  },
  {
   "cell_type": "code",
   "execution_count": 32,
   "metadata": {},
   "outputs": [
    {
     "name": "stdout",
     "output_type": "stream",
     "text": [
      "Vs =  [4000, 8000, 12000, 16000, 20000, 24000, 28000, 32000, 36000, 40000, 44000, 48000, 52000, 56000, 60000, 64000, 68000, 72000, 76000, 80000]\n",
      "Lmins090 = [460, 230, 153, 114, 91, 76, 65, 57, 51, 45, 41, 38, 35, 32, 30, 28, 26, 25, 24, 22]\n",
      "Lmins095 = [598, 299, 199, 149, 119, 99, 85, 74, 66, 59, 53, 49, 45, 42, 39, 36, 34, 32, 31, 29]\n",
      "Lmins099 = [919, 459, 305, 228, 182, 152, 130, 113, 101, 90, 82, 75, 69, 64, 60, 56, 52, 49, 47, 44]\n"
     ]
    },
    {
     "data": {
      "image/png": "[encoded data removed]",
      "text/plain": [
       "<Figure size 432x288 with 1 Axes>"
      ]
     },
     "metadata": {},
     "output_type": "display_data"
    }
   ],
   "source": [
    "n = 800000\n",
    "etas=[0.90, 0.95, 0.99]\n",
    "# ratios = [ratio for ratio in range(0.005, 0.99, 0.005)]\n",
    "Vs = [V for V in range(int(0.005*n), int(0.105*n), int(0.005*n))]\n",
    "#r0 = 1\n",
    "r0 = 1\n",
    "print('Vs = ', Vs)    \n",
    "    \n",
    "Lmins090 = [get_L_min(r0, n, V, etas[0]) for V in Vs] \n",
    "Lmins095 = [get_L_min(r0, n, V, etas[1]) for V in Vs]\n",
    "Lmins099 = [get_L_min(r0, n, V, etas[2]) for V in Vs] \n",
    "\n",
    "#Lmins = [get_smallest_L_min(n, V, eta) for V in Vs]\n",
    "# Vs[-1], Lmins[-1]\n",
    "\n",
    "print('Lmins090 =', Lmins090)\n",
    "print('Lmins095 =', Lmins095)\n",
    "print('Lmins099 =', Lmins099)\n",
    "x_stick = [0.5,1,1.5,2,2.5,3,3.5,4,4.5,5,5.5,6,6.5,7,7.5,8,8.5,9,9.5,10]\n",
    "# plot.title('Impact of ratio of partial view size to dataset size and $\\eta$ on $L_{min}$\\n')\n",
    "plot.xlabel('Ratio of partial view size to dataset size (%)')\n",
    "plot.ylabel('$L_{min}$')\n",
    "plot.xticks(x_stick, ['0.5','1','1.5','2','2.5','3','3.5','4','4.5', '5','5.5','6','6.5','7','7.5','8','8.5','9','9.5','10'])\n",
    "# plot.plot(Vs, Lmins090, '-go', Vs, Lmins095, '-r*',Vs, Lmins099, '-ks')\n",
    "plot.plot(x_stick, Lmins090, '-go', x_stick, Lmins095, '-r*',x_stick, Lmins099, '-ks')\n",
    "# plot.plot(ratios, Lmins090, '-go', ratios, Lmins095, '-r*',ratios, Lmins099, '-ks')\n",
    "plot.legend(['$\\eta$=' + str(etas[0]), '$\\eta$=' + str(etas[1]), '$\\eta$=' + str(etas[2])])\n",
    "#plot.plot(Vs, Lmins[0], Vs, Lmins[3], Vs, Lmins[7], Vs, Lmins[10])\n",
    "#plot.legend(['$r_0$=' + str(r0s[0]), '$r_0$=' + str(r0s[3]), '$r_0$=' + str(r0s[7]), '$r_0$=' + str(r0s[10])])\n",
    "plot.grid()\n",
    "plot.savefig('Lmin_ratioPV_n_eta_800K.pdf', dpi=300, bbox_inches='tight')\n",
    "plot.show()\n",
    "\n",
    "\n"
   ]
  },
  {
   "cell_type": "code",
   "execution_count": null,
   "metadata": {},
   "outputs": [],
   "source": []
  }
 ],
 "metadata": {
  "kernelspec": {
   "display_name": "Python 3",
   "language": "python",
   "name": "python3"
  },
  "language_info": {
   "codemirror_mode": {
    "name": "ipython",
    "version": 3
   },
   "file_extension": ".py",
   "mimetype": "text/x-python",
   "name": "python",
   "nbconvert_exporter": "python",
   "pygments_lexer": "ipython3",
   "version": "3.7.4"
  }
 },
 "nbformat": 4,
 "nbformat_minor": 4
}
