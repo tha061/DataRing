{
 "cells": [
  {
   "cell_type": "markdown",
   "metadata": {},
   "source": [
    "### Purpose\n",
    "This notebook is used to investigate the lower bound of the ratio of partial view size to dataset size: \\alpha"
   ]
  },
  {
   "cell_type": "code",
   "execution_count": 1,
   "metadata": {},
   "outputs": [],
   "source": [
    "import pandas as pd\n",
    "import numpy as np\n",
    "from numpy import linalg as la\n",
    "import matplotlib.pyplot as plot\n",
    "import seaborn as sns\n",
    "import scipy\n",
    "import math\n",
    "#from statsmodels.distributions.empirical_distribution import ECDF\n",
    "from functools import reduce\n",
    "from random import sample\n",
    "# import dill\n",
    "import os\n",
    "%matplotlib inline\n",
    "sns.set(style=\"ticks\")"
   ]
  },
  {
   "cell_type": "code",
   "execution_count": 2,
   "metadata": {},
   "outputs": [
    {
     "name": "stdout",
     "output_type": "stream",
     "text": [
      "No previous session state saved, skipping...\n"
     ]
    }
   ],
   "source": [
    "# Try to load the internal states (content of variables, etc.) from a previously saved session state\n",
    "db_name = 'data/partial_view_no_rs.db'\n",
    "try:\n",
    "    dill.load_session(db_name) #Comment this line or delete the .db file if you want to start from a fresh state\n",
    "except FileNotFoundError:\n",
    "    print('No previous session state saved, skipping...')"
   ]
  },
  {
   "cell_type": "code",
   "execution_count": 1,
   "metadata": {},
   "outputs": [],
   "source": [
    "# Helper functions to detect and count known records\n",
    "\n",
    "def isin_row(df, record, cols=None):\n",
    "    cols = cols or df.columns\n",
    "    return reduce(lambda x, y:x&y, [df[f].isin([record[f]]) for f in cols]).any()\n",
    "\n",
    "def sample_records(df, records_count):\n",
    "    n = df.shape[0]\n",
    "    L = records_count\n",
    "    known_records_indexes = sample(range(n), k=L)\n",
    "    known_records = df.iloc[known_records_indexes,:]\n",
    "    return (known_records_indexes, known_records)\n",
    "\n",
    "def count_present_records(df, known_records):\n",
    "    records_present = 0\n",
    "    for i in range(len(known_records)):\n",
    "        rec = known_records.iloc[i,:]\n",
    "        if isin_row(df, rec):\n",
    "            records_present += 1\n",
    "    return records_present\n",
    "\n",
    "def count_present_records_distinguish(df, known_records, known_records_indexes):\n",
    "    records_occurrences = dict([])\n",
    "    for i in range(len(known_records)):\n",
    "        rec = known_records.iloc[i,:]\n",
    "        records_occurrences[known_records_indexes[i]] = 0\n",
    "        if isin_row(df, rec):\n",
    "            records_occurrences[known_records_indexes[i]] += 1\n",
    "    return records_occurrences\n",
    "\n",
    "def check_pass_test(df, known_records):\n",
    "    for i in range(len(known_records)):\n",
    "        rec = known_records.iloc[i,:]\n",
    "        if not isin_row(df, rec):\n",
    "            return False\n",
    "    return True"
   ]
  },
  {
   "cell_type": "markdown",
   "metadata": {},
   "source": [
    "### Lower bound for \\alpha\n",
    "This lower bound arises from the false positives necessary condition $r_0 > 0$.\n",
    "\n",
    "It is easy to see that $r_0 > 0 \\iff P(R_{V,L} = 0) \\leq 1-\\eta$\n",
    "so to get the absolute minimum $\\alpha$ (to ensure $r_0 >= 1$) we end up with: $$\\alpha_{min} = \\min \\left\\{\\alpha \\in [1/n,1] : \\frac{\\prod_{k=0}^{\\alpha*n -1}(n-k-L)}{\\prod_{k=0}^{\\alpha*n -1}(n-k)} \\leq 1-\\eta \\right\\}$$\n",
    "\n",
    "that is $$\\alpha_{min} = \\min \\left\\{\\alpha \\in [1/n,1] : \\frac{(n-L)(n-1-L)\\cdots (n-\\alpha*n + 1-L)}{n(n-1)\\cdots (n- \\alpha*n+1)} \\leq 1-\\eta \\right\\}$$"
   ]
  },
  {
   "cell_type": "code",
   "execution_count": 2,
   "metadata": {},
   "outputs": [],
   "source": [
    "def get_alpha_min(r0, n, L, eta):\n",
    "    '''Calculate minimum alpha to ensure a given r0'''\n",
    "    alpha = 0\n",
    "    while int(scipy.stats.hypergeom.isf(eta, n, L, alpha*n)) < r0:\n",
    "        alpha += 1/n\n",
    "    return alpha\n",
    "\n"
   ]
  },
  {
   "cell_type": "code",
   "execution_count": 21,
   "metadata": {},
   "outputs": [
    {
     "data": {
      "text/plain": [
       "33554432"
      ]
     },
     "execution_count": 21,
     "metadata": {},
     "output_type": "execute_result"
    }
   ],
   "source": [
    "2**25"
   ]
  },
  {
   "cell_type": "code",
   "execution_count": 3,
   "metadata": {},
   "outputs": [],
   "source": [
    "def get_P0(n, Vmin, L):\n",
    "    p0 = 1.0\n",
    "    for k in range(Vmin): # k = 0,1,2...,V-1\n",
    "        p0 *= (n-L-k)/(n-k)\n",
    "    return p0\n",
    "\n"
   ]
  },
  {
   "cell_type": "code",
   "execution_count": 4,
   "metadata": {},
   "outputs": [],
   "source": [
    "def get_smallest_alpha_min(n, L, eta):\n",
    "    '''Calculate minimum alpha to ensure to ensure r0 >= 1'''\n",
    "    V = 0\n",
    "    alpha = 0\n",
    "    while get_P0(n, V, L) >= 1-eta: # see math justification above\n",
    "        V +=1\n",
    "    alpha = V/n\n",
    "    return alpha"
   ]
  },
  {
   "cell_type": "code",
   "execution_count": 8,
   "metadata": {},
   "outputs": [
    {
     "data": {
      "text/plain": [
       "(0.029512, 14756.0)"
      ]
     },
     "execution_count": 8,
     "metadata": {},
     "output_type": "execute_result"
    }
   ],
   "source": [
    "n = 500000\n",
    "eta = 0.95\n",
    "L = 100\n",
    "\n",
    "alpha_min = get_smallest_alpha_min(n, L, eta)\n",
    "V_min = alpha_min*n\n",
    "alpha_min, V_min"
   ]
  },
  {
   "cell_type": "code",
   "execution_count": 6,
   "metadata": {},
   "outputs": [
    {
     "data": {
      "text/plain": [
       "(0.002989999999999947, 1494.9999999999736)"
      ]
     },
     "execution_count": 6,
     "metadata": {},
     "output_type": "execute_result"
    }
   ],
   "source": [
    "n = 500000\n",
    "eta = 0.95\n",
    "L = 1000\n",
    "r0=1\n",
    "\n",
    "alpha_min = get_alpha_min(r0,n, L, eta)\n",
    "V_min = alpha_min*n\n",
    "alpha_min, V_min"
   ]
  },
  {
   "cell_type": "code",
   "execution_count": 17,
   "metadata": {},
   "outputs": [
    {
     "data": {
      "text/plain": [
       "([500000, 800000, 1000000], [0.058154, 0.05815375, 0.058154])"
      ]
     },
     "execution_count": 17,
     "metadata": {},
     "output_type": "execute_result"
    }
   ],
   "source": [
    "eta = 0.95\n",
    "ns=[500000, 800000, 1000000]\n",
    "L = 50\n",
    "    \n",
    "# alpha_min_090 = get_smallest_alpha_min(n, L, etas[0])\n",
    "# alpha_min_095 = get_smallest_alpha_min(n, L, etas[1])\n",
    "# alpha_min_099 = get_smallest_alpha_min(n, L, etas[2])\n",
    "\n",
    "\n",
    "alpha_min_s = [get_smallest_alpha_min(n, L, eta) for n in ns]\n",
    "ns, alpha_min_s\n",
    "\n"
   ]
  },
  {
   "cell_type": "code",
   "execution_count": 18,
   "metadata": {},
   "outputs": [
    {
     "data": {
      "text/plain": [
       "([500000, 800000, 1000000], [0.258864, 0.258865, 0.258865])"
      ]
     },
     "execution_count": 18,
     "metadata": {},
     "output_type": "execute_result"
    }
   ],
   "source": [
    "eta = 0.95\n",
    "ns=[500000, 800000, 1000000]\n",
    "L = 10\n",
    "    \n",
    "# alpha_min_090 = get_smallest_alpha_min(n, L, etas[0])\n",
    "# alpha_min_095 = get_smallest_alpha_min(n, L, etas[1])\n",
    "# alpha_min_099 = get_smallest_alpha_min(n, L, etas[2])\n",
    "\n",
    "\n",
    "alpha_min_s = [get_smallest_alpha_min(n, L, eta) for n in ns]\n",
    "ns, alpha_min_s\n",
    "\n"
   ]
  },
  {
   "cell_type": "code",
   "execution_count": 2,
   "metadata": {},
   "outputs": [
    {
     "data": {
      "text/plain": [
       "(130000.0, 208000.0, 260000.0)"
      ]
     },
     "execution_count": 2,
     "metadata": {},
     "output_type": "execute_result"
    }
   ],
   "source": [
    "0.26*500000, 0.26*800000, 0.26*1000000"
   ]
  },
  {
   "cell_type": "code",
   "execution_count": 16,
   "metadata": {},
   "outputs": [
    {
     "data": {
      "text/plain": [
       "(0.00299, 1495.0)"
      ]
     },
     "execution_count": 16,
     "metadata": {},
     "output_type": "execute_result"
    }
   ],
   "source": [
    "n = 500000\n",
    "eta = 0.95\n",
    "L = 1000\n",
    "\n",
    "alpha_min = get_smallest_alpha_min(n, L, eta)\n",
    "V_min = alpha_min*n\n",
    "alpha_min, V_min"
   ]
  },
  {
   "cell_type": "code",
   "execution_count": 26,
   "metadata": {},
   "outputs": [
    {
     "data": {
      "text/plain": [
       "(0.258864, 129431.99999999999)"
      ]
     },
     "execution_count": 26,
     "metadata": {},
     "output_type": "execute_result"
    }
   ],
   "source": [
    "n = 500000\n",
    "eta = 0.95\n",
    "L = 10\n",
    "\n",
    "alpha_min = get_smallest_alpha_min(n, L, eta)\n",
    "V_min = alpha_min*n\n",
    "alpha_min, V_min"
   ]
  },
  {
   "cell_type": "code",
   "execution_count": 27,
   "metadata": {},
   "outputs": [
    {
     "ename": "KeyboardInterrupt",
     "evalue": "",
     "output_type": "error",
     "traceback": [
      "\u001b[1;31m---------------------------------------------------------------------------\u001b[0m",
      "\u001b[1;31mKeyboardInterrupt\u001b[0m                         Traceback (most recent call last)",
      "\u001b[1;32m<ipython-input-27-c471411bc44f>\u001b[0m in \u001b[0;36m<module>\u001b[1;34m\u001b[0m\n\u001b[0;32m      3\u001b[0m \u001b[0mL\u001b[0m \u001b[1;33m=\u001b[0m \u001b[1;36m1\u001b[0m\u001b[1;33m\u001b[0m\u001b[1;33m\u001b[0m\u001b[0m\n\u001b[0;32m      4\u001b[0m \u001b[1;33m\u001b[0m\u001b[0m\n\u001b[1;32m----> 5\u001b[1;33m \u001b[0malpha_min\u001b[0m \u001b[1;33m=\u001b[0m \u001b[0mget_smallest_alpha_min\u001b[0m\u001b[1;33m(\u001b[0m\u001b[0mn\u001b[0m\u001b[1;33m,\u001b[0m \u001b[0mL\u001b[0m\u001b[1;33m,\u001b[0m \u001b[0meta\u001b[0m\u001b[1;33m)\u001b[0m\u001b[1;33m\u001b[0m\u001b[1;33m\u001b[0m\u001b[0m\n\u001b[0m\u001b[0;32m      6\u001b[0m \u001b[0mV_min\u001b[0m \u001b[1;33m=\u001b[0m \u001b[0malpha_min\u001b[0m\u001b[1;33m*\u001b[0m\u001b[0mn\u001b[0m\u001b[1;33m\u001b[0m\u001b[1;33m\u001b[0m\u001b[0m\n\u001b[0;32m      7\u001b[0m \u001b[0malpha_min\u001b[0m\u001b[1;33m,\u001b[0m \u001b[0mV_min\u001b[0m\u001b[1;33m\u001b[0m\u001b[1;33m\u001b[0m\u001b[0m\n",
      "\u001b[1;32m<ipython-input-4-6088302fe62a>\u001b[0m in \u001b[0;36mget_smallest_alpha_min\u001b[1;34m(n, L, eta)\u001b[0m\n\u001b[0;32m      3\u001b[0m     \u001b[0mV\u001b[0m \u001b[1;33m=\u001b[0m \u001b[1;36m0\u001b[0m\u001b[1;33m\u001b[0m\u001b[1;33m\u001b[0m\u001b[0m\n\u001b[0;32m      4\u001b[0m     \u001b[0malpha\u001b[0m \u001b[1;33m=\u001b[0m \u001b[1;36m0\u001b[0m\u001b[1;33m\u001b[0m\u001b[1;33m\u001b[0m\u001b[0m\n\u001b[1;32m----> 5\u001b[1;33m     \u001b[1;32mwhile\u001b[0m \u001b[0mget_P0\u001b[0m\u001b[1;33m(\u001b[0m\u001b[0mn\u001b[0m\u001b[1;33m,\u001b[0m \u001b[0mV\u001b[0m\u001b[1;33m,\u001b[0m \u001b[0mL\u001b[0m\u001b[1;33m)\u001b[0m \u001b[1;33m>=\u001b[0m \u001b[1;36m1\u001b[0m\u001b[1;33m-\u001b[0m\u001b[0meta\u001b[0m\u001b[1;33m:\u001b[0m \u001b[1;31m# see math justification above\u001b[0m\u001b[1;33m\u001b[0m\u001b[1;33m\u001b[0m\u001b[0m\n\u001b[0m\u001b[0;32m      6\u001b[0m         \u001b[0mV\u001b[0m \u001b[1;33m+=\u001b[0m\u001b[1;36m1\u001b[0m\u001b[1;33m\u001b[0m\u001b[1;33m\u001b[0m\u001b[0m\n\u001b[0;32m      7\u001b[0m     \u001b[0malpha\u001b[0m \u001b[1;33m=\u001b[0m \u001b[0mV\u001b[0m\u001b[1;33m/\u001b[0m\u001b[0mn\u001b[0m\u001b[1;33m\u001b[0m\u001b[1;33m\u001b[0m\u001b[0m\n",
      "\u001b[1;32m<ipython-input-3-8694fbb4b57c>\u001b[0m in \u001b[0;36mget_P0\u001b[1;34m(n, Vmin, L)\u001b[0m\n\u001b[0;32m      2\u001b[0m     \u001b[0mp0\u001b[0m \u001b[1;33m=\u001b[0m \u001b[1;36m1.0\u001b[0m\u001b[1;33m\u001b[0m\u001b[1;33m\u001b[0m\u001b[0m\n\u001b[0;32m      3\u001b[0m     \u001b[1;32mfor\u001b[0m \u001b[0mk\u001b[0m \u001b[1;32min\u001b[0m \u001b[0mrange\u001b[0m\u001b[1;33m(\u001b[0m\u001b[0mVmin\u001b[0m\u001b[1;33m)\u001b[0m\u001b[1;33m:\u001b[0m \u001b[1;31m# k = 0,1,2...,V-1\u001b[0m\u001b[1;33m\u001b[0m\u001b[1;33m\u001b[0m\u001b[0m\n\u001b[1;32m----> 4\u001b[1;33m         \u001b[0mp0\u001b[0m \u001b[1;33m*=\u001b[0m \u001b[1;33m(\u001b[0m\u001b[0mn\u001b[0m\u001b[1;33m-\u001b[0m\u001b[0mL\u001b[0m\u001b[1;33m-\u001b[0m\u001b[0mk\u001b[0m\u001b[1;33m)\u001b[0m\u001b[1;33m/\u001b[0m\u001b[1;33m(\u001b[0m\u001b[0mn\u001b[0m\u001b[1;33m-\u001b[0m\u001b[0mk\u001b[0m\u001b[1;33m)\u001b[0m\u001b[1;33m\u001b[0m\u001b[1;33m\u001b[0m\u001b[0m\n\u001b[0m\u001b[0;32m      5\u001b[0m     \u001b[1;32mreturn\u001b[0m \u001b[0mp0\u001b[0m\u001b[1;33m\u001b[0m\u001b[1;33m\u001b[0m\u001b[0m\n\u001b[0;32m      6\u001b[0m \u001b[1;33m\u001b[0m\u001b[0m\n",
      "\u001b[1;31mKeyboardInterrupt\u001b[0m: "
     ]
    }
   ],
   "source": [
    "n = 500000\n",
    "eta = 0.95\n",
    "L = 1\n",
    "\n",
    "alpha_min = get_smallest_alpha_min(n, L, eta)\n",
    "V_min = alpha_min*n\n",
    "alpha_min, V_min"
   ]
  },
  {
   "cell_type": "code",
   "execution_count": 11,
   "metadata": {},
   "outputs": [
    {
     "data": {
      "text/plain": [
       "(0.002989999999999947, 1494.9999999999736)"
      ]
     },
     "execution_count": 11,
     "metadata": {},
     "output_type": "execute_result"
    }
   ],
   "source": [
    "n = 500000\n",
    "eta = 0.95\n",
    "L = 1000\n",
    "\n",
    "alpha_min = get_alpha_min(1, n, L, eta)\n",
    "V_min = alpha_min*n\n",
    "alpha_min, V_min\n"
   ]
  },
  {
   "cell_type": "code",
   "execution_count": 15,
   "metadata": {},
   "outputs": [
    {
     "data": {
      "text/plain": [
       "(0.002989999999999839, 2690.9999999998554)"
      ]
     },
     "execution_count": 15,
     "metadata": {},
     "output_type": "execute_result"
    }
   ],
   "source": [
    "n = 900000\n",
    "eta = 0.95\n",
    "L = 1000\n",
    "\n",
    "alpha_min = get_alpha_min(1, n, L, eta)\n",
    "V_min = alpha_min*n\n",
    "alpha_min, V_min\n"
   ]
  },
  {
   "cell_type": "code",
   "execution_count": 14,
   "metadata": {},
   "outputs": [
    {
     "data": {
      "text/plain": [
       "(0.00299, 2990.0)"
      ]
     },
     "execution_count": 14,
     "metadata": {},
     "output_type": "execute_result"
    }
   ],
   "source": [
    "n = 1000000\n",
    "eta = 0.95\n",
    "# L = int(n*0.001)\n",
    "L = 1000\n",
    "\n",
    "alpha_min = get_smallest_alpha_min(n, L, eta)\n",
    "V_min = alpha_min*n\n",
    "alpha_min, V_min"
   ]
  },
  {
   "cell_type": "code",
   "execution_count": null,
   "metadata": {},
   "outputs": [],
   "source": []
  },
  {
   "cell_type": "code",
   "execution_count": 22,
   "metadata": {},
   "outputs": [
    {
     "name": "stdout",
     "output_type": "stream",
     "text": [
      "alpha_min090 = 0.002299\n",
      "alpha_min095 = 0.00299\n",
      "alpha_min099 = 0.004593\n"
     ]
    }
   ],
   "source": [
    "n = 1000000\n",
    "etas=[0.90, 0.95, 0.99]\n",
    "L = 1000\n",
    "\n",
    "    \n",
    "alpha_min_090 = get_smallest_alpha_min(n, L, etas[0])\n",
    "alpha_min_095 = get_smallest_alpha_min(n, L, etas[1])\n",
    "alpha_min_099 = get_smallest_alpha_min(n, L, etas[2])\n",
    "\n",
    "#Lmins = [get_smallest_L_min(n, V, eta) for V in Vs]\n",
    "# Vs[-1], Lmins[-1]\n",
    "\n",
    "print('alpha_min090 =', alpha_min_090)\n",
    "print('alpha_min095 =', alpha_min_095)\n",
    "print('alpha_min099 =', alpha_min_099)\n",
    "\n",
    "\n"
   ]
  },
  {
   "cell_type": "code",
   "execution_count": 26,
   "metadata": {},
   "outputs": [
    {
     "data": {
      "text/plain": [
       "([0.9, 0.92, 0.94, 0.95, 0.96, 0.98, 0.99],\n",
       " [0.0022998, 0.0025224, 0.0028092, 0.002991, 0.0032134, 0.003904, 0.0045942])"
      ]
     },
     "execution_count": 26,
     "metadata": {},
     "output_type": "execute_result"
    }
   ],
   "source": [
    "n = 5000000\n",
    "etas=[0.90, 0.92, 0.94, 0.95, 0.96, 0.98, 0.99]\n",
    "L = 1000\n",
    "    \n",
    "# alpha_min_090 = get_smallest_alpha_min(n, L, etas[0])\n",
    "# alpha_min_095 = get_smallest_alpha_min(n, L, etas[1])\n",
    "# alpha_min_099 = get_smallest_alpha_min(n, L, etas[2])\n",
    "\n",
    "\n",
    "alpha_min_s = [get_smallest_alpha_min(n, L, eta) for eta in etas]\n",
    "etas, alpha_min_s\n",
    "\n",
    "# print('alpha_min090 =', alpha_min_090)\n",
    "# print('alpha_min095 =', alpha_min_095)\n",
    "# print('alpha_min099 =', alpha_min_099)\n"
   ]
  },
  {
   "cell_type": "code",
   "execution_count": 32,
   "metadata": {},
   "outputs": [
    {
     "data": {
      "text/plain": [
       "([0.9, 0.92, 0.94, 0.95, 0.96, 0.98, 0.99],\n",
       " [0.002299, 0.002522, 0.002809, 0.00299, 0.003213, 0.003903, 0.004593])"
      ]
     },
     "execution_count": 32,
     "metadata": {},
     "output_type": "execute_result"
    }
   ],
   "source": [
    "n = 1000000\n",
    "etas=[0.90, 0.92, 0.94, 0.95, 0.96, 0.98, 0.99]\n",
    "L = 1000\n",
    "    \n",
    "# alpha_min_090 = get_smallest_alpha_min(n, L, etas[0])\n",
    "# alpha_min_095 = get_smallest_alpha_min(n, L, etas[1])\n",
    "# alpha_min_099 = get_smallest_alpha_min(n, L, etas[2])\n",
    "\n",
    "\n",
    "alpha_min_s = [get_smallest_alpha_min(n, L, eta) for eta in etas]\n",
    "etas, alpha_min_s\n",
    "\n",
    "# print('alpha_min090 =', alpha_min_090)\n",
    "# print('alpha_min095 =', alpha_min_095)\n",
    "# print('alpha_min099 =', alpha_min_099)\n"
   ]
  },
  {
   "cell_type": "code",
   "execution_count": null,
   "metadata": {},
   "outputs": [],
   "source": []
  }
 ],
 "metadata": {
  "kernelspec": {
   "display_name": "Python 3",
   "language": "python",
   "name": "python3"
  },
  "language_info": {
   "codemirror_mode": {
    "name": "ipython",
    "version": 3
   },
   "file_extension": ".py",
   "mimetype": "text/x-python",
   "name": "python",
   "nbconvert_exporter": "python",
   "pygments_lexer": "ipython3",
   "version": "3.7.4"
  }
 },
 "nbformat": 4,
 "nbformat_minor": 4
}
